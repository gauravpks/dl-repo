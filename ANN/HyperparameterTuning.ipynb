{
  "nbformat": 4,
  "nbformat_minor": 0,
  "metadata": {
    "colab": {
      "name": "TF2.0 ANN Regression",
      "provenance": [],
      "collapsed_sections": [],
      "include_colab_link": true
    },
    "kernelspec": {
      "name": "python3",
      "display_name": "Python 3"
    },
    "accelerator": "GPU"
  },
  "cells": [
    {
      "cell_type": "markdown",
      "metadata": {
        "id": "view-in-github",
        "colab_type": "text"
      },
      "source": [
        "<a href=\"https://colab.research.google.com/github/gauravpks/dl-repo/blob/master/ANN/HyperparameterTuning.ipynb\" target=\"_parent\"><img src=\"https://colab.research.google.com/assets/colab-badge.svg\" alt=\"Open In Colab\"/></a>"
      ]
    },
    {
      "cell_type": "markdown",
      "metadata": {
        "id": "zzfSorgwc7jP"
      },
      "source": [
        "# Hyperparameter tuning with Keras Tuner"
      ]
    },
    {
      "cell_type": "code",
      "metadata": {
        "id": "PkMbogrAOFzD",
        "colab": {
          "base_uri": "https://localhost:8080/"
        },
        "outputId": "08149b9f-f615-460a-c173-ddb753c2f75d"
      },
      "source": [
        "# Install TensorFlow\n",
        "# !pip install -q tensorflow-gpu==2.0.0-beta1\n",
        "\n",
        "try:\n",
        "  %tensorflow_version 2.x  # Colab only.\n",
        "except Exception:\n",
        "  pass\n",
        "\n",
        "import tensorflow as tf\n",
        "print(tf.__version__)"
      ],
      "execution_count": 16,
      "outputs": [
        {
          "output_type": "stream",
          "text": [
            "`%tensorflow_version` only switches the major version: 1.x or 2.x.\n",
            "You set: `2.x  # Colab only.`. This will be interpreted as: `2.x`.\n",
            "\n",
            "\n",
            "TensorFlow is already loaded. Please restart the runtime to change versions.\n",
            "2.4.0\n"
          ],
          "name": "stdout"
        }
      ]
    },
    {
      "cell_type": "code",
      "metadata": {
        "id": "p-xPshg0klFS",
        "outputId": "45aab01e-3480-4673-9c9b-8e840a7cdeae",
        "colab": {
          "base_uri": "https://localhost:8080/"
        }
      },
      "source": [
        "!pip install -U keras-tuner"
      ],
      "execution_count": 13,
      "outputs": [
        {
          "output_type": "stream",
          "text": [
            "Collecting keras-tuner\n",
            "\u001b[?25l  Downloading https://files.pythonhosted.org/packages/20/ec/1ef246787174b1e2bb591c95f29d3c1310070cad877824f907faba3dade9/keras-tuner-1.0.2.tar.gz (62kB)\n",
            "\r\u001b[K     |█████▏                          | 10kB 24.2MB/s eta 0:00:01\r\u001b[K     |██████████▍                     | 20kB 31.0MB/s eta 0:00:01\r\u001b[K     |███████████████▋                | 30kB 13.4MB/s eta 0:00:01\r\u001b[K     |████████████████████▉           | 40kB 9.8MB/s eta 0:00:01\r\u001b[K     |██████████████████████████      | 51kB 8.6MB/s eta 0:00:01\r\u001b[K     |███████████████████████████████▎| 61kB 9.0MB/s eta 0:00:01\r\u001b[K     |████████████████████████████████| 71kB 5.9MB/s \n",
            "\u001b[?25hRequirement already satisfied, skipping upgrade: packaging in /usr/local/lib/python3.6/dist-packages (from keras-tuner) (20.8)\n",
            "Requirement already satisfied, skipping upgrade: future in /usr/local/lib/python3.6/dist-packages (from keras-tuner) (0.16.0)\n",
            "Requirement already satisfied, skipping upgrade: numpy in /usr/local/lib/python3.6/dist-packages (from keras-tuner) (1.19.4)\n",
            "Requirement already satisfied, skipping upgrade: tabulate in /usr/local/lib/python3.6/dist-packages (from keras-tuner) (0.8.7)\n",
            "Collecting terminaltables\n",
            "  Downloading https://files.pythonhosted.org/packages/9b/c4/4a21174f32f8a7e1104798c445dacdc1d4df86f2f26722767034e4de4bff/terminaltables-3.1.0.tar.gz\n",
            "Collecting colorama\n",
            "  Downloading https://files.pythonhosted.org/packages/44/98/5b86278fbbf250d239ae0ecb724f8572af1c91f4a11edf4d36a206189440/colorama-0.4.4-py2.py3-none-any.whl\n",
            "Requirement already satisfied, skipping upgrade: tqdm in /usr/local/lib/python3.6/dist-packages (from keras-tuner) (4.41.1)\n",
            "Requirement already satisfied, skipping upgrade: requests in /usr/local/lib/python3.6/dist-packages (from keras-tuner) (2.23.0)\n",
            "Requirement already satisfied, skipping upgrade: scipy in /usr/local/lib/python3.6/dist-packages (from keras-tuner) (1.4.1)\n",
            "Requirement already satisfied, skipping upgrade: scikit-learn in /usr/local/lib/python3.6/dist-packages (from keras-tuner) (0.22.2.post1)\n",
            "Requirement already satisfied, skipping upgrade: pyparsing>=2.0.2 in /usr/local/lib/python3.6/dist-packages (from packaging->keras-tuner) (2.4.7)\n",
            "Requirement already satisfied, skipping upgrade: certifi>=2017.4.17 in /usr/local/lib/python3.6/dist-packages (from requests->keras-tuner) (2020.12.5)\n",
            "Requirement already satisfied, skipping upgrade: urllib3!=1.25.0,!=1.25.1,<1.26,>=1.21.1 in /usr/local/lib/python3.6/dist-packages (from requests->keras-tuner) (1.24.3)\n",
            "Requirement already satisfied, skipping upgrade: chardet<4,>=3.0.2 in /usr/local/lib/python3.6/dist-packages (from requests->keras-tuner) (3.0.4)\n",
            "Requirement already satisfied, skipping upgrade: idna<3,>=2.5 in /usr/local/lib/python3.6/dist-packages (from requests->keras-tuner) (2.10)\n",
            "Requirement already satisfied, skipping upgrade: joblib>=0.11 in /usr/local/lib/python3.6/dist-packages (from scikit-learn->keras-tuner) (1.0.0)\n",
            "Building wheels for collected packages: keras-tuner, terminaltables\n",
            "  Building wheel for keras-tuner (setup.py) ... \u001b[?25l\u001b[?25hdone\n",
            "  Created wheel for keras-tuner: filename=keras_tuner-1.0.2-cp36-none-any.whl size=78939 sha256=4b6f814575855fc129a705a7fe90e78b38f4546c89f5fbe53141e16f0a4d1fe5\n",
            "  Stored in directory: /root/.cache/pip/wheels/bb/a1/8a/7c3de0efb3707a1701b36ebbfdbc4e67aedf6d4943a1f463d6\n",
            "  Building wheel for terminaltables (setup.py) ... \u001b[?25l\u001b[?25hdone\n",
            "  Created wheel for terminaltables: filename=terminaltables-3.1.0-cp36-none-any.whl size=15358 sha256=11d3c8e29bfa4d5aec481fda608250d19135649a64eaf716b470e898d5710465\n",
            "  Stored in directory: /root/.cache/pip/wheels/30/6b/50/6c75775b681fb36cdfac7f19799888ef9d8813aff9e379663e\n",
            "Successfully built keras-tuner terminaltables\n",
            "Installing collected packages: terminaltables, colorama, keras-tuner\n",
            "Successfully installed colorama-0.4.4 keras-tuner-1.0.2 terminaltables-3.1.0\n"
          ],
          "name": "stdout"
        }
      ]
    },
    {
      "cell_type": "code",
      "metadata": {
        "id": "e9hL-ONukPo7"
      },
      "source": [
        "import pandas as pd\r\n",
        "import numpy as np\r\n",
        "import matplotlib.pyplot as plt\r\n",
        "import tensorflow as tf\r\n",
        "from tensorflow import keras\r\n",
        "from tensorflow.keras import layers\r\n",
        "from kerastuner.tuners import RandomSearch\r\n",
        "from kerastuner.tuners import Hyperband"
      ],
      "execution_count": 14,
      "outputs": []
    },
    {
      "cell_type": "markdown",
      "metadata": {
        "id": "Hb6CU8q2kehW"
      },
      "source": [
        "**Hyperparameters**\r\n",
        "1. How many number of hidden layers we should have?\r\n",
        "2. How many number of neurons we should have in hidden layers?\r\n",
        "3. Learning Rate"
      ]
    },
    {
      "cell_type": "code",
      "metadata": {
        "id": "QBc89ZK4eBrU"
      },
      "source": [
        "from sklearn.datasets import fetch_california_housing\r\n",
        "from sklearn.model_selection import train_test_split\r\n",
        "from sklearn.preprocessing import StandardScaler\r\n",
        "\r\n",
        "housing = fetch_california_housing()\r\n",
        "\r\n",
        "X_train_full, X_test, y_train_full, y_test = train_test_split(housing.data, housing.target, random_state=42)\r\n",
        "X_train, X_valid, y_train, y_valid = train_test_split(X_train_full, y_train_full, random_state=42)\r\n",
        "\r\n",
        "scaler = StandardScaler()\r\n",
        "X_train = scaler.fit_transform(X_train)\r\n",
        "X_valid = scaler.transform(X_valid)\r\n",
        "X_test = scaler.transform(X_test)"
      ],
      "execution_count": 16,
      "outputs": []
    },
    {
      "cell_type": "code",
      "metadata": {
        "id": "3jGDUAlHYOY2",
        "colab": {
          "base_uri": "https://localhost:8080/"
        },
        "outputId": "33b9a78d-e4b3-4c46-b1c6-28d23c566e18"
      },
      "source": [
        "X_train.shape"
      ],
      "execution_count": 20,
      "outputs": [
        {
          "output_type": "execute_result",
          "data": {
            "text/plain": [
              "(11610, 8)"
            ]
          },
          "metadata": {
            "tags": []
          },
          "execution_count": 20
        }
      ]
    },
    {
      "cell_type": "code",
      "metadata": {
        "id": "hRUuX7MveHjx"
      },
      "source": [
        "np.random.seed(42)\r\n",
        "tf.random.set_seed(42)"
      ],
      "execution_count": 21,
      "outputs": []
    },
    {
      "cell_type": "markdown",
      "metadata": {
        "id": "UGFeubCPlQ8k"
      },
      "source": [
        "**Function for Building Model**"
      ]
    },
    {
      "cell_type": "code",
      "metadata": {
        "id": "oAfiYwdjlPS7"
      },
      "source": [
        "def build_model(hp):\r\n",
        "    model = keras.Sequential()\r\n",
        "    for i in range(hp.Int('num_layers', 2, 20)):\r\n",
        "        model.add(layers.Dense(units=hp.Int('units_' + str(i),\r\n",
        "                                            min_value=32,\r\n",
        "                                            max_value=512,\r\n",
        "                                            step=32),\r\n",
        "                               activation='relu'))\r\n",
        "    model.add(layers.Dense(1, activation='softplus'))\r\n",
        "    model.compile(\r\n",
        "        optimizer=keras.optimizers.Adam(\r\n",
        "            hp.Choice('learning_rate', [1e-2, 1e-3, 1e-4])),\r\n",
        "        loss='mean_absolute_error',\r\n",
        "        metrics=['mean_absolute_error'])\r\n",
        "    return model"
      ],
      "execution_count": 17,
      "outputs": []
    },
    {
      "cell_type": "markdown",
      "metadata": {
        "id": "pN0yrjlP1Dhd"
      },
      "source": [
        "**Using RandomSearch**"
      ]
    },
    {
      "cell_type": "code",
      "metadata": {
        "id": "2CIBmo2ulyM3"
      },
      "source": [
        "tuner = RandomSearch(\r\n",
        "    build_model,\r\n",
        "    objective='val_mean_absolute_error',\r\n",
        "    max_trials=5,\r\n",
        "    executions_per_trial=3,\r\n",
        "    directory='project',\r\n",
        "    project_name='Housing')"
      ],
      "execution_count": 19,
      "outputs": []
    },
    {
      "cell_type": "code",
      "metadata": {
        "id": "8ZMJq9QlmDHK",
        "outputId": "45afa8de-430d-455e-b035-cb3bae7fb057",
        "colab": {
          "base_uri": "https://localhost:8080/"
        }
      },
      "source": [
        "tuner.search_space_summary()"
      ],
      "execution_count": 20,
      "outputs": [
        {
          "output_type": "stream",
          "text": [
            "Search space summary\n",
            "Default search space size: 4\n",
            "num_layers (Int)\n",
            "{'default': None, 'conditions': [], 'min_value': 2, 'max_value': 20, 'step': 1, 'sampling': None}\n",
            "units_0 (Int)\n",
            "{'default': None, 'conditions': [], 'min_value': 32, 'max_value': 512, 'step': 32, 'sampling': None}\n",
            "units_1 (Int)\n",
            "{'default': None, 'conditions': [], 'min_value': 32, 'max_value': 512, 'step': 32, 'sampling': None}\n",
            "learning_rate (Choice)\n",
            "{'default': 0.01, 'conditions': [], 'values': [0.01, 0.001, 0.0001], 'ordered': True}\n"
          ],
          "name": "stdout"
        }
      ]
    },
    {
      "cell_type": "code",
      "metadata": {
        "id": "QV1y6hW_mo7m",
        "outputId": "c20fc603-e72f-41f8-b884-0f174333c619",
        "colab": {
          "base_uri": "https://localhost:8080/"
        }
      },
      "source": [
        "tuner.search(X_train, y_train,\r\n",
        "             epochs=5,\r\n",
        "             validation_data=(X_test, y_test))"
      ],
      "execution_count": 21,
      "outputs": [
        {
          "output_type": "stream",
          "text": [
            "Trial 5 Complete [00h 00m 25s]\n",
            "val_mean_absolute_error: 0.37122658888498944\n",
            "\n",
            "Best val_mean_absolute_error So Far: 0.37122658888498944\n",
            "Total elapsed time: 00h 02m 07s\n",
            "INFO:tensorflow:Oracle triggered exit\n"
          ],
          "name": "stdout"
        }
      ]
    },
    {
      "cell_type": "code",
      "metadata": {
        "id": "ppz22bN1n-m3",
        "outputId": "4ca2e15d-738d-42ae-dc0d-780f1bc4b28d",
        "colab": {
          "base_uri": "https://localhost:8080/"
        }
      },
      "source": [
        "tuner.results_summary()"
      ],
      "execution_count": 22,
      "outputs": [
        {
          "output_type": "stream",
          "text": [
            "Results summary\n",
            "Results in project/Housing\n",
            "Showing 10 best trials\n",
            "Objective(name='val_mean_absolute_error', direction='min')\n",
            "Trial summary\n",
            "Hyperparameters:\n",
            "num_layers: 12\n",
            "units_0: 224\n",
            "units_1: 352\n",
            "learning_rate: 0.0001\n",
            "units_2: 320\n",
            "units_3: 256\n",
            "units_4: 320\n",
            "units_5: 480\n",
            "units_6: 256\n",
            "units_7: 288\n",
            "units_8: 288\n",
            "units_9: 64\n",
            "units_10: 480\n",
            "units_11: 416\n",
            "units_12: 288\n",
            "units_13: 32\n",
            "units_14: 448\n",
            "units_15: 480\n",
            "Score: 0.37122658888498944\n",
            "Trial summary\n",
            "Hyperparameters:\n",
            "num_layers: 9\n",
            "units_0: 224\n",
            "units_1: 480\n",
            "learning_rate: 0.0001\n",
            "units_2: 256\n",
            "units_3: 480\n",
            "units_4: 288\n",
            "units_5: 128\n",
            "units_6: 288\n",
            "units_7: 256\n",
            "units_8: 384\n",
            "units_9: 64\n",
            "Score: 0.3745770951112111\n",
            "Trial summary\n",
            "Hyperparameters:\n",
            "num_layers: 16\n",
            "units_0: 384\n",
            "units_1: 448\n",
            "learning_rate: 0.0001\n",
            "units_2: 128\n",
            "units_3: 448\n",
            "units_4: 224\n",
            "units_5: 160\n",
            "units_6: 128\n",
            "units_7: 480\n",
            "units_8: 192\n",
            "units_9: 256\n",
            "units_10: 32\n",
            "units_11: 32\n",
            "units_12: 32\n",
            "units_13: 32\n",
            "units_14: 32\n",
            "units_15: 32\n",
            "Score: 0.3812527259190877\n",
            "Trial summary\n",
            "Hyperparameters:\n",
            "num_layers: 10\n",
            "units_0: 352\n",
            "units_1: 480\n",
            "learning_rate: 0.001\n",
            "units_2: 32\n",
            "units_3: 32\n",
            "units_4: 32\n",
            "units_5: 32\n",
            "units_6: 32\n",
            "units_7: 32\n",
            "units_8: 32\n",
            "units_9: 32\n",
            "Score: 0.3816102047761281\n",
            "Trial summary\n",
            "Hyperparameters:\n",
            "num_layers: 8\n",
            "units_0: 96\n",
            "units_1: 480\n",
            "learning_rate: 0.01\n",
            "units_2: 384\n",
            "units_3: 448\n",
            "units_4: 480\n",
            "units_5: 448\n",
            "units_6: 512\n",
            "units_7: 320\n",
            "units_8: 448\n",
            "units_9: 192\n",
            "units_10: 64\n",
            "units_11: 320\n",
            "units_12: 160\n",
            "units_13: 128\n",
            "units_14: 64\n",
            "units_15: 352\n",
            "Score: 0.4112381041049957\n"
          ],
          "name": "stdout"
        }
      ]
    },
    {
      "cell_type": "code",
      "metadata": {
        "id": "YFkckOussclW"
      },
      "source": [
        "best_hps = tuner.get_best_hyperparameters(num_trials = 1)[0]"
      ],
      "execution_count": 23,
      "outputs": []
    },
    {
      "cell_type": "code",
      "metadata": {
        "id": "zLLpg-1HvcmH"
      },
      "source": [
        "best_model = tuner.get_best_models(num_models=1)[0]"
      ],
      "execution_count": 24,
      "outputs": []
    },
    {
      "cell_type": "code",
      "metadata": {
        "id": "14gwDzEDufQ2",
        "outputId": "6aea1e32-5a37-42aa-91ef-c664bfd08f98",
        "colab": {
          "base_uri": "https://localhost:8080/"
        }
      },
      "source": [
        "best_model.evaluate(X_train, y_train)"
      ],
      "execution_count": 25,
      "outputs": [
        {
          "output_type": "stream",
          "text": [
            "363/363 [==============================] - 1s 2ms/step - loss: 0.3553 - mean_absolute_error: 0.3553\n"
          ],
          "name": "stdout"
        },
        {
          "output_type": "execute_result",
          "data": {
            "text/plain": [
              "[0.3548550605773926, 0.3548550605773926]"
            ]
          },
          "metadata": {
            "tags": []
          },
          "execution_count": 25
        }
      ]
    },
    {
      "cell_type": "code",
      "metadata": {
        "id": "l1ABx81esU6T",
        "outputId": "f2dcfbaa-769f-42fc-e9a9-a0487040dba8",
        "colab": {
          "base_uri": "https://localhost:8080/"
        }
      },
      "source": [
        "# Build the model with the optimal hyperparameters and train it on the data\r\n",
        "model = tuner.hypermodel.build(best_hps)\r\n",
        "history= model.fit(X_train, y_train, epochs = 20, validation_data = (X_valid, y_valid))"
      ],
      "execution_count": 26,
      "outputs": [
        {
          "output_type": "stream",
          "text": [
            "Epoch 1/20\n",
            "363/363 [==============================] - 2s 4ms/step - loss: 0.8303 - mean_absolute_error: 0.8303 - val_loss: 0.4213 - val_mean_absolute_error: 0.4213\n",
            "Epoch 2/20\n",
            "363/363 [==============================] - 1s 4ms/step - loss: 0.4184 - mean_absolute_error: 0.4184 - val_loss: 0.4352 - val_mean_absolute_error: 0.4352\n",
            "Epoch 3/20\n",
            "363/363 [==============================] - 1s 4ms/step - loss: 0.4059 - mean_absolute_error: 0.4059 - val_loss: 0.3936 - val_mean_absolute_error: 0.3936\n",
            "Epoch 4/20\n",
            "363/363 [==============================] - 1s 4ms/step - loss: 0.3892 - mean_absolute_error: 0.3892 - val_loss: 0.3691 - val_mean_absolute_error: 0.3691\n",
            "Epoch 5/20\n",
            "363/363 [==============================] - 1s 4ms/step - loss: 0.3864 - mean_absolute_error: 0.3864 - val_loss: 0.3754 - val_mean_absolute_error: 0.3754\n",
            "Epoch 6/20\n",
            "363/363 [==============================] - 1s 4ms/step - loss: 0.3666 - mean_absolute_error: 0.3666 - val_loss: 0.3984 - val_mean_absolute_error: 0.3984\n",
            "Epoch 7/20\n",
            "363/363 [==============================] - 1s 4ms/step - loss: 0.3564 - mean_absolute_error: 0.3564 - val_loss: 0.3450 - val_mean_absolute_error: 0.3450\n",
            "Epoch 8/20\n",
            "363/363 [==============================] - 1s 4ms/step - loss: 0.3505 - mean_absolute_error: 0.3505 - val_loss: 0.3555 - val_mean_absolute_error: 0.3555\n",
            "Epoch 9/20\n",
            "363/363 [==============================] - 1s 4ms/step - loss: 0.3503 - mean_absolute_error: 0.3503 - val_loss: 0.3656 - val_mean_absolute_error: 0.3656\n",
            "Epoch 10/20\n",
            "363/363 [==============================] - 1s 4ms/step - loss: 0.3425 - mean_absolute_error: 0.3425 - val_loss: 0.3573 - val_mean_absolute_error: 0.3573\n",
            "Epoch 11/20\n",
            "363/363 [==============================] - 1s 4ms/step - loss: 0.3443 - mean_absolute_error: 0.3443 - val_loss: 0.3350 - val_mean_absolute_error: 0.3350\n",
            "Epoch 12/20\n",
            "363/363 [==============================] - 1s 4ms/step - loss: 0.3341 - mean_absolute_error: 0.3341 - val_loss: 0.3437 - val_mean_absolute_error: 0.3437\n",
            "Epoch 13/20\n",
            "363/363 [==============================] - 1s 4ms/step - loss: 0.3330 - mean_absolute_error: 0.3330 - val_loss: 0.3403 - val_mean_absolute_error: 0.3403\n",
            "Epoch 14/20\n",
            "363/363 [==============================] - 1s 4ms/step - loss: 0.3275 - mean_absolute_error: 0.3275 - val_loss: 0.3370 - val_mean_absolute_error: 0.3370\n",
            "Epoch 15/20\n",
            "363/363 [==============================] - 1s 4ms/step - loss: 0.3185 - mean_absolute_error: 0.3185 - val_loss: 0.3387 - val_mean_absolute_error: 0.3387\n",
            "Epoch 16/20\n",
            "363/363 [==============================] - 1s 4ms/step - loss: 0.3233 - mean_absolute_error: 0.3233 - val_loss: 0.3403 - val_mean_absolute_error: 0.3403\n",
            "Epoch 17/20\n",
            "363/363 [==============================] - 1s 4ms/step - loss: 0.3184 - mean_absolute_error: 0.3184 - val_loss: 0.3419 - val_mean_absolute_error: 0.3419\n",
            "Epoch 18/20\n",
            "363/363 [==============================] - 1s 4ms/step - loss: 0.3156 - mean_absolute_error: 0.3156 - val_loss: 0.3472 - val_mean_absolute_error: 0.3472\n",
            "Epoch 19/20\n",
            "363/363 [==============================] - 1s 4ms/step - loss: 0.3173 - mean_absolute_error: 0.3173 - val_loss: 0.3438 - val_mean_absolute_error: 0.3438\n",
            "Epoch 20/20\n",
            "363/363 [==============================] - 1s 4ms/step - loss: 0.3069 - mean_absolute_error: 0.3069 - val_loss: 0.3695 - val_mean_absolute_error: 0.3695\n"
          ],
          "name": "stdout"
        }
      ]
    },
    {
      "cell_type": "code",
      "metadata": {
        "id": "vJQkGtVcymRT",
        "outputId": "3e09ae40-bd11-41f4-e6cf-5bbb9c28dc56",
        "colab": {
          "base_uri": "https://localhost:8080/"
        }
      },
      "source": [
        "model.summary()"
      ],
      "execution_count": 27,
      "outputs": [
        {
          "output_type": "stream",
          "text": [
            "Model: \"sequential\"\n",
            "_________________________________________________________________\n",
            "Layer (type)                 Output Shape              Param #   \n",
            "=================================================================\n",
            "dense (Dense)                (None, 224)               2016      \n",
            "_________________________________________________________________\n",
            "dense_1 (Dense)              (None, 352)               79200     \n",
            "_________________________________________________________________\n",
            "dense_2 (Dense)              (None, 320)               112960    \n",
            "_________________________________________________________________\n",
            "dense_3 (Dense)              (None, 256)               82176     \n",
            "_________________________________________________________________\n",
            "dense_4 (Dense)              (None, 320)               82240     \n",
            "_________________________________________________________________\n",
            "dense_5 (Dense)              (None, 480)               154080    \n",
            "_________________________________________________________________\n",
            "dense_6 (Dense)              (None, 256)               123136    \n",
            "_________________________________________________________________\n",
            "dense_7 (Dense)              (None, 288)               74016     \n",
            "_________________________________________________________________\n",
            "dense_8 (Dense)              (None, 288)               83232     \n",
            "_________________________________________________________________\n",
            "dense_9 (Dense)              (None, 64)                18496     \n",
            "_________________________________________________________________\n",
            "dense_10 (Dense)             (None, 480)               31200     \n",
            "_________________________________________________________________\n",
            "dense_11 (Dense)             (None, 416)               200096    \n",
            "_________________________________________________________________\n",
            "dense_12 (Dense)             (None, 1)                 417       \n",
            "=================================================================\n",
            "Total params: 1,043,265\n",
            "Trainable params: 1,043,265\n",
            "Non-trainable params: 0\n",
            "_________________________________________________________________\n"
          ],
          "name": "stdout"
        }
      ]
    },
    {
      "cell_type": "code",
      "metadata": {
        "id": "nPeCl5Qpxfci",
        "outputId": "1e628f22-25f7-4d3e-8b8c-3d89992ca2ca",
        "colab": {
          "base_uri": "https://localhost:8080/"
        }
      },
      "source": [
        "history.history"
      ],
      "execution_count": 32,
      "outputs": [
        {
          "output_type": "execute_result",
          "data": {
            "text/plain": [
              "{'loss': [0.5826172828674316,\n",
              "  0.415357381105423,\n",
              "  0.39620426297187805,\n",
              "  0.38424450159072876,\n",
              "  0.37634938955307007,\n",
              "  0.3678875267505646,\n",
              "  0.3664967119693756,\n",
              "  0.35664066672325134,\n",
              "  0.35341745615005493,\n",
              "  0.3489197790622711,\n",
              "  0.3454658091068268,\n",
              "  0.3462313711643219,\n",
              "  0.3383048176765442,\n",
              "  0.3369063138961792,\n",
              "  0.33360347151756287,\n",
              "  0.33200347423553467,\n",
              "  0.33083128929138184,\n",
              "  0.3248605728149414,\n",
              "  0.32662510871887207,\n",
              "  0.3239026367664337],\n",
              " 'mean_absolute_error': [0.5826172828674316,\n",
              "  0.415357381105423,\n",
              "  0.39620426297187805,\n",
              "  0.38424450159072876,\n",
              "  0.37634938955307007,\n",
              "  0.3678875267505646,\n",
              "  0.3664967119693756,\n",
              "  0.35664066672325134,\n",
              "  0.35341745615005493,\n",
              "  0.3489197790622711,\n",
              "  0.3454658091068268,\n",
              "  0.3462313711643219,\n",
              "  0.3383048176765442,\n",
              "  0.3369063138961792,\n",
              "  0.33360347151756287,\n",
              "  0.33200347423553467,\n",
              "  0.33083128929138184,\n",
              "  0.3248605728149414,\n",
              "  0.32662510871887207,\n",
              "  0.3239026367664337],\n",
              " 'val_loss': [0.4071376621723175,\n",
              "  0.3920731246471405,\n",
              "  0.40491190552711487,\n",
              "  0.37300747632980347,\n",
              "  0.36667534708976746,\n",
              "  0.35933807492256165,\n",
              "  0.3506264388561249,\n",
              "  0.3535669147968292,\n",
              "  0.351107120513916,\n",
              "  0.34970274567604065,\n",
              "  0.3461104929447174,\n",
              "  0.35619404911994934,\n",
              "  0.348633736371994,\n",
              "  0.34328916668891907,\n",
              "  0.34165114164352417,\n",
              "  0.33625826239585876,\n",
              "  0.3485831618309021,\n",
              "  0.35031965374946594,\n",
              "  0.3519105613231659,\n",
              "  0.3419303297996521],\n",
              " 'val_mean_absolute_error': [0.4071376621723175,\n",
              "  0.3920731246471405,\n",
              "  0.40491190552711487,\n",
              "  0.37300747632980347,\n",
              "  0.36667534708976746,\n",
              "  0.35933807492256165,\n",
              "  0.3506264388561249,\n",
              "  0.3535669147968292,\n",
              "  0.351107120513916,\n",
              "  0.34970274567604065,\n",
              "  0.3461104929447174,\n",
              "  0.35619404911994934,\n",
              "  0.348633736371994,\n",
              "  0.34328916668891907,\n",
              "  0.34165114164352417,\n",
              "  0.33625826239585876,\n",
              "  0.3485831618309021,\n",
              "  0.35031965374946594,\n",
              "  0.3519105613231659,\n",
              "  0.3419303297996521]}"
            ]
          },
          "metadata": {
            "tags": []
          },
          "execution_count": 32
        }
      ]
    },
    {
      "cell_type": "code",
      "metadata": {
        "colab": {
          "base_uri": "https://localhost:8080/",
          "height": 269
        },
        "id": "H12KiUU5e8Bz",
        "outputId": "f77de916-ff27-47c2-be80-323ef9245541"
      },
      "source": [
        "plt.plot(pd.DataFrame(history.history))\r\n",
        "plt.grid(True)\r\n",
        "plt.gca().set_ylim(0, 1)\r\n",
        "plt.show()"
      ],
      "execution_count": 28,
      "outputs": [
        {
          "output_type": "display_data",
          "data": {
            "image/png": "[encoded data removed]",
            "text/plain": [
              "<Figure size 432x288 with 1 Axes>"
            ]
          },
          "metadata": {
            "tags": [],
            "needs_background": "light"
          }
        }
      ]
    },
    {
      "cell_type": "code",
      "metadata": {
        "id": "lJPHjkAe7Qs-",
        "outputId": "831ddabb-1468-4358-a311-5af4dc32ebf8",
        "colab": {
          "base_uri": "https://localhost:8080/"
        }
      },
      "source": [
        "model.evaluate(X_test,y_test)"
      ],
      "execution_count": 29,
      "outputs": [
        {
          "output_type": "stream",
          "text": [
            "162/162 [==============================] - 0s 2ms/step - loss: 0.3700 - mean_absolute_error: 0.3700\n"
          ],
          "name": "stdout"
        },
        {
          "output_type": "execute_result",
          "data": {
            "text/plain": [
              "[0.3700443208217621, 0.3700443208217621]"
            ]
          },
          "metadata": {
            "tags": []
          },
          "execution_count": 29
        }
      ]
    },
    {
      "cell_type": "markdown",
      "metadata": {
        "id": "uu0MB-WH1OZn"
      },
      "source": [
        "**Using  Hyperband**"
      ]
    },
    {
      "cell_type": "markdown",
      "metadata": {
        "id": "ptxDgYy-1XeR"
      },
      "source": [
        "Hyperband is an optimized version of random search which uses early-stopping to speed up the hyperparameter tuning process. The main idea is to fit a large number of models for a small number of epochs and to only continue training for the models achieving the highest accuracy on the validation set. The max_epochs variable is the max number of epochs that a model can be trained for."
      ]
    },
    {
      "cell_type": "code",
      "metadata": {
        "id": "ZXFELZG21RZI"
      },
      "source": [
        ""
      ],
      "execution_count": 33,
      "outputs": []
    }
  ]
}