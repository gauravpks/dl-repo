{
  "nbformat": 4,
  "nbformat_minor": 0,
  "metadata": {
    "colab": {
      "name": "Encoder-Decoder Network.ipynb",
      "provenance": [],
      "authorship_tag": "ABX9TyN5fyqiJnblufOk+de1Qi3B",
      "include_colab_link": true
    },
    "kernelspec": {
      "name": "python3",
      "display_name": "Python 3"
    },
    "language_info": {
      "name": "python"
    },
    "widgets": {
      "application/vnd.jupyter.widget-state+json": {
        "da25eff97641435bb8f08307a53a1660": {
          "model_module": "@jupyter-widgets/controls",
          "model_name": "HBoxModel",
          "state": {
            "_view_name": "HBoxView",
            "_dom_classes": [],
            "_model_name": "HBoxModel",
            "_view_module": "@jupyter-widgets/controls",
            "_model_module_version": "1.5.0",
            "_view_count": null,
            "_view_module_version": "1.5.0",
            "box_style": "",
            "layout": "IPY_MODEL_0dd947cccc414883b320bc518e491393",
            "_model_module": "@jupyter-widgets/controls",
            "children": [
              "IPY_MODEL_1751d7089fd64296bd2591ed5b729965",
              "IPY_MODEL_9b7fbb44c89841e19135b55cd575e354"
            ]
          }
        },
        "0dd947cccc414883b320bc518e491393": {
          "model_module": "@jupyter-widgets/base",
          "model_name": "LayoutModel",
          "state": {
            "_view_name": "LayoutView",
            "grid_template_rows": null,
            "right": null,
            "justify_content": null,
            "_view_module": "@jupyter-widgets/base",
            "overflow": null,
            "_model_module_version": "1.2.0",
            "_view_count": null,
            "flex_flow": null,
            "width": null,
            "min_width": null,
            "border": null,
            "align_items": null,
            "bottom": null,
            "_model_module": "@jupyter-widgets/base",
            "top": null,
            "grid_column": null,
            "overflow_y": null,
            "overflow_x": null,
            "grid_auto_flow": null,
            "grid_area": null,
            "grid_template_columns": null,
            "flex": null,
            "_model_name": "LayoutModel",
            "justify_items": null,
            "grid_row": null,
            "max_height": null,
            "align_content": null,
            "visibility": null,
            "align_self": null,
            "height": null,
            "min_height": null,
            "padding": null,
            "grid_auto_rows": null,
            "grid_gap": null,
            "max_width": null,
            "order": null,
            "_view_module_version": "1.2.0",
            "grid_template_areas": null,
            "object_position": null,
            "object_fit": null,
            "grid_auto_columns": null,
            "margin": null,
            "display": null,
            "left": null
          }
        },
        "1751d7089fd64296bd2591ed5b729965": {
          "model_module": "@jupyter-widgets/controls",
          "model_name": "FloatProgressModel",
          "state": {
            "_view_name": "ProgressView",
            "style": "IPY_MODEL_e5289103eb09408683169e7557e7041a",
            "_dom_classes": [],
            "description": "Dl Completed...: 100%",
            "_model_name": "FloatProgressModel",
            "bar_style": "success",
            "max": 1,
            "_view_module": "@jupyter-widgets/controls",
            "_model_module_version": "1.5.0",
            "value": 1,
            "_view_count": null,
            "_view_module_version": "1.5.0",
            "orientation": "horizontal",
            "min": 0,
            "description_tooltip": null,
            "_model_module": "@jupyter-widgets/controls",
            "layout": "IPY_MODEL_6375cbdda0c84377a5079af2be69b92f"
          }
        },
        "9b7fbb44c89841e19135b55cd575e354": {
          "model_module": "@jupyter-widgets/controls",
          "model_name": "HTMLModel",
          "state": {
            "_view_name": "HTMLView",
            "style": "IPY_MODEL_decfb9e7e13d41f282a084f3cd1d7868",
            "_dom_classes": [],
            "description": "",
            "_model_name": "HTMLModel",
            "placeholder": "​",
            "_view_module": "@jupyter-widgets/controls",
            "_model_module_version": "1.5.0",
            "value": " 1/1 [00:07&lt;00:00,  7.22s/ url]",
            "_view_count": null,
            "_view_module_version": "1.5.0",
            "description_tooltip": null,
            "_model_module": "@jupyter-widgets/controls",
            "layout": "IPY_MODEL_9cfadb49c0e9446982f2965d0e9400ab"
          }
        },
        "e5289103eb09408683169e7557e7041a": {
          "model_module": "@jupyter-widgets/controls",
          "model_name": "ProgressStyleModel",
          "state": {
            "_view_name": "StyleView",
            "_model_name": "ProgressStyleModel",
            "description_width": "initial",
            "_view_module": "@jupyter-widgets/base",
            "_model_module_version": "1.5.0",
            "_view_count": null,
            "_view_module_version": "1.2.0",
            "bar_color": null,
            "_model_module": "@jupyter-widgets/controls"
          }
        },
        "6375cbdda0c84377a5079af2be69b92f": {
          "model_module": "@jupyter-widgets/base",
          "model_name": "LayoutModel",
          "state": {
            "_view_name": "LayoutView",
            "grid_template_rows": null,
            "right": null,
            "justify_content": null,
            "_view_module": "@jupyter-widgets/base",
            "overflow": null,
            "_model_module_version": "1.2.0",
            "_view_count": null,
            "flex_flow": null,
            "width": null,
            "min_width": null,
            "border": null,
            "align_items": null,
            "bottom": null,
            "_model_module": "@jupyter-widgets/base",
            "top": null,
            "grid_column": null,
            "overflow_y": null,
            "overflow_x": null,
            "grid_auto_flow": null,
            "grid_area": null,
            "grid_template_columns": null,
            "flex": null,
            "_model_name": "LayoutModel",
            "justify_items": null,
            "grid_row": null,
            "max_height": null,
            "align_content": null,
            "visibility": null,
            "align_self": null,
            "height": null,
            "min_height": null,
            "padding": null,
            "grid_auto_rows": null,
            "grid_gap": null,
            "max_width": null,
            "order": null,
            "_view_module_version": "1.2.0",
            "grid_template_areas": null,
            "object_position": null,
            "object_fit": null,
            "grid_auto_columns": null,
            "margin": null,
            "display": null,
            "left": null
          }
        },
        "decfb9e7e13d41f282a084f3cd1d7868": {
          "model_module": "@jupyter-widgets/controls",
          "model_name": "DescriptionStyleModel",
          "state": {
            "_view_name": "StyleView",
            "_model_name": "DescriptionStyleModel",
            "description_width": "",
            "_view_module": "@jupyter-widgets/base",
            "_model_module_version": "1.5.0",
            "_view_count": null,
            "_view_module_version": "1.2.0",
            "_model_module": "@jupyter-widgets/controls"
          }
        },
        "9cfadb49c0e9446982f2965d0e9400ab": {
          "model_module": "@jupyter-widgets/base",
          "model_name": "LayoutModel",
          "state": {
            "_view_name": "LayoutView",
            "grid_template_rows": null,
            "right": null,
            "justify_content": null,
            "_view_module": "@jupyter-widgets/base",
            "overflow": null,
            "_model_module_version": "1.2.0",
            "_view_count": null,
            "flex_flow": null,
            "width": null,
            "min_width": null,
            "border": null,
            "align_items": null,
            "bottom": null,
            "_model_module": "@jupyter-widgets/base",
            "top": null,
            "grid_column": null,
            "overflow_y": null,
            "overflow_x": null,
            "grid_auto_flow": null,
            "grid_area": null,
            "grid_template_columns": null,
            "flex": null,
            "_model_name": "LayoutModel",
            "justify_items": null,
            "grid_row": null,
            "max_height": null,
            "align_content": null,
            "visibility": null,
            "align_self": null,
            "height": null,
            "min_height": null,
            "padding": null,
            "grid_auto_rows": null,
            "grid_gap": null,
            "max_width": null,
            "order": null,
            "_view_module_version": "1.2.0",
            "grid_template_areas": null,
            "object_position": null,
            "object_fit": null,
            "grid_auto_columns": null,
            "margin": null,
            "display": null,
            "left": null
          }
        },
        "b3d3d76e67a747caa0f55d730d3dbc75": {
          "model_module": "@jupyter-widgets/controls",
          "model_name": "HBoxModel",
          "state": {
            "_view_name": "HBoxView",
            "_dom_classes": [],
            "_model_name": "HBoxModel",
            "_view_module": "@jupyter-widgets/controls",
            "_model_module_version": "1.5.0",
            "_view_count": null,
            "_view_module_version": "1.5.0",
            "box_style": "",
            "layout": "IPY_MODEL_2dd77f0d9eeb4c94bc1bec9ef1632e4e",
            "_model_module": "@jupyter-widgets/controls",
            "children": [
              "IPY_MODEL_df101792f33245f3ae938d612498045a",
              "IPY_MODEL_a6f5a8a2d28e4071bf65bc877868a457"
            ]
          }
        },
        "2dd77f0d9eeb4c94bc1bec9ef1632e4e": {
          "model_module": "@jupyter-widgets/base",
          "model_name": "LayoutModel",
          "state": {
            "_view_name": "LayoutView",
            "grid_template_rows": null,
            "right": null,
            "justify_content": null,
            "_view_module": "@jupyter-widgets/base",
            "overflow": null,
            "_model_module_version": "1.2.0",
            "_view_count": null,
            "flex_flow": null,
            "width": null,
            "min_width": null,
            "border": null,
            "align_items": null,
            "bottom": null,
            "_model_module": "@jupyter-widgets/base",
            "top": null,
            "grid_column": null,
            "overflow_y": null,
            "overflow_x": null,
            "grid_auto_flow": null,
            "grid_area": null,
            "grid_template_columns": null,
            "flex": null,
            "_model_name": "LayoutModel",
            "justify_items": null,
            "grid_row": null,
            "max_height": null,
            "align_content": null,
            "visibility": null,
            "align_self": null,
            "height": null,
            "min_height": null,
            "padding": null,
            "grid_auto_rows": null,
            "grid_gap": null,
            "max_width": null,
            "order": null,
            "_view_module_version": "1.2.0",
            "grid_template_areas": null,
            "object_position": null,
            "object_fit": null,
            "grid_auto_columns": null,
            "margin": null,
            "display": null,
            "left": null
          }
        },
        "df101792f33245f3ae938d612498045a": {
          "model_module": "@jupyter-widgets/controls",
          "model_name": "FloatProgressModel",
          "state": {
            "_view_name": "ProgressView",
            "style": "IPY_MODEL_a83e42ab5d82432885b02fa60daeb6d9",
            "_dom_classes": [],
            "description": "Dl Size...: 100%",
            "_model_name": "FloatProgressModel",
            "bar_style": "success",
            "max": 1,
            "_view_module": "@jupyter-widgets/controls",
            "_model_module_version": "1.5.0",
            "value": 1,
            "_view_count": null,
            "_view_module_version": "1.5.0",
            "orientation": "horizontal",
            "min": 0,
            "description_tooltip": null,
            "_model_module": "@jupyter-widgets/controls",
            "layout": "IPY_MODEL_a84f4f11b203475ea46f71631c7fbb58"
          }
        },
        "a6f5a8a2d28e4071bf65bc877868a457": {
          "model_module": "@jupyter-widgets/controls",
          "model_name": "HTMLModel",
          "state": {
            "_view_name": "HTMLView",
            "style": "IPY_MODEL_69a909fe79f24bafab089b1841ca3040",
            "_dom_classes": [],
            "description": "",
            "_model_name": "HTMLModel",
            "placeholder": "​",
            "_view_module": "@jupyter-widgets/controls",
            "_model_module_version": "1.5.0",
            "value": " 80/80 [00:07&lt;00:00, 11.16 MiB/s]",
            "_view_count": null,
            "_view_module_version": "1.5.0",
            "description_tooltip": null,
            "_model_module": "@jupyter-widgets/controls",
            "layout": "IPY_MODEL_2b40654f803046ee85b41356d8910c70"
          }
        },
        "a83e42ab5d82432885b02fa60daeb6d9": {
          "model_module": "@jupyter-widgets/controls",
          "model_name": "ProgressStyleModel",
          "state": {
            "_view_name": "StyleView",
            "_model_name": "ProgressStyleModel",
            "description_width": "initial",
            "_view_module": "@jupyter-widgets/base",
            "_model_module_version": "1.5.0",
            "_view_count": null,
            "_view_module_version": "1.2.0",
            "bar_color": null,
            "_model_module": "@jupyter-widgets/controls"
          }
        },
        "a84f4f11b203475ea46f71631c7fbb58": {
          "model_module": "@jupyter-widgets/base",
          "model_name": "LayoutModel",
          "state": {
            "_view_name": "LayoutView",
            "grid_template_rows": null,
            "right": null,
            "justify_content": null,
            "_view_module": "@jupyter-widgets/base",
            "overflow": null,
            "_model_module_version": "1.2.0",
            "_view_count": null,
            "flex_flow": null,
            "width": null,
            "min_width": null,
            "border": null,
            "align_items": null,
            "bottom": null,
            "_model_module": "@jupyter-widgets/base",
            "top": null,
            "grid_column": null,
            "overflow_y": null,
            "overflow_x": null,
            "grid_auto_flow": null,
            "grid_area": null,
            "grid_template_columns": null,
            "flex": null,
            "_model_name": "LayoutModel",
            "justify_items": null,
            "grid_row": null,
            "max_height": null,
            "align_content": null,
            "visibility": null,
            "align_self": null,
            "height": null,
            "min_height": null,
            "padding": null,
            "grid_auto_rows": null,
            "grid_gap": null,
            "max_width": null,
            "order": null,
            "_view_module_version": "1.2.0",
            "grid_template_areas": null,
            "object_position": null,
            "object_fit": null,
            "grid_auto_columns": null,
            "margin": null,
            "display": null,
            "left": null
          }
        },
        "69a909fe79f24bafab089b1841ca3040": {
          "model_module": "@jupyter-widgets/controls",
          "model_name": "DescriptionStyleModel",
          "state": {
            "_view_name": "StyleView",
            "_model_name": "DescriptionStyleModel",
            "description_width": "",
            "_view_module": "@jupyter-widgets/base",
            "_model_module_version": "1.5.0",
            "_view_count": null,
            "_view_module_version": "1.2.0",
            "_model_module": "@jupyter-widgets/controls"
          }
        },
        "2b40654f803046ee85b41356d8910c70": {
          "model_module": "@jupyter-widgets/base",
          "model_name": "LayoutModel",
          "state": {
            "_view_name": "LayoutView",
            "grid_template_rows": null,
            "right": null,
            "justify_content": null,
            "_view_module": "@jupyter-widgets/base",
            "overflow": null,
            "_model_module_version": "1.2.0",
            "_view_count": null,
            "flex_flow": null,
            "width": null,
            "min_width": null,
            "border": null,
            "align_items": null,
            "bottom": null,
            "_model_module": "@jupyter-widgets/base",
            "top": null,
            "grid_column": null,
            "overflow_y": null,
            "overflow_x": null,
            "grid_auto_flow": null,
            "grid_area": null,
            "grid_template_columns": null,
            "flex": null,
            "_model_name": "LayoutModel",
            "justify_items": null,
            "grid_row": null,
            "max_height": null,
            "align_content": null,
            "visibility": null,
            "align_self": null,
            "height": null,
            "min_height": null,
            "padding": null,
            "grid_auto_rows": null,
            "grid_gap": null,
            "max_width": null,
            "order": null,
            "_view_module_version": "1.2.0",
            "grid_template_areas": null,
            "object_position": null,
            "object_fit": null,
            "grid_auto_columns": null,
            "margin": null,
            "display": null,
            "left": null
          }
        },
        "85a2a092272e40239e18d5a2db1ad225": {
          "model_module": "@jupyter-widgets/controls",
          "model_name": "HBoxModel",
          "state": {
            "_view_name": "HBoxView",
            "_dom_classes": [],
            "_model_name": "HBoxModel",
            "_view_module": "@jupyter-widgets/controls",
            "_model_module_version": "1.5.0",
            "_view_count": null,
            "_view_module_version": "1.5.0",
            "box_style": "",
            "layout": "IPY_MODEL_3eafb30bb7944bbba19f6f02186372b6",
            "_model_module": "@jupyter-widgets/controls",
            "children": [
              "IPY_MODEL_151d6c3def3a43be89fc1368150dc74c",
              "IPY_MODEL_8aa43b304d974b15aaa86c036b3e31a8"
            ]
          }
        },
        "3eafb30bb7944bbba19f6f02186372b6": {
          "model_module": "@jupyter-widgets/base",
          "model_name": "LayoutModel",
          "state": {
            "_view_name": "LayoutView",
            "grid_template_rows": null,
            "right": null,
            "justify_content": null,
            "_view_module": "@jupyter-widgets/base",
            "overflow": null,
            "_model_module_version": "1.2.0",
            "_view_count": null,
            "flex_flow": null,
            "width": null,
            "min_width": null,
            "border": null,
            "align_items": null,
            "bottom": null,
            "_model_module": "@jupyter-widgets/base",
            "top": null,
            "grid_column": null,
            "overflow_y": null,
            "overflow_x": null,
            "grid_auto_flow": null,
            "grid_area": null,
            "grid_template_columns": null,
            "flex": null,
            "_model_name": "LayoutModel",
            "justify_items": null,
            "grid_row": null,
            "max_height": null,
            "align_content": null,
            "visibility": null,
            "align_self": null,
            "height": null,
            "min_height": null,
            "padding": null,
            "grid_auto_rows": null,
            "grid_gap": null,
            "max_width": null,
            "order": null,
            "_view_module_version": "1.2.0",
            "grid_template_areas": null,
            "object_position": null,
            "object_fit": null,
            "grid_auto_columns": null,
            "margin": null,
            "display": null,
            "left": null
          }
        },
        "151d6c3def3a43be89fc1368150dc74c": {
          "model_module": "@jupyter-widgets/controls",
          "model_name": "FloatProgressModel",
          "state": {
            "_view_name": "ProgressView",
            "style": "IPY_MODEL_2b45700eeeea4637a349c996170b4abf",
            "_dom_classes": [],
            "description": "",
            "_model_name": "FloatProgressModel",
            "bar_style": "info",
            "max": 1,
            "_view_module": "@jupyter-widgets/controls",
            "_model_module_version": "1.5.0",
            "value": 1,
            "_view_count": null,
            "_view_module_version": "1.5.0",
            "orientation": "horizontal",
            "min": 0,
            "description_tooltip": null,
            "_model_module": "@jupyter-widgets/controls",
            "layout": "IPY_MODEL_af100670042c4be691c91405a5248fc1"
          }
        },
        "8aa43b304d974b15aaa86c036b3e31a8": {
          "model_module": "@jupyter-widgets/controls",
          "model_name": "HTMLModel",
          "state": {
            "_view_name": "HTMLView",
            "style": "IPY_MODEL_00bb760a094244f6b221baaa35db2232",
            "_dom_classes": [],
            "description": "",
            "_model_name": "HTMLModel",
            "placeholder": "​",
            "_view_module": "@jupyter-widgets/controls",
            "_model_module_version": "1.5.0",
            "value": " 25000/0 [00:17&lt;00:00, 2408.78 examples/s]",
            "_view_count": null,
            "_view_module_version": "1.5.0",
            "description_tooltip": null,
            "_model_module": "@jupyter-widgets/controls",
            "layout": "IPY_MODEL_8c94a25d462c4c62908297e59f1624cf"
          }
        },
        "2b45700eeeea4637a349c996170b4abf": {
          "model_module": "@jupyter-widgets/controls",
          "model_name": "ProgressStyleModel",
          "state": {
            "_view_name": "StyleView",
            "_model_name": "ProgressStyleModel",
            "description_width": "initial",
            "_view_module": "@jupyter-widgets/base",
            "_model_module_version": "1.5.0",
            "_view_count": null,
            "_view_module_version": "1.2.0",
            "bar_color": null,
            "_model_module": "@jupyter-widgets/controls"
          }
        },
        "af100670042c4be691c91405a5248fc1": {
          "model_module": "@jupyter-widgets/base",
          "model_name": "LayoutModel",
          "state": {
            "_view_name": "LayoutView",
            "grid_template_rows": null,
            "right": null,
            "justify_content": null,
            "_view_module": "@jupyter-widgets/base",
            "overflow": null,
            "_model_module_version": "1.2.0",
            "_view_count": null,
            "flex_flow": null,
            "width": null,
            "min_width": null,
            "border": null,
            "align_items": null,
            "bottom": null,
            "_model_module": "@jupyter-widgets/base",
            "top": null,
            "grid_column": null,
            "overflow_y": null,
            "overflow_x": null,
            "grid_auto_flow": null,
            "grid_area": null,
            "grid_template_columns": null,
            "flex": null,
            "_model_name": "LayoutModel",
            "justify_items": null,
            "grid_row": null,
            "max_height": null,
            "align_content": null,
            "visibility": null,
            "align_self": null,
            "height": null,
            "min_height": null,
            "padding": null,
            "grid_auto_rows": null,
            "grid_gap": null,
            "max_width": null,
            "order": null,
            "_view_module_version": "1.2.0",
            "grid_template_areas": null,
            "object_position": null,
            "object_fit": null,
            "grid_auto_columns": null,
            "margin": null,
            "display": null,
            "left": null
          }
        },
        "00bb760a094244f6b221baaa35db2232": {
          "model_module": "@jupyter-widgets/controls",
          "model_name": "DescriptionStyleModel",
          "state": {
            "_view_name": "StyleView",
            "_model_name": "DescriptionStyleModel",
            "description_width": "",
            "_view_module": "@jupyter-widgets/base",
            "_model_module_version": "1.5.0",
            "_view_count": null,
            "_view_module_version": "1.2.0",
            "_model_module": "@jupyter-widgets/controls"
          }
        },
        "8c94a25d462c4c62908297e59f1624cf": {
          "model_module": "@jupyter-widgets/base",
          "model_name": "LayoutModel",
          "state": {
            "_view_name": "LayoutView",
            "grid_template_rows": null,
            "right": null,
            "justify_content": null,
            "_view_module": "@jupyter-widgets/base",
            "overflow": null,
            "_model_module_version": "1.2.0",
            "_view_count": null,
            "flex_flow": null,
            "width": null,
            "min_width": null,
            "border": null,
            "align_items": null,
            "bottom": null,
            "_model_module": "@jupyter-widgets/base",
            "top": null,
            "grid_column": null,
            "overflow_y": null,
            "overflow_x": null,
            "grid_auto_flow": null,
            "grid_area": null,
            "grid_template_columns": null,
            "flex": null,
            "_model_name": "LayoutModel",
            "justify_items": null,
            "grid_row": null,
            "max_height": null,
            "align_content": null,
            "visibility": null,
            "align_self": null,
            "height": null,
            "min_height": null,
            "padding": null,
            "grid_auto_rows": null,
            "grid_gap": null,
            "max_width": null,
            "order": null,
            "_view_module_version": "1.2.0",
            "grid_template_areas": null,
            "object_position": null,
            "object_fit": null,
            "grid_auto_columns": null,
            "margin": null,
            "display": null,
            "left": null
          }
        },
        "eea7a10de883435c8c2fb66190aa7768": {
          "model_module": "@jupyter-widgets/controls",
          "model_name": "HBoxModel",
          "state": {
            "_view_name": "HBoxView",
            "_dom_classes": [],
            "_model_name": "HBoxModel",
            "_view_module": "@jupyter-widgets/controls",
            "_model_module_version": "1.5.0",
            "_view_count": null,
            "_view_module_version": "1.5.0",
            "box_style": "",
            "layout": "IPY_MODEL_f8bb88d81db84213a027c36c7939eac1",
            "_model_module": "@jupyter-widgets/controls",
            "children": [
              "IPY_MODEL_c4358edf36704ee687da83b146d4788c",
              "IPY_MODEL_333a3d717cd14737b45dc9d96b10fb43"
            ]
          }
        },
        "f8bb88d81db84213a027c36c7939eac1": {
          "model_module": "@jupyter-widgets/base",
          "model_name": "LayoutModel",
          "state": {
            "_view_name": "LayoutView",
            "grid_template_rows": null,
            "right": null,
            "justify_content": null,
            "_view_module": "@jupyter-widgets/base",
            "overflow": null,
            "_model_module_version": "1.2.0",
            "_view_count": null,
            "flex_flow": null,
            "width": null,
            "min_width": null,
            "border": null,
            "align_items": null,
            "bottom": null,
            "_model_module": "@jupyter-widgets/base",
            "top": null,
            "grid_column": null,
            "overflow_y": null,
            "overflow_x": null,
            "grid_auto_flow": null,
            "grid_area": null,
            "grid_template_columns": null,
            "flex": null,
            "_model_name": "LayoutModel",
            "justify_items": null,
            "grid_row": null,
            "max_height": null,
            "align_content": null,
            "visibility": null,
            "align_self": null,
            "height": null,
            "min_height": null,
            "padding": null,
            "grid_auto_rows": null,
            "grid_gap": null,
            "max_width": null,
            "order": null,
            "_view_module_version": "1.2.0",
            "grid_template_areas": null,
            "object_position": null,
            "object_fit": null,
            "grid_auto_columns": null,
            "margin": null,
            "display": null,
            "left": null
          }
        },
        "c4358edf36704ee687da83b146d4788c": {
          "model_module": "@jupyter-widgets/controls",
          "model_name": "FloatProgressModel",
          "state": {
            "_view_name": "ProgressView",
            "style": "IPY_MODEL_6d4bfcb26f124390b4d66e317e6ad017",
            "_dom_classes": [],
            "description": " 84%",
            "_model_name": "FloatProgressModel",
            "bar_style": "danger",
            "max": 25000,
            "_view_module": "@jupyter-widgets/controls",
            "_model_module_version": "1.5.0",
            "value": 20891,
            "_view_count": null,
            "_view_module_version": "1.5.0",
            "orientation": "horizontal",
            "min": 0,
            "description_tooltip": null,
            "_model_module": "@jupyter-widgets/controls",
            "layout": "IPY_MODEL_fe1c0d06967b41f188528ebc282afe70"
          }
        },
        "333a3d717cd14737b45dc9d96b10fb43": {
          "model_module": "@jupyter-widgets/controls",
          "model_name": "HTMLModel",
          "state": {
            "_view_name": "HTMLView",
            "style": "IPY_MODEL_101a4fa02c5b413495c7ac4f7e2123cd",
            "_dom_classes": [],
            "description": "",
            "_model_name": "HTMLModel",
            "placeholder": "​",
            "_view_module": "@jupyter-widgets/controls",
            "_model_module_version": "1.5.0",
            "value": " 20891/25000 [00:00&lt;00:00, 18475.42 examples/s]",
            "_view_count": null,
            "_view_module_version": "1.5.0",
            "description_tooltip": null,
            "_model_module": "@jupyter-widgets/controls",
            "layout": "IPY_MODEL_9fbad4f44ff14353ac72072426b792c6"
          }
        },
        "6d4bfcb26f124390b4d66e317e6ad017": {
          "model_module": "@jupyter-widgets/controls",
          "model_name": "ProgressStyleModel",
          "state": {
            "_view_name": "StyleView",
            "_model_name": "ProgressStyleModel",
            "description_width": "initial",
            "_view_module": "@jupyter-widgets/base",
            "_model_module_version": "1.5.0",
            "_view_count": null,
            "_view_module_version": "1.2.0",
            "bar_color": null,
            "_model_module": "@jupyter-widgets/controls"
          }
        },
        "fe1c0d06967b41f188528ebc282afe70": {
          "model_module": "@jupyter-widgets/base",
          "model_name": "LayoutModel",
          "state": {
            "_view_name": "LayoutView",
            "grid_template_rows": null,
            "right": null,
            "justify_content": null,
            "_view_module": "@jupyter-widgets/base",
            "overflow": null,
            "_model_module_version": "1.2.0",
            "_view_count": null,
            "flex_flow": null,
            "width": null,
            "min_width": null,
            "border": null,
            "align_items": null,
            "bottom": null,
            "_model_module": "@jupyter-widgets/base",
            "top": null,
            "grid_column": null,
            "overflow_y": null,
            "overflow_x": null,
            "grid_auto_flow": null,
            "grid_area": null,
            "grid_template_columns": null,
            "flex": null,
            "_model_name": "LayoutModel",
            "justify_items": null,
            "grid_row": null,
            "max_height": null,
            "align_content": null,
            "visibility": null,
            "align_self": null,
            "height": null,
            "min_height": null,
            "padding": null,
            "grid_auto_rows": null,
            "grid_gap": null,
            "max_width": null,
            "order": null,
            "_view_module_version": "1.2.0",
            "grid_template_areas": null,
            "object_position": null,
            "object_fit": null,
            "grid_auto_columns": null,
            "margin": null,
            "display": null,
            "left": null
          }
        },
        "101a4fa02c5b413495c7ac4f7e2123cd": {
          "model_module": "@jupyter-widgets/controls",
          "model_name": "DescriptionStyleModel",
          "state": {
            "_view_name": "StyleView",
            "_model_name": "DescriptionStyleModel",
            "description_width": "",
            "_view_module": "@jupyter-widgets/base",
            "_model_module_version": "1.5.0",
            "_view_count": null,
            "_view_module_version": "1.2.0",
            "_model_module": "@jupyter-widgets/controls"
          }
        },
        "9fbad4f44ff14353ac72072426b792c6": {
          "model_module": "@jupyter-widgets/base",
          "model_name": "LayoutModel",
          "state": {
            "_view_name": "LayoutView",
            "grid_template_rows": null,
            "right": null,
            "justify_content": null,
            "_view_module": "@jupyter-widgets/base",
            "overflow": null,
            "_model_module_version": "1.2.0",
            "_view_count": null,
            "flex_flow": null,
            "width": null,
            "min_width": null,
            "border": null,
            "align_items": null,
            "bottom": null,
            "_model_module": "@jupyter-widgets/base",
            "top": null,
            "grid_column": null,
            "overflow_y": null,
            "overflow_x": null,
            "grid_auto_flow": null,
            "grid_area": null,
            "grid_template_columns": null,
            "flex": null,
            "_model_name": "LayoutModel",
            "justify_items": null,
            "grid_row": null,
            "max_height": null,
            "align_content": null,
            "visibility": null,
            "align_self": null,
            "height": null,
            "min_height": null,
            "padding": null,
            "grid_auto_rows": null,
            "grid_gap": null,
            "max_width": null,
            "order": null,
            "_view_module_version": "1.2.0",
            "grid_template_areas": null,
            "object_position": null,
            "object_fit": null,
            "grid_auto_columns": null,
            "margin": null,
            "display": null,
            "left": null
          }
        },
        "1c78b7632e1d41db90dedb2d4e513c2b": {
          "model_module": "@jupyter-widgets/controls",
          "model_name": "HBoxModel",
          "state": {
            "_view_name": "HBoxView",
            "_dom_classes": [],
            "_model_name": "HBoxModel",
            "_view_module": "@jupyter-widgets/controls",
            "_model_module_version": "1.5.0",
            "_view_count": null,
            "_view_module_version": "1.5.0",
            "box_style": "",
            "layout": "IPY_MODEL_69165b331dc54ddaa41586c91b2e8b1b",
            "_model_module": "@jupyter-widgets/controls",
            "children": [
              "IPY_MODEL_e51fe53fe45f4072bcaead13d1613a36",
              "IPY_MODEL_41da2bef35de4ca9af4ec1e8c44aa440"
            ]
          }
        },
        "69165b331dc54ddaa41586c91b2e8b1b": {
          "model_module": "@jupyter-widgets/base",
          "model_name": "LayoutModel",
          "state": {
            "_view_name": "LayoutView",
            "grid_template_rows": null,
            "right": null,
            "justify_content": null,
            "_view_module": "@jupyter-widgets/base",
            "overflow": null,
            "_model_module_version": "1.2.0",
            "_view_count": null,
            "flex_flow": null,
            "width": null,
            "min_width": null,
            "border": null,
            "align_items": null,
            "bottom": null,
            "_model_module": "@jupyter-widgets/base",
            "top": null,
            "grid_column": null,
            "overflow_y": null,
            "overflow_x": null,
            "grid_auto_flow": null,
            "grid_area": null,
            "grid_template_columns": null,
            "flex": null,
            "_model_name": "LayoutModel",
            "justify_items": null,
            "grid_row": null,
            "max_height": null,
            "align_content": null,
            "visibility": null,
            "align_self": null,
            "height": null,
            "min_height": null,
            "padding": null,
            "grid_auto_rows": null,
            "grid_gap": null,
            "max_width": null,
            "order": null,
            "_view_module_version": "1.2.0",
            "grid_template_areas": null,
            "object_position": null,
            "object_fit": null,
            "grid_auto_columns": null,
            "margin": null,
            "display": null,
            "left": null
          }
        },
        "e51fe53fe45f4072bcaead13d1613a36": {
          "model_module": "@jupyter-widgets/controls",
          "model_name": "FloatProgressModel",
          "state": {
            "_view_name": "ProgressView",
            "style": "IPY_MODEL_7cc1076a72b549dc88b42bc06c0a5252",
            "_dom_classes": [],
            "description": "",
            "_model_name": "FloatProgressModel",
            "bar_style": "info",
            "max": 1,
            "_view_module": "@jupyter-widgets/controls",
            "_model_module_version": "1.5.0",
            "value": 1,
            "_view_count": null,
            "_view_module_version": "1.5.0",
            "orientation": "horizontal",
            "min": 0,
            "description_tooltip": null,
            "_model_module": "@jupyter-widgets/controls",
            "layout": "IPY_MODEL_d0af26b1a7a14bddaf677165f45de17f"
          }
        },
        "41da2bef35de4ca9af4ec1e8c44aa440": {
          "model_module": "@jupyter-widgets/controls",
          "model_name": "HTMLModel",
          "state": {
            "_view_name": "HTMLView",
            "style": "IPY_MODEL_aa7ec2e9ed3d4093aa99d9fe00703af0",
            "_dom_classes": [],
            "description": "",
            "_model_name": "HTMLModel",
            "placeholder": "​",
            "_view_module": "@jupyter-widgets/controls",
            "_model_module_version": "1.5.0",
            "value": " 25000/0 [00:16&lt;00:00, 2832.66 examples/s]",
            "_view_count": null,
            "_view_module_version": "1.5.0",
            "description_tooltip": null,
            "_model_module": "@jupyter-widgets/controls",
            "layout": "IPY_MODEL_61dafcef814c41ca955934a206f98ca1"
          }
        },
        "7cc1076a72b549dc88b42bc06c0a5252": {
          "model_module": "@jupyter-widgets/controls",
          "model_name": "ProgressStyleModel",
          "state": {
            "_view_name": "StyleView",
            "_model_name": "ProgressStyleModel",
            "description_width": "initial",
            "_view_module": "@jupyter-widgets/base",
            "_model_module_version": "1.5.0",
            "_view_count": null,
            "_view_module_version": "1.2.0",
            "bar_color": null,
            "_model_module": "@jupyter-widgets/controls"
          }
        },
        "d0af26b1a7a14bddaf677165f45de17f": {
          "model_module": "@jupyter-widgets/base",
          "model_name": "LayoutModel",
          "state": {
            "_view_name": "LayoutView",
            "grid_template_rows": null,
            "right": null,
            "justify_content": null,
            "_view_module": "@jupyter-widgets/base",
            "overflow": null,
            "_model_module_version": "1.2.0",
            "_view_count": null,
            "flex_flow": null,
            "width": null,
            "min_width": null,
            "border": null,
            "align_items": null,
            "bottom": null,
            "_model_module": "@jupyter-widgets/base",
            "top": null,
            "grid_column": null,
            "overflow_y": null,
            "overflow_x": null,
            "grid_auto_flow": null,
            "grid_area": null,
            "grid_template_columns": null,
            "flex": null,
            "_model_name": "LayoutModel",
            "justify_items": null,
            "grid_row": null,
            "max_height": null,
            "align_content": null,
            "visibility": null,
            "align_self": null,
            "height": null,
            "min_height": null,
            "padding": null,
            "grid_auto_rows": null,
            "grid_gap": null,
            "max_width": null,
            "order": null,
            "_view_module_version": "1.2.0",
            "grid_template_areas": null,
            "object_position": null,
            "object_fit": null,
            "grid_auto_columns": null,
            "margin": null,
            "display": null,
            "left": null
          }
        },
        "aa7ec2e9ed3d4093aa99d9fe00703af0": {
          "model_module": "@jupyter-widgets/controls",
          "model_name": "DescriptionStyleModel",
          "state": {
            "_view_name": "StyleView",
            "_model_name": "DescriptionStyleModel",
            "description_width": "",
            "_view_module": "@jupyter-widgets/base",
            "_model_module_version": "1.5.0",
            "_view_count": null,
            "_view_module_version": "1.2.0",
            "_model_module": "@jupyter-widgets/controls"
          }
        },
        "61dafcef814c41ca955934a206f98ca1": {
          "model_module": "@jupyter-widgets/base",
          "model_name": "LayoutModel",
          "state": {
            "_view_name": "LayoutView",
            "grid_template_rows": null,
            "right": null,
            "justify_content": null,
            "_view_module": "@jupyter-widgets/base",
            "overflow": null,
            "_model_module_version": "1.2.0",
            "_view_count": null,
            "flex_flow": null,
            "width": null,
            "min_width": null,
            "border": null,
            "align_items": null,
            "bottom": null,
            "_model_module": "@jupyter-widgets/base",
            "top": null,
            "grid_column": null,
            "overflow_y": null,
            "overflow_x": null,
            "grid_auto_flow": null,
            "grid_area": null,
            "grid_template_columns": null,
            "flex": null,
            "_model_name": "LayoutModel",
            "justify_items": null,
            "grid_row": null,
            "max_height": null,
            "align_content": null,
            "visibility": null,
            "align_self": null,
            "height": null,
            "min_height": null,
            "padding": null,
            "grid_auto_rows": null,
            "grid_gap": null,
            "max_width": null,
            "order": null,
            "_view_module_version": "1.2.0",
            "grid_template_areas": null,
            "object_position": null,
            "object_fit": null,
            "grid_auto_columns": null,
            "margin": null,
            "display": null,
            "left": null
          }
        },
        "1f99353084464dc19d0def9505bf3cb8": {
          "model_module": "@jupyter-widgets/controls",
          "model_name": "HBoxModel",
          "state": {
            "_view_name": "HBoxView",
            "_dom_classes": [],
            "_model_name": "HBoxModel",
            "_view_module": "@jupyter-widgets/controls",
            "_model_module_version": "1.5.0",
            "_view_count": null,
            "_view_module_version": "1.5.0",
            "box_style": "",
            "layout": "IPY_MODEL_91dc87b330114ac99c16cbc605678fac",
            "_model_module": "@jupyter-widgets/controls",
            "children": [
              "IPY_MODEL_5654575ee3cc4a779a3e4a1dcf92abc4",
              "IPY_MODEL_9ce49d934dde4b859c53a9b987b58cbf"
            ]
          }
        },
        "91dc87b330114ac99c16cbc605678fac": {
          "model_module": "@jupyter-widgets/base",
          "model_name": "LayoutModel",
          "state": {
            "_view_name": "LayoutView",
            "grid_template_rows": null,
            "right": null,
            "justify_content": null,
            "_view_module": "@jupyter-widgets/base",
            "overflow": null,
            "_model_module_version": "1.2.0",
            "_view_count": null,
            "flex_flow": null,
            "width": null,
            "min_width": null,
            "border": null,
            "align_items": null,
            "bottom": null,
            "_model_module": "@jupyter-widgets/base",
            "top": null,
            "grid_column": null,
            "overflow_y": null,
            "overflow_x": null,
            "grid_auto_flow": null,
            "grid_area": null,
            "grid_template_columns": null,
            "flex": null,
            "_model_name": "LayoutModel",
            "justify_items": null,
            "grid_row": null,
            "max_height": null,
            "align_content": null,
            "visibility": null,
            "align_self": null,
            "height": null,
            "min_height": null,
            "padding": null,
            "grid_auto_rows": null,
            "grid_gap": null,
            "max_width": null,
            "order": null,
            "_view_module_version": "1.2.0",
            "grid_template_areas": null,
            "object_position": null,
            "object_fit": null,
            "grid_auto_columns": null,
            "margin": null,
            "display": null,
            "left": null
          }
        },
        "5654575ee3cc4a779a3e4a1dcf92abc4": {
          "model_module": "@jupyter-widgets/controls",
          "model_name": "FloatProgressModel",
          "state": {
            "_view_name": "ProgressView",
            "style": "IPY_MODEL_2c4eb10652e64aa38fbf802eab6f356d",
            "_dom_classes": [],
            "description": " 85%",
            "_model_name": "FloatProgressModel",
            "bar_style": "danger",
            "max": 25000,
            "_view_module": "@jupyter-widgets/controls",
            "_model_module_version": "1.5.0",
            "value": 21348,
            "_view_count": null,
            "_view_module_version": "1.5.0",
            "orientation": "horizontal",
            "min": 0,
            "description_tooltip": null,
            "_model_module": "@jupyter-widgets/controls",
            "layout": "IPY_MODEL_54122e614e2d4bfcb981c922b44f8602"
          }
        },
        "9ce49d934dde4b859c53a9b987b58cbf": {
          "model_module": "@jupyter-widgets/controls",
          "model_name": "HTMLModel",
          "state": {
            "_view_name": "HTMLView",
            "style": "IPY_MODEL_859697d9dd0543f58f4a7aaac716a1d1",
            "_dom_classes": [],
            "description": "",
            "_model_name": "HTMLModel",
            "placeholder": "​",
            "_view_module": "@jupyter-widgets/controls",
            "_model_module_version": "1.5.0",
            "value": " 21348/25000 [00:00&lt;00:00, 29034.82 examples/s]",
            "_view_count": null,
            "_view_module_version": "1.5.0",
            "description_tooltip": null,
            "_model_module": "@jupyter-widgets/controls",
            "layout": "IPY_MODEL_3a7da7bba0f448668641a1a8dc6771d9"
          }
        },
        "2c4eb10652e64aa38fbf802eab6f356d": {
          "model_module": "@jupyter-widgets/controls",
          "model_name": "ProgressStyleModel",
          "state": {
            "_view_name": "StyleView",
            "_model_name": "ProgressStyleModel",
            "description_width": "initial",
            "_view_module": "@jupyter-widgets/base",
            "_model_module_version": "1.5.0",
            "_view_count": null,
            "_view_module_version": "1.2.0",
            "bar_color": null,
            "_model_module": "@jupyter-widgets/controls"
          }
        },
        "54122e614e2d4bfcb981c922b44f8602": {
          "model_module": "@jupyter-widgets/base",
          "model_name": "LayoutModel",
          "state": {
            "_view_name": "LayoutView",
            "grid_template_rows": null,
            "right": null,
            "justify_content": null,
            "_view_module": "@jupyter-widgets/base",
            "overflow": null,
            "_model_module_version": "1.2.0",
            "_view_count": null,
            "flex_flow": null,
            "width": null,
            "min_width": null,
            "border": null,
            "align_items": null,
            "bottom": null,
            "_model_module": "@jupyter-widgets/base",
            "top": null,
            "grid_column": null,
            "overflow_y": null,
            "overflow_x": null,
            "grid_auto_flow": null,
            "grid_area": null,
            "grid_template_columns": null,
            "flex": null,
            "_model_name": "LayoutModel",
            "justify_items": null,
            "grid_row": null,
            "max_height": null,
            "align_content": null,
            "visibility": null,
            "align_self": null,
            "height": null,
            "min_height": null,
            "padding": null,
            "grid_auto_rows": null,
            "grid_gap": null,
            "max_width": null,
            "order": null,
            "_view_module_version": "1.2.0",
            "grid_template_areas": null,
            "object_position": null,
            "object_fit": null,
            "grid_auto_columns": null,
            "margin": null,
            "display": null,
            "left": null
          }
        },
        "859697d9dd0543f58f4a7aaac716a1d1": {
          "model_module": "@jupyter-widgets/controls",
          "model_name": "DescriptionStyleModel",
          "state": {
            "_view_name": "StyleView",
            "_model_name": "DescriptionStyleModel",
            "description_width": "",
            "_view_module": "@jupyter-widgets/base",
            "_model_module_version": "1.5.0",
            "_view_count": null,
            "_view_module_version": "1.2.0",
            "_model_module": "@jupyter-widgets/controls"
          }
        },
        "3a7da7bba0f448668641a1a8dc6771d9": {
          "model_module": "@jupyter-widgets/base",
          "model_name": "LayoutModel",
          "state": {
            "_view_name": "LayoutView",
            "grid_template_rows": null,
            "right": null,
            "justify_content": null,
            "_view_module": "@jupyter-widgets/base",
            "overflow": null,
            "_model_module_version": "1.2.0",
            "_view_count": null,
            "flex_flow": null,
            "width": null,
            "min_width": null,
            "border": null,
            "align_items": null,
            "bottom": null,
            "_model_module": "@jupyter-widgets/base",
            "top": null,
            "grid_column": null,
            "overflow_y": null,
            "overflow_x": null,
            "grid_auto_flow": null,
            "grid_area": null,
            "grid_template_columns": null,
            "flex": null,
            "_model_name": "LayoutModel",
            "justify_items": null,
            "grid_row": null,
            "max_height": null,
            "align_content": null,
            "visibility": null,
            "align_self": null,
            "height": null,
            "min_height": null,
            "padding": null,
            "grid_auto_rows": null,
            "grid_gap": null,
            "max_width": null,
            "order": null,
            "_view_module_version": "1.2.0",
            "grid_template_areas": null,
            "object_position": null,
            "object_fit": null,
            "grid_auto_columns": null,
            "margin": null,
            "display": null,
            "left": null
          }
        },
        "9ed149410832451b8891b65e5f7837aa": {
          "model_module": "@jupyter-widgets/controls",
          "model_name": "HBoxModel",
          "state": {
            "_view_name": "HBoxView",
            "_dom_classes": [],
            "_model_name": "HBoxModel",
            "_view_module": "@jupyter-widgets/controls",
            "_model_module_version": "1.5.0",
            "_view_count": null,
            "_view_module_version": "1.5.0",
            "box_style": "",
            "layout": "IPY_MODEL_a27b1a8b02134560a6ca9941153c5ff7",
            "_model_module": "@jupyter-widgets/controls",
            "children": [
              "IPY_MODEL_c2244eb509ea4f6282729138fc3dad69",
              "IPY_MODEL_c0ebcf16e2124e8386d7f5cf4296a7ab"
            ]
          }
        },
        "a27b1a8b02134560a6ca9941153c5ff7": {
          "model_module": "@jupyter-widgets/base",
          "model_name": "LayoutModel",
          "state": {
            "_view_name": "LayoutView",
            "grid_template_rows": null,
            "right": null,
            "justify_content": null,
            "_view_module": "@jupyter-widgets/base",
            "overflow": null,
            "_model_module_version": "1.2.0",
            "_view_count": null,
            "flex_flow": null,
            "width": null,
            "min_width": null,
            "border": null,
            "align_items": null,
            "bottom": null,
            "_model_module": "@jupyter-widgets/base",
            "top": null,
            "grid_column": null,
            "overflow_y": null,
            "overflow_x": null,
            "grid_auto_flow": null,
            "grid_area": null,
            "grid_template_columns": null,
            "flex": null,
            "_model_name": "LayoutModel",
            "justify_items": null,
            "grid_row": null,
            "max_height": null,
            "align_content": null,
            "visibility": null,
            "align_self": null,
            "height": null,
            "min_height": null,
            "padding": null,
            "grid_auto_rows": null,
            "grid_gap": null,
            "max_width": null,
            "order": null,
            "_view_module_version": "1.2.0",
            "grid_template_areas": null,
            "object_position": null,
            "object_fit": null,
            "grid_auto_columns": null,
            "margin": null,
            "display": null,
            "left": null
          }
        },
        "c2244eb509ea4f6282729138fc3dad69": {
          "model_module": "@jupyter-widgets/controls",
          "model_name": "FloatProgressModel",
          "state": {
            "_view_name": "ProgressView",
            "style": "IPY_MODEL_ab5d32759ae24430a9871e237a8a0d7b",
            "_dom_classes": [],
            "description": "",
            "_model_name": "FloatProgressModel",
            "bar_style": "info",
            "max": 1,
            "_view_module": "@jupyter-widgets/controls",
            "_model_module_version": "1.5.0",
            "value": 1,
            "_view_count": null,
            "_view_module_version": "1.5.0",
            "orientation": "horizontal",
            "min": 0,
            "description_tooltip": null,
            "_model_module": "@jupyter-widgets/controls",
            "layout": "IPY_MODEL_3d05d9d5b5624e61a65b719e89915d1e"
          }
        },
        "c0ebcf16e2124e8386d7f5cf4296a7ab": {
          "model_module": "@jupyter-widgets/controls",
          "model_name": "HTMLModel",
          "state": {
            "_view_name": "HTMLView",
            "style": "IPY_MODEL_ee6805a3cb564ef092400c578cd4538e",
            "_dom_classes": [],
            "description": "",
            "_model_name": "HTMLModel",
            "placeholder": "​",
            "_view_module": "@jupyter-widgets/controls",
            "_model_module_version": "1.5.0",
            "value": " 50000/0 [00:23&lt;00:00, 2963.62 examples/s]",
            "_view_count": null,
            "_view_module_version": "1.5.0",
            "description_tooltip": null,
            "_model_module": "@jupyter-widgets/controls",
            "layout": "IPY_MODEL_c04e6a0a88fd4e6e81c87f06b6060549"
          }
        },
        "ab5d32759ae24430a9871e237a8a0d7b": {
          "model_module": "@jupyter-widgets/controls",
          "model_name": "ProgressStyleModel",
          "state": {
            "_view_name": "StyleView",
            "_model_name": "ProgressStyleModel",
            "description_width": "initial",
            "_view_module": "@jupyter-widgets/base",
            "_model_module_version": "1.5.0",
            "_view_count": null,
            "_view_module_version": "1.2.0",
            "bar_color": null,
            "_model_module": "@jupyter-widgets/controls"
          }
        },
        "3d05d9d5b5624e61a65b719e89915d1e": {
          "model_module": "@jupyter-widgets/base",
          "model_name": "LayoutModel",
          "state": {
            "_view_name": "LayoutView",
            "grid_template_rows": null,
            "right": null,
            "justify_content": null,
            "_view_module": "@jupyter-widgets/base",
            "overflow": null,
            "_model_module_version": "1.2.0",
            "_view_count": null,
            "flex_flow": null,
            "width": null,
            "min_width": null,
            "border": null,
            "align_items": null,
            "bottom": null,
            "_model_module": "@jupyter-widgets/base",
            "top": null,
            "grid_column": null,
            "overflow_y": null,
            "overflow_x": null,
            "grid_auto_flow": null,
            "grid_area": null,
            "grid_template_columns": null,
            "flex": null,
            "_model_name": "LayoutModel",
            "justify_items": null,
            "grid_row": null,
            "max_height": null,
            "align_content": null,
            "visibility": null,
            "align_self": null,
            "height": null,
            "min_height": null,
            "padding": null,
            "grid_auto_rows": null,
            "grid_gap": null,
            "max_width": null,
            "order": null,
            "_view_module_version": "1.2.0",
            "grid_template_areas": null,
            "object_position": null,
            "object_fit": null,
            "grid_auto_columns": null,
            "margin": null,
            "display": null,
            "left": null
          }
        },
        "ee6805a3cb564ef092400c578cd4538e": {
          "model_module": "@jupyter-widgets/controls",
          "model_name": "DescriptionStyleModel",
          "state": {
            "_view_name": "StyleView",
            "_model_name": "DescriptionStyleModel",
            "description_width": "",
            "_view_module": "@jupyter-widgets/base",
            "_model_module_version": "1.5.0",
            "_view_count": null,
            "_view_module_version": "1.2.0",
            "_model_module": "@jupyter-widgets/controls"
          }
        },
        "c04e6a0a88fd4e6e81c87f06b6060549": {
          "model_module": "@jupyter-widgets/base",
          "model_name": "LayoutModel",
          "state": {
            "_view_name": "LayoutView",
            "grid_template_rows": null,
            "right": null,
            "justify_content": null,
            "_view_module": "@jupyter-widgets/base",
            "overflow": null,
            "_model_module_version": "1.2.0",
            "_view_count": null,
            "flex_flow": null,
            "width": null,
            "min_width": null,
            "border": null,
            "align_items": null,
            "bottom": null,
            "_model_module": "@jupyter-widgets/base",
            "top": null,
            "grid_column": null,
            "overflow_y": null,
            "overflow_x": null,
            "grid_auto_flow": null,
            "grid_area": null,
            "grid_template_columns": null,
            "flex": null,
            "_model_name": "LayoutModel",
            "justify_items": null,
            "grid_row": null,
            "max_height": null,
            "align_content": null,
            "visibility": null,
            "align_self": null,
            "height": null,
            "min_height": null,
            "padding": null,
            "grid_auto_rows": null,
            "grid_gap": null,
            "max_width": null,
            "order": null,
            "_view_module_version": "1.2.0",
            "grid_template_areas": null,
            "object_position": null,
            "object_fit": null,
            "grid_auto_columns": null,
            "margin": null,
            "display": null,
            "left": null
          }
        },
        "f1b0c4edb4464f5484e70cbc02846d1e": {
          "model_module": "@jupyter-widgets/controls",
          "model_name": "HBoxModel",
          "state": {
            "_view_name": "HBoxView",
            "_dom_classes": [],
            "_model_name": "HBoxModel",
            "_view_module": "@jupyter-widgets/controls",
            "_model_module_version": "1.5.0",
            "_view_count": null,
            "_view_module_version": "1.5.0",
            "box_style": "",
            "layout": "IPY_MODEL_3eadfdf0f9704de5874397deb6480fff",
            "_model_module": "@jupyter-widgets/controls",
            "children": [
              "IPY_MODEL_f461172620d14bb7829e6f998e847737",
              "IPY_MODEL_a813f5bd45644c0982f1dbd799b964fb"
            ]
          }
        },
        "3eadfdf0f9704de5874397deb6480fff": {
          "model_module": "@jupyter-widgets/base",
          "model_name": "LayoutModel",
          "state": {
            "_view_name": "LayoutView",
            "grid_template_rows": null,
            "right": null,
            "justify_content": null,
            "_view_module": "@jupyter-widgets/base",
            "overflow": null,
            "_model_module_version": "1.2.0",
            "_view_count": null,
            "flex_flow": null,
            "width": null,
            "min_width": null,
            "border": null,
            "align_items": null,
            "bottom": null,
            "_model_module": "@jupyter-widgets/base",
            "top": null,
            "grid_column": null,
            "overflow_y": null,
            "overflow_x": null,
            "grid_auto_flow": null,
            "grid_area": null,
            "grid_template_columns": null,
            "flex": null,
            "_model_name": "LayoutModel",
            "justify_items": null,
            "grid_row": null,
            "max_height": null,
            "align_content": null,
            "visibility": null,
            "align_self": null,
            "height": null,
            "min_height": null,
            "padding": null,
            "grid_auto_rows": null,
            "grid_gap": null,
            "max_width": null,
            "order": null,
            "_view_module_version": "1.2.0",
            "grid_template_areas": null,
            "object_position": null,
            "object_fit": null,
            "grid_auto_columns": null,
            "margin": null,
            "display": null,
            "left": null
          }
        },
        "f461172620d14bb7829e6f998e847737": {
          "model_module": "@jupyter-widgets/controls",
          "model_name": "FloatProgressModel",
          "state": {
            "_view_name": "ProgressView",
            "style": "IPY_MODEL_2518eae7c4fb49f4bb5050f3b2013c15",
            "_dom_classes": [],
            "description": " 73%",
            "_model_name": "FloatProgressModel",
            "bar_style": "danger",
            "max": 50000,
            "_view_module": "@jupyter-widgets/controls",
            "_model_module_version": "1.5.0",
            "value": 36382,
            "_view_count": null,
            "_view_module_version": "1.5.0",
            "orientation": "horizontal",
            "min": 0,
            "description_tooltip": null,
            "_model_module": "@jupyter-widgets/controls",
            "layout": "IPY_MODEL_e63d3f6ea9d24b33a8cd291550b06818"
          }
        },
        "a813f5bd45644c0982f1dbd799b964fb": {
          "model_module": "@jupyter-widgets/controls",
          "model_name": "HTMLModel",
          "state": {
            "_view_name": "HTMLView",
            "style": "IPY_MODEL_1e982ae3c86c452d9cefd8eb7e4bfb7a",
            "_dom_classes": [],
            "description": "",
            "_model_name": "HTMLModel",
            "placeholder": "​",
            "_view_module": "@jupyter-widgets/controls",
            "_model_module_version": "1.5.0",
            "value": " 36382/50000 [00:00&lt;14:02, 16.16 examples/s]",
            "_view_count": null,
            "_view_module_version": "1.5.0",
            "description_tooltip": null,
            "_model_module": "@jupyter-widgets/controls",
            "layout": "IPY_MODEL_372dcf7eef05420fa8a940d6a5e49c52"
          }
        },
        "2518eae7c4fb49f4bb5050f3b2013c15": {
          "model_module": "@jupyter-widgets/controls",
          "model_name": "ProgressStyleModel",
          "state": {
            "_view_name": "StyleView",
            "_model_name": "ProgressStyleModel",
            "description_width": "initial",
            "_view_module": "@jupyter-widgets/base",
            "_model_module_version": "1.5.0",
            "_view_count": null,
            "_view_module_version": "1.2.0",
            "bar_color": null,
            "_model_module": "@jupyter-widgets/controls"
          }
        },
        "e63d3f6ea9d24b33a8cd291550b06818": {
          "model_module": "@jupyter-widgets/base",
          "model_name": "LayoutModel",
          "state": {
            "_view_name": "LayoutView",
            "grid_template_rows": null,
            "right": null,
            "justify_content": null,
            "_view_module": "@jupyter-widgets/base",
            "overflow": null,
            "_model_module_version": "1.2.0",
            "_view_count": null,
            "flex_flow": null,
            "width": null,
            "min_width": null,
            "border": null,
            "align_items": null,
            "bottom": null,
            "_model_module": "@jupyter-widgets/base",
            "top": null,
            "grid_column": null,
            "overflow_y": null,
            "overflow_x": null,
            "grid_auto_flow": null,
            "grid_area": null,
            "grid_template_columns": null,
            "flex": null,
            "_model_name": "LayoutModel",
            "justify_items": null,
            "grid_row": null,
            "max_height": null,
            "align_content": null,
            "visibility": null,
            "align_self": null,
            "height": null,
            "min_height": null,
            "padding": null,
            "grid_auto_rows": null,
            "grid_gap": null,
            "max_width": null,
            "order": null,
            "_view_module_version": "1.2.0",
            "grid_template_areas": null,
            "object_position": null,
            "object_fit": null,
            "grid_auto_columns": null,
            "margin": null,
            "display": null,
            "left": null
          }
        },
        "1e982ae3c86c452d9cefd8eb7e4bfb7a": {
          "model_module": "@jupyter-widgets/controls",
          "model_name": "DescriptionStyleModel",
          "state": {
            "_view_name": "StyleView",
            "_model_name": "DescriptionStyleModel",
            "description_width": "",
            "_view_module": "@jupyter-widgets/base",
            "_model_module_version": "1.5.0",
            "_view_count": null,
            "_view_module_version": "1.2.0",
            "_model_module": "@jupyter-widgets/controls"
          }
        },
        "372dcf7eef05420fa8a940d6a5e49c52": {
          "model_module": "@jupyter-widgets/base",
          "model_name": "LayoutModel",
          "state": {
            "_view_name": "LayoutView",
            "grid_template_rows": null,
            "right": null,
            "justify_content": null,
            "_view_module": "@jupyter-widgets/base",
            "overflow": null,
            "_model_module_version": "1.2.0",
            "_view_count": null,
            "flex_flow": null,
            "width": null,
            "min_width": null,
            "border": null,
            "align_items": null,
            "bottom": null,
            "_model_module": "@jupyter-widgets/base",
            "top": null,
            "grid_column": null,
            "overflow_y": null,
            "overflow_x": null,
            "grid_auto_flow": null,
            "grid_area": null,
            "grid_template_columns": null,
            "flex": null,
            "_model_name": "LayoutModel",
            "justify_items": null,
            "grid_row": null,
            "max_height": null,
            "align_content": null,
            "visibility": null,
            "align_self": null,
            "height": null,
            "min_height": null,
            "padding": null,
            "grid_auto_rows": null,
            "grid_gap": null,
            "max_width": null,
            "order": null,
            "_view_module_version": "1.2.0",
            "grid_template_areas": null,
            "object_position": null,
            "object_fit": null,
            "grid_auto_columns": null,
            "margin": null,
            "display": null,
            "left": null
          }
        }
      }
    }
  },
  "cells": [
    {
      "cell_type": "markdown",
      "metadata": {
        "id": "view-in-github",
        "colab_type": "text"
      },
      "source": [
        "<a href=\"https://colab.research.google.com/github/gauravpks/dl-repo/blob/master/RNN/Encoder_Decoder_Network.ipynb\" target=\"_parent\"><img src=\"https://colab.research.google.com/assets/colab-badge.svg\" alt=\"Open In Colab\"/></a>"
      ]
    },
    {
      "cell_type": "code",
      "metadata": {
        "id": "zndV5iC4M5hg"
      },
      "source": [
        "import sklearn\n",
        "import tensorflow as tf\n",
        "from tensorflow import keras"
      ],
      "execution_count": 6,
      "outputs": []
    },
    {
      "cell_type": "code",
      "metadata": {
        "id": "tnVbrvGzNF7R"
      },
      "source": [
        "tf.random.set_seed(42)"
      ],
      "execution_count": 2,
      "outputs": []
    },
    {
      "cell_type": "code",
      "metadata": {
        "id": "2NP50heANJaT"
      },
      "source": [
        "import os\n",
        "TFHUB_CACHE_DIR = os.path.join(os.curdir, \"my_tfhub_cache\")\n",
        "os.environ[\"TFHUB_CACHE_DIR\"] = TFHUB_CACHE_DIR\n"
      ],
      "execution_count": 4,
      "outputs": []
    },
    {
      "cell_type": "code",
      "metadata": {
        "id": "yOMF1AX1NMK_"
      },
      "source": [
        "import tensorflow_hub as hub\n",
        "\n",
        "model = keras.Sequential([\n",
        "    hub.KerasLayer(\"https://tfhub.dev/google/tf2-preview/nnlm-en-dim50/1\",\n",
        "                   dtype=tf.string, input_shape=[], output_shape=[50]),\n",
        "    keras.layers.Dense(128, activation=\"relu\"),\n",
        "    keras.layers.Dense(1, activation=\"sigmoid\")\n",
        "])\n",
        "model.compile(loss=\"binary_crossentropy\", optimizer=\"adam\",\n",
        "              metrics=[\"accuracy\"])"
      ],
      "execution_count": 7,
      "outputs": []
    },
    {
      "cell_type": "code",
      "metadata": {
        "colab": {
          "base_uri": "https://localhost:8080/"
        },
        "id": "ZlXlP9LKN3U1",
        "outputId": "1bfd7475-4b04-428d-dc9e-9c074a55c1e1"
      },
      "source": [
        "for dirpath, dirnames, filenames in os.walk(TFHUB_CACHE_DIR):\n",
        "    for filename in filenames:\n",
        "        print(os.path.join(dirpath, filename))"
      ],
      "execution_count": 8,
      "outputs": [
        {
          "output_type": "stream",
          "text": [
            "./my_tfhub_cache/82c4aaf4250ffb09088bd48368ee7fd00e5464fe.descriptor.txt\n",
            "./my_tfhub_cache/82c4aaf4250ffb09088bd48368ee7fd00e5464fe/saved_model.pb\n",
            "./my_tfhub_cache/82c4aaf4250ffb09088bd48368ee7fd00e5464fe/variables/variables.index\n",
            "./my_tfhub_cache/82c4aaf4250ffb09088bd48368ee7fd00e5464fe/variables/variables.data-00000-of-00001\n",
            "./my_tfhub_cache/82c4aaf4250ffb09088bd48368ee7fd00e5464fe/assets/tokens.txt\n"
          ],
          "name": "stdout"
        }
      ]
    },
    {
      "cell_type": "code",
      "metadata": {
        "colab": {
          "base_uri": "https://localhost:8080/",
          "height": 533,
          "referenced_widgets": [
            "da25eff97641435bb8f08307a53a1660",
            "0dd947cccc414883b320bc518e491393",
            "1751d7089fd64296bd2591ed5b729965",
            "9b7fbb44c89841e19135b55cd575e354",
            "e5289103eb09408683169e7557e7041a",
            "6375cbdda0c84377a5079af2be69b92f",
            "decfb9e7e13d41f282a084f3cd1d7868",
            "9cfadb49c0e9446982f2965d0e9400ab",
            "b3d3d76e67a747caa0f55d730d3dbc75",
            "2dd77f0d9eeb4c94bc1bec9ef1632e4e",
            "df101792f33245f3ae938d612498045a",
            "a6f5a8a2d28e4071bf65bc877868a457",
            "a83e42ab5d82432885b02fa60daeb6d9",
            "a84f4f11b203475ea46f71631c7fbb58",
            "69a909fe79f24bafab089b1841ca3040",
            "2b40654f803046ee85b41356d8910c70",
            "85a2a092272e40239e18d5a2db1ad225",
            "3eafb30bb7944bbba19f6f02186372b6",
            "151d6c3def3a43be89fc1368150dc74c",
            "8aa43b304d974b15aaa86c036b3e31a8",
            "2b45700eeeea4637a349c996170b4abf",
            "af100670042c4be691c91405a5248fc1",
            "00bb760a094244f6b221baaa35db2232",
            "8c94a25d462c4c62908297e59f1624cf",
            "eea7a10de883435c8c2fb66190aa7768",
            "f8bb88d81db84213a027c36c7939eac1",
            "c4358edf36704ee687da83b146d4788c",
            "333a3d717cd14737b45dc9d96b10fb43",
            "6d4bfcb26f124390b4d66e317e6ad017",
            "fe1c0d06967b41f188528ebc282afe70",
            "101a4fa02c5b413495c7ac4f7e2123cd",
            "9fbad4f44ff14353ac72072426b792c6",
            "1c78b7632e1d41db90dedb2d4e513c2b",
            "69165b331dc54ddaa41586c91b2e8b1b",
            "e51fe53fe45f4072bcaead13d1613a36",
            "41da2bef35de4ca9af4ec1e8c44aa440",
            "7cc1076a72b549dc88b42bc06c0a5252",
            "d0af26b1a7a14bddaf677165f45de17f",
            "aa7ec2e9ed3d4093aa99d9fe00703af0",
            "61dafcef814c41ca955934a206f98ca1",
            "1f99353084464dc19d0def9505bf3cb8",
            "91dc87b330114ac99c16cbc605678fac",
            "5654575ee3cc4a779a3e4a1dcf92abc4",
            "9ce49d934dde4b859c53a9b987b58cbf",
            "2c4eb10652e64aa38fbf802eab6f356d",
            "54122e614e2d4bfcb981c922b44f8602",
            "859697d9dd0543f58f4a7aaac716a1d1",
            "3a7da7bba0f448668641a1a8dc6771d9",
            "9ed149410832451b8891b65e5f7837aa",
            "a27b1a8b02134560a6ca9941153c5ff7",
            "c2244eb509ea4f6282729138fc3dad69",
            "c0ebcf16e2124e8386d7f5cf4296a7ab",
            "ab5d32759ae24430a9871e237a8a0d7b",
            "3d05d9d5b5624e61a65b719e89915d1e",
            "ee6805a3cb564ef092400c578cd4538e",
            "c04e6a0a88fd4e6e81c87f06b6060549",
            "f1b0c4edb4464f5484e70cbc02846d1e",
            "3eadfdf0f9704de5874397deb6480fff",
            "f461172620d14bb7829e6f998e847737",
            "a813f5bd45644c0982f1dbd799b964fb",
            "2518eae7c4fb49f4bb5050f3b2013c15",
            "e63d3f6ea9d24b33a8cd291550b06818",
            "1e982ae3c86c452d9cefd8eb7e4bfb7a",
            "372dcf7eef05420fa8a940d6a5e49c52"
          ]
        },
        "id": "AcN1DHUBN5eM",
        "outputId": "cb7840df-9d30-4084-d6ea-068e189fe7c7"
      },
      "source": [
        "import tensorflow_datasets as tfds\n",
        "\n",
        "datasets, info = tfds.load(\"imdb_reviews\", as_supervised=True, with_info=True)\n",
        "train_size = info.splits[\"train\"].num_examples\n",
        "batch_size = 32\n",
        "train_set = datasets[\"train\"].repeat().batch(batch_size).prefetch(1)\n",
        "history = model.fit(train_set, steps_per_epoch=train_size // batch_size, epochs=5)"
      ],
      "execution_count": 9,
      "outputs": [
        {
          "output_type": "stream",
          "text": [
            "\u001b[1mDownloading and preparing dataset imdb_reviews/plain_text/1.0.0 (download: 80.23 MiB, generated: Unknown size, total: 80.23 MiB) to /root/tensorflow_datasets/imdb_reviews/plain_text/1.0.0...\u001b[0m\n"
          ],
          "name": "stdout"
        },
        {
          "output_type": "display_data",
          "data": {
            "application/vnd.jupyter.widget-view+json": {
              "model_id": "da25eff97641435bb8f08307a53a1660",
              "version_minor": 0,
              "version_major": 2
            },
            "text/plain": [
              "HBox(children=(FloatProgress(value=1.0, bar_style='info', description='Dl Completed...', max=1.0, style=Progre…"
            ]
          },
          "metadata": {
            "tags": []
          }
        },
        {
          "output_type": "display_data",
          "data": {
            "application/vnd.jupyter.widget-view+json": {
              "model_id": "b3d3d76e67a747caa0f55d730d3dbc75",
              "version_minor": 0,
              "version_major": 2
            },
            "text/plain": [
              "HBox(children=(FloatProgress(value=1.0, bar_style='info', description='Dl Size...', max=1.0, style=ProgressSty…"
            ]
          },
          "metadata": {
            "tags": []
          }
        },
        {
          "output_type": "stream",
          "text": [
            "\n",
            "\n",
            "\n",
            "\n"
          ],
          "name": "stdout"
        },
        {
          "output_type": "display_data",
          "data": {
            "application/vnd.jupyter.widget-view+json": {
              "model_id": "85a2a092272e40239e18d5a2db1ad225",
              "version_minor": 0,
              "version_major": 2
            },
            "text/plain": [
              "HBox(children=(FloatProgress(value=1.0, bar_style='info', max=1.0), HTML(value='')))"
            ]
          },
          "metadata": {
            "tags": []
          }
        },
        {
          "output_type": "stream",
          "text": [
            "\rShuffling and writing examples to /root/tensorflow_datasets/imdb_reviews/plain_text/1.0.0.incomplete9ELY8P/imdb_reviews-train.tfrecord\n"
          ],
          "name": "stdout"
        },
        {
          "output_type": "display_data",
          "data": {
            "application/vnd.jupyter.widget-view+json": {
              "model_id": "eea7a10de883435c8c2fb66190aa7768",
              "version_minor": 0,
              "version_major": 2
            },
            "text/plain": [
              "HBox(children=(FloatProgress(value=0.0, max=25000.0), HTML(value='')))"
            ]
          },
          "metadata": {
            "tags": []
          }
        },
        {
          "output_type": "stream",
          "text": [
            "\r"
          ],
          "name": "stdout"
        },
        {
          "output_type": "display_data",
          "data": {
            "application/vnd.jupyter.widget-view+json": {
              "model_id": "1c78b7632e1d41db90dedb2d4e513c2b",
              "version_minor": 0,
              "version_major": 2
            },
            "text/plain": [
              "HBox(children=(FloatProgress(value=1.0, bar_style='info', max=1.0), HTML(value='')))"
            ]
          },
          "metadata": {
            "tags": []
          }
        },
        {
          "output_type": "stream",
          "text": [
            "\rShuffling and writing examples to /root/tensorflow_datasets/imdb_reviews/plain_text/1.0.0.incomplete9ELY8P/imdb_reviews-test.tfrecord\n"
          ],
          "name": "stdout"
        },
        {
          "output_type": "display_data",
          "data": {
            "application/vnd.jupyter.widget-view+json": {
              "model_id": "1f99353084464dc19d0def9505bf3cb8",
              "version_minor": 0,
              "version_major": 2
            },
            "text/plain": [
              "HBox(children=(FloatProgress(value=0.0, max=25000.0), HTML(value='')))"
            ]
          },
          "metadata": {
            "tags": []
          }
        },
        {
          "output_type": "stream",
          "text": [
            "\r"
          ],
          "name": "stdout"
        },
        {
          "output_type": "display_data",
          "data": {
            "application/vnd.jupyter.widget-view+json": {
              "model_id": "9ed149410832451b8891b65e5f7837aa",
              "version_minor": 0,
              "version_major": 2
            },
            "text/plain": [
              "HBox(children=(FloatProgress(value=1.0, bar_style='info', max=1.0), HTML(value='')))"
            ]
          },
          "metadata": {
            "tags": []
          }
        },
        {
          "output_type": "stream",
          "text": [
            "\rShuffling and writing examples to /root/tensorflow_datasets/imdb_reviews/plain_text/1.0.0.incomplete9ELY8P/imdb_reviews-unsupervised.tfrecord\n"
          ],
          "name": "stdout"
        },
        {
          "output_type": "display_data",
          "data": {
            "application/vnd.jupyter.widget-view+json": {
              "model_id": "f1b0c4edb4464f5484e70cbc02846d1e",
              "version_minor": 0,
              "version_major": 2
            },
            "text/plain": [
              "HBox(children=(FloatProgress(value=0.0, max=50000.0), HTML(value='')))"
            ]
          },
          "metadata": {
            "tags": []
          }
        },
        {
          "output_type": "stream",
          "text": [
            "WARNING:absl:Dataset is using deprecated text encoder API which will be removed soon. Please use the plain_text version of the dataset and migrate to `tensorflow_text`.\n"
          ],
          "name": "stderr"
        },
        {
          "output_type": "stream",
          "text": [
            "\u001b[1mDataset imdb_reviews downloaded and prepared to /root/tensorflow_datasets/imdb_reviews/plain_text/1.0.0. Subsequent calls will reuse this data.\u001b[0m\n",
            "Epoch 1/5\n",
            "781/781 [==============================] - 6s 6ms/step - loss: 0.5861 - accuracy: 0.6919\n",
            "Epoch 2/5\n",
            "781/781 [==============================] - 5s 6ms/step - loss: 0.5181 - accuracy: 0.7445\n",
            "Epoch 3/5\n",
            "781/781 [==============================] - 5s 6ms/step - loss: 0.5122 - accuracy: 0.7494\n",
            "Epoch 4/5\n",
            "781/781 [==============================] - 5s 6ms/step - loss: 0.5086 - accuracy: 0.7496\n",
            "Epoch 5/5\n",
            "781/781 [==============================] - 5s 6ms/step - loss: 0.5054 - accuracy: 0.7520\n"
          ],
          "name": "stdout"
        }
      ]
    },
    {
      "cell_type": "markdown",
      "metadata": {
        "id": "7j63qMDFORoY"
      },
      "source": [
        "**Encoder-Decoder Network**"
      ]
    },
    {
      "cell_type": "markdown",
      "metadata": {
        "id": "SYL5ONduOszD"
      },
      "source": [
        "![image.png](data:image/png;base64,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)"
      ]
    },
    {
      "cell_type": "code",
      "metadata": {
        "id": "M07ZjDUoOQrI"
      },
      "source": [
        "tf.random.set_seed(42)"
      ],
      "execution_count": 10,
      "outputs": []
    },
    {
      "cell_type": "code",
      "metadata": {
        "id": "MXF1Ok3rOxMh"
      },
      "source": [
        "vocab_size = 100\n",
        "embed_size = 10"
      ],
      "execution_count": 11,
      "outputs": []
    },
    {
      "cell_type": "code",
      "metadata": {
        "colab": {
          "base_uri": "https://localhost:8080/"
        },
        "id": "c-E8KR6oO-Bd",
        "outputId": "67d345f1-8f62-48e1-a0bb-5f1b5934fd76"
      },
      "source": [
        "!pip install tensorflow_addons\n"
      ],
      "execution_count": 13,
      "outputs": [
        {
          "output_type": "stream",
          "text": [
            "Collecting tensorflow_addons\n",
            "\u001b[?25l  Downloading https://files.pythonhosted.org/packages/74/e3/56d2fe76f0bb7c88ed9b2a6a557e25e83e252aec08f13de34369cd850a0b/tensorflow_addons-0.12.1-cp37-cp37m-manylinux2010_x86_64.whl (703kB)\n",
            "\u001b[K     |████████████████████████████████| 706kB 5.2MB/s \n",
            "\u001b[?25hRequirement already satisfied: typeguard>=2.7 in /usr/local/lib/python3.7/dist-packages (from tensorflow_addons) (2.7.1)\n",
            "Installing collected packages: tensorflow-addons\n",
            "Successfully installed tensorflow-addons-0.12.1\n"
          ],
          "name": "stdout"
        }
      ]
    },
    {
      "cell_type": "code",
      "metadata": {
        "id": "We6EIy4vO1XW"
      },
      "source": [
        "import tensorflow_addons as tfa\n",
        "import numpy as np\n",
        "\n",
        "\n",
        "encoder_inputs = keras.layers.Input(shape=[None], dtype=np.int32)\n",
        "decoder_inputs = keras.layers.Input(shape=[None], dtype=np.int32)\n",
        "sequence_lengths = keras.layers.Input(shape=[], dtype=np.int32)\n",
        "\n",
        "embeddings = keras.layers.Embedding(vocab_size, embed_size)\n",
        "encoder_embeddings = embeddings(encoder_inputs)\n",
        "decoder_embeddings = embeddings(decoder_inputs)\n",
        "\n",
        "encoder = keras.layers.LSTM(512, return_state=True)\n",
        "encoder_outputs, state_h, state_c = encoder(encoder_embeddings)\n",
        "encoder_state = [state_h, state_c]\n",
        "\n",
        "sampler = tfa.seq2seq.sampler.TrainingSampler()\n",
        "\n",
        "decoder_cell = keras.layers.LSTMCell(512)\n",
        "output_layer = keras.layers.Dense(vocab_size)\n",
        "decoder = tfa.seq2seq.basic_decoder.BasicDecoder(decoder_cell, sampler,\n",
        "                                                 output_layer=output_layer)\n",
        "final_outputs, final_state, final_sequence_lengths = decoder(\n",
        "    decoder_embeddings, initial_state=encoder_state,\n",
        "    sequence_length=sequence_lengths)\n",
        "Y_proba = tf.nn.softmax(final_outputs.rnn_output)\n",
        "\n",
        "model = keras.models.Model(\n",
        "    inputs=[encoder_inputs, decoder_inputs, sequence_lengths],\n",
        "    outputs=[Y_proba])"
      ],
      "execution_count": 15,
      "outputs": []
    },
    {
      "cell_type": "code",
      "metadata": {
        "id": "3B7rWBOvO79Z"
      },
      "source": [
        "model.compile(loss=\"sparse_categorical_crossentropy\", optimizer=\"adam\")"
      ],
      "execution_count": 16,
      "outputs": []
    },
    {
      "cell_type": "code",
      "metadata": {
        "colab": {
          "base_uri": "https://localhost:8080/"
        },
        "id": "xWEHDGS7PKcw",
        "outputId": "3eb2f4c6-8d51-432f-d5ad-de6a1a032bbf"
      },
      "source": [
        "X = np.random.randint(100, size=10*1000).reshape(1000, 10)\n",
        "Y = np.random.randint(100, size=15*1000).reshape(1000, 15)\n",
        "X_decoder = np.c_[np.zeros((1000, 1)), Y[:, :-1]]\n",
        "seq_lengths = np.full([1000], 15)\n",
        "\n",
        "history = model.fit([X, X_decoder, seq_lengths], Y, epochs=2)"
      ],
      "execution_count": 17,
      "outputs": [
        {
          "output_type": "stream",
          "text": [
            "Epoch 1/2\n",
            "32/32 [==============================] - 16s 371ms/step - loss: 4.6055\n",
            "Epoch 2/2\n",
            "32/32 [==============================] - 12s 366ms/step - loss: 4.6027\n"
          ],
          "name": "stdout"
        }
      ]
    }
  ]
}