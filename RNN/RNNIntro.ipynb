{
  "nbformat": 4,
  "nbformat_minor": 0,
  "metadata": {
    "colab": {
      "name": "RNNIntro.ipynb",
      "provenance": [],
      "authorship_tag": "ABX9TyO7NRy0AhOMgWl/JRqjRVF8",
      "include_colab_link": true
    },
    "kernelspec": {
      "name": "python3",
      "display_name": "Python 3"
    }
  },
  "cells": [
    {
      "cell_type": "markdown",
      "metadata": {
        "id": "view-in-github",
        "colab_type": "text"
      },
      "source": [
        "<a href=\"https://colab.research.google.com/github/gauravpks/dl-repo/blob/master/RNN/RNNIntro.ipynb\" target=\"_parent\"><img src=\"https://colab.research.google.com/assets/colab-badge.svg\" alt=\"Open In Colab\"/></a>"
      ]
    },
    {
      "cell_type": "markdown",
      "metadata": {
        "id": "K1n-NCf96oWF"
      },
      "source": [
        "#RNN & LSTM"
      ]
    },
    {
      "cell_type": "markdown",
      "metadata": {
        "id": "-XkTIS8O6IpQ"
      },
      "source": [
        "http://colah.github.io/posts/2015-08-Understanding-LSTMs/"
      ]
    },
    {
      "cell_type": "code",
      "metadata": {
        "id": "u3AHxQPx6jaK"
      },
      "source": [
        ""
      ],
      "execution_count": null,
      "outputs": []
    }
  ]
}