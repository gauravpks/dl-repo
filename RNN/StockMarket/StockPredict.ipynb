{
  "nbformat": 4,
  "nbformat_minor": 0,
  "metadata": {
    "kernelspec": {
      "display_name": "Python 3",
      "language": "python",
      "name": "python3"
    },
    "language_info": {
      "codemirror_mode": {
        "name": "ipython",
        "version": 3
      },
      "file_extension": ".py",
      "mimetype": "text/x-python",
      "name": "python",
      "nbconvert_exporter": "python",
      "pygments_lexer": "ipython3",
      "version": "3.6.9"
    },
    "colab": {
      "name": "StockPredict.ipynb",
      "provenance": [],
      "include_colab_link": true
    }
  },
  "cells": [
    {
      "cell_type": "markdown",
      "metadata": {
        "id": "view-in-github",
        "colab_type": "text"
      },
      "source": [
        "<a href=\"https://colab.research.google.com/github/gauravpks/dl-repo/blob/master/RNN/StockMarket/StockPredict.ipynb\" target=\"_parent\"><img src=\"https://colab.research.google.com/assets/colab-badge.svg\" alt=\"Open In Colab\"/></a>"
      ]
    },
    {
      "cell_type": "markdown",
      "metadata": {
        "id": "m42dllwYKbOw"
      },
      "source": [
        "### Stock Market Prediction And Forecasting Using Stacked LSTM"
      ]
    },
    {
      "cell_type": "code",
      "metadata": {
        "id": "NMY4awxLKbO0"
      },
      "source": [
        "### Keras and Tensorflow >2.0"
      ],
      "execution_count": 60,
      "outputs": []
    },
    {
      "cell_type": "code",
      "metadata": {
        "id": "vw5HuYKlKh1C"
      },
      "source": [
        "import tensorflow as tf\r\n",
        "from tensorflow import keras"
      ],
      "execution_count": 61,
      "outputs": []
    },
    {
      "cell_type": "code",
      "metadata": {
        "id": "qQFY5-DRKbO1"
      },
      "source": [
        "### Data Collection\n",
        "import pandas_datareader as pdr\n",
        "key=\"08941af7f104596f7055c25ae791348ca55978d4\""
      ],
      "execution_count": 62,
      "outputs": []
    },
    {
      "cell_type": "code",
      "metadata": {
        "id": "roXc_ps-KbO1"
      },
      "source": [
        "df = pdr.get_data_tiingo('AAPL', api_key=key)"
      ],
      "execution_count": 63,
      "outputs": []
    },
    {
      "cell_type": "code",
      "metadata": {
        "id": "2RmaQo2wKbO1"
      },
      "source": [
        "df.to_csv('AAPL.csv')"
      ],
      "execution_count": 64,
      "outputs": []
    },
    {
      "cell_type": "code",
      "metadata": {
        "id": "sQRhL1CFKbO1"
      },
      "source": [
        "import pandas as pd"
      ],
      "execution_count": 65,
      "outputs": []
    },
    {
      "cell_type": "code",
      "metadata": {
        "id": "s5JmdrHbKbO2"
      },
      "source": [
        "df=pd.read_csv('AAPL.csv')"
      ],
      "execution_count": 66,
      "outputs": []
    },
    {
      "cell_type": "code",
      "metadata": {
        "id": "4hNrO2BYKbO2",
        "outputId": "ff977ba8-8f18-492d-cc9c-2de74a7e55d2",
        "colab": {
          "base_uri": "https://localhost:8080/",
          "height": 195
        }
      },
      "source": [
        "df.head()"
      ],
      "execution_count": 67,
      "outputs": [
        {
          "output_type": "execute_result",
          "data": {
            "text/html": [
              "<div>\n",
              "<style scoped>\n",
              "    .dataframe tbody tr th:only-of-type {\n",
              "        vertical-align: middle;\n",
              "    }\n",
              "\n",
              "    .dataframe tbody tr th {\n",
              "        vertical-align: top;\n",
              "    }\n",
              "\n",
              "    .dataframe thead th {\n",
              "        text-align: right;\n",
              "    }\n",
              "</style>\n",
              "<table border=\"1\" class=\"dataframe\">\n",
              "  <thead>\n",
              "    <tr style=\"text-align: right;\">\n",
              "      <th></th>\n",
              "      <th>symbol</th>\n",
              "      <th>date</th>\n",
              "      <th>close</th>\n",
              "      <th>high</th>\n",
              "      <th>low</th>\n",
              "      <th>open</th>\n",
              "      <th>volume</th>\n",
              "      <th>adjClose</th>\n",
              "      <th>adjHigh</th>\n",
              "      <th>adjLow</th>\n",
              "      <th>adjOpen</th>\n",
              "      <th>adjVolume</th>\n",
              "      <th>divCash</th>\n",
              "      <th>splitFactor</th>\n",
              "    </tr>\n",
              "  </thead>\n",
              "  <tbody>\n",
              "    <tr>\n",
              "      <th>0</th>\n",
              "      <td>AAPL</td>\n",
              "      <td>2016-02-22 00:00:00+00:00</td>\n",
              "      <td>96.88</td>\n",
              "      <td>96.9000</td>\n",
              "      <td>95.92</td>\n",
              "      <td>96.31</td>\n",
              "      <td>34280758</td>\n",
              "      <td>22.523315</td>\n",
              "      <td>22.527965</td>\n",
              "      <td>22.300128</td>\n",
              "      <td>22.390798</td>\n",
              "      <td>137123032</td>\n",
              "      <td>0.0</td>\n",
              "      <td>1.0</td>\n",
              "    </tr>\n",
              "    <tr>\n",
              "      <th>1</th>\n",
              "      <td>AAPL</td>\n",
              "      <td>2016-02-23 00:00:00+00:00</td>\n",
              "      <td>94.69</td>\n",
              "      <td>96.5000</td>\n",
              "      <td>94.55</td>\n",
              "      <td>96.40</td>\n",
              "      <td>31942633</td>\n",
              "      <td>22.014169</td>\n",
              "      <td>22.434970</td>\n",
              "      <td>21.981621</td>\n",
              "      <td>22.411721</td>\n",
              "      <td>127770532</td>\n",
              "      <td>0.0</td>\n",
              "      <td>1.0</td>\n",
              "    </tr>\n",
              "    <tr>\n",
              "      <th>2</th>\n",
              "      <td>AAPL</td>\n",
              "      <td>2016-02-24 00:00:00+00:00</td>\n",
              "      <td>96.10</td>\n",
              "      <td>96.3800</td>\n",
              "      <td>93.32</td>\n",
              "      <td>93.98</td>\n",
              "      <td>36255745</td>\n",
              "      <td>22.341975</td>\n",
              "      <td>22.407072</td>\n",
              "      <td>21.695662</td>\n",
              "      <td>21.849103</td>\n",
              "      <td>145022980</td>\n",
              "      <td>0.0</td>\n",
              "      <td>1.0</td>\n",
              "    </tr>\n",
              "    <tr>\n",
              "      <th>3</th>\n",
              "      <td>AAPL</td>\n",
              "      <td>2016-02-25 00:00:00+00:00</td>\n",
              "      <td>96.76</td>\n",
              "      <td>96.7600</td>\n",
              "      <td>95.25</td>\n",
              "      <td>96.05</td>\n",
              "      <td>27582659</td>\n",
              "      <td>22.495417</td>\n",
              "      <td>22.495417</td>\n",
              "      <td>22.144362</td>\n",
              "      <td>22.330351</td>\n",
              "      <td>110330636</td>\n",
              "      <td>0.0</td>\n",
              "      <td>1.0</td>\n",
              "    </tr>\n",
              "    <tr>\n",
              "      <th>4</th>\n",
              "      <td>AAPL</td>\n",
              "      <td>2016-02-26 00:00:00+00:00</td>\n",
              "      <td>96.91</td>\n",
              "      <td>98.0237</td>\n",
              "      <td>96.58</td>\n",
              "      <td>97.20</td>\n",
              "      <td>28991131</td>\n",
              "      <td>22.530290</td>\n",
              "      <td>22.789210</td>\n",
              "      <td>22.453569</td>\n",
              "      <td>22.597711</td>\n",
              "      <td>115964524</td>\n",
              "      <td>0.0</td>\n",
              "      <td>1.0</td>\n",
              "    </tr>\n",
              "  </tbody>\n",
              "</table>\n",
              "</div>"
            ],
            "text/plain": [
              "  symbol                       date  close  ...  adjVolume  divCash  splitFactor\n",
              "0   AAPL  2016-02-22 00:00:00+00:00  96.88  ...  137123032      0.0          1.0\n",
              "1   AAPL  2016-02-23 00:00:00+00:00  94.69  ...  127770532      0.0          1.0\n",
              "2   AAPL  2016-02-24 00:00:00+00:00  96.10  ...  145022980      0.0          1.0\n",
              "3   AAPL  2016-02-25 00:00:00+00:00  96.76  ...  110330636      0.0          1.0\n",
              "4   AAPL  2016-02-26 00:00:00+00:00  96.91  ...  115964524      0.0          1.0\n",
              "\n",
              "[5 rows x 14 columns]"
            ]
          },
          "metadata": {
            "tags": []
          },
          "execution_count": 67
        }
      ]
    },
    {
      "cell_type": "code",
      "metadata": {
        "id": "L4BMiqy-KbO2",
        "outputId": "dcdc7672-d00a-4e84-dede-c3dd41d93687",
        "colab": {
          "base_uri": "https://localhost:8080/",
          "height": 195
        }
      },
      "source": [
        "df.tail()"
      ],
      "execution_count": 68,
      "outputs": [
        {
          "output_type": "execute_result",
          "data": {
            "text/html": [
              "<div>\n",
              "<style scoped>\n",
              "    .dataframe tbody tr th:only-of-type {\n",
              "        vertical-align: middle;\n",
              "    }\n",
              "\n",
              "    .dataframe tbody tr th {\n",
              "        vertical-align: top;\n",
              "    }\n",
              "\n",
              "    .dataframe thead th {\n",
              "        text-align: right;\n",
              "    }\n",
              "</style>\n",
              "<table border=\"1\" class=\"dataframe\">\n",
              "  <thead>\n",
              "    <tr style=\"text-align: right;\">\n",
              "      <th></th>\n",
              "      <th>symbol</th>\n",
              "      <th>date</th>\n",
              "      <th>close</th>\n",
              "      <th>high</th>\n",
              "      <th>low</th>\n",
              "      <th>open</th>\n",
              "      <th>volume</th>\n",
              "      <th>adjClose</th>\n",
              "      <th>adjHigh</th>\n",
              "      <th>adjLow</th>\n",
              "      <th>adjOpen</th>\n",
              "      <th>adjVolume</th>\n",
              "      <th>divCash</th>\n",
              "      <th>splitFactor</th>\n",
              "    </tr>\n",
              "  </thead>\n",
              "  <tbody>\n",
              "    <tr>\n",
              "      <th>1254</th>\n",
              "      <td>AAPL</td>\n",
              "      <td>2021-02-12 00:00:00+00:00</td>\n",
              "      <td>135.37</td>\n",
              "      <td>135.530</td>\n",
              "      <td>133.6921</td>\n",
              "      <td>134.35</td>\n",
              "      <td>60145130</td>\n",
              "      <td>135.37</td>\n",
              "      <td>135.530</td>\n",
              "      <td>133.6921</td>\n",
              "      <td>134.35</td>\n",
              "      <td>60145130</td>\n",
              "      <td>0.0</td>\n",
              "      <td>1.0</td>\n",
              "    </tr>\n",
              "    <tr>\n",
              "      <th>1255</th>\n",
              "      <td>AAPL</td>\n",
              "      <td>2021-02-16 00:00:00+00:00</td>\n",
              "      <td>133.19</td>\n",
              "      <td>136.010</td>\n",
              "      <td>132.7900</td>\n",
              "      <td>135.49</td>\n",
              "      <td>80576316</td>\n",
              "      <td>133.19</td>\n",
              "      <td>136.010</td>\n",
              "      <td>132.7900</td>\n",
              "      <td>135.49</td>\n",
              "      <td>80576316</td>\n",
              "      <td>0.0</td>\n",
              "      <td>1.0</td>\n",
              "    </tr>\n",
              "    <tr>\n",
              "      <th>1256</th>\n",
              "      <td>AAPL</td>\n",
              "      <td>2021-02-17 00:00:00+00:00</td>\n",
              "      <td>130.84</td>\n",
              "      <td>132.220</td>\n",
              "      <td>129.4700</td>\n",
              "      <td>131.25</td>\n",
              "      <td>97372199</td>\n",
              "      <td>130.84</td>\n",
              "      <td>132.220</td>\n",
              "      <td>129.4700</td>\n",
              "      <td>131.25</td>\n",
              "      <td>97372199</td>\n",
              "      <td>0.0</td>\n",
              "      <td>1.0</td>\n",
              "    </tr>\n",
              "    <tr>\n",
              "      <th>1257</th>\n",
              "      <td>AAPL</td>\n",
              "      <td>2021-02-18 00:00:00+00:00</td>\n",
              "      <td>129.71</td>\n",
              "      <td>129.995</td>\n",
              "      <td>127.4100</td>\n",
              "      <td>129.20</td>\n",
              "      <td>96856748</td>\n",
              "      <td>129.71</td>\n",
              "      <td>129.995</td>\n",
              "      <td>127.4100</td>\n",
              "      <td>129.20</td>\n",
              "      <td>96856748</td>\n",
              "      <td>0.0</td>\n",
              "      <td>1.0</td>\n",
              "    </tr>\n",
              "    <tr>\n",
              "      <th>1258</th>\n",
              "      <td>AAPL</td>\n",
              "      <td>2021-02-19 00:00:00+00:00</td>\n",
              "      <td>129.87</td>\n",
              "      <td>130.710</td>\n",
              "      <td>128.8000</td>\n",
              "      <td>130.24</td>\n",
              "      <td>87668834</td>\n",
              "      <td>129.87</td>\n",
              "      <td>130.710</td>\n",
              "      <td>128.8000</td>\n",
              "      <td>130.24</td>\n",
              "      <td>87668834</td>\n",
              "      <td>0.0</td>\n",
              "      <td>1.0</td>\n",
              "    </tr>\n",
              "  </tbody>\n",
              "</table>\n",
              "</div>"
            ],
            "text/plain": [
              "     symbol                       date   close  ...  adjVolume  divCash  splitFactor\n",
              "1254   AAPL  2021-02-12 00:00:00+00:00  135.37  ...   60145130      0.0          1.0\n",
              "1255   AAPL  2021-02-16 00:00:00+00:00  133.19  ...   80576316      0.0          1.0\n",
              "1256   AAPL  2021-02-17 00:00:00+00:00  130.84  ...   97372199      0.0          1.0\n",
              "1257   AAPL  2021-02-18 00:00:00+00:00  129.71  ...   96856748      0.0          1.0\n",
              "1258   AAPL  2021-02-19 00:00:00+00:00  129.87  ...   87668834      0.0          1.0\n",
              "\n",
              "[5 rows x 14 columns]"
            ]
          },
          "metadata": {
            "tags": []
          },
          "execution_count": 68
        }
      ]
    },
    {
      "cell_type": "code",
      "metadata": {
        "id": "tdbivVJ8KbO3"
      },
      "source": [
        "df1=df.reset_index()['close']"
      ],
      "execution_count": 69,
      "outputs": []
    },
    {
      "cell_type": "code",
      "metadata": {
        "id": "Ge5WKnNvKbO3",
        "outputId": "910bf1c4-1f75-41f8-bc24-10e38467166d",
        "colab": {
          "base_uri": "https://localhost:8080/"
        }
      },
      "source": [
        "df1.shape"
      ],
      "execution_count": 70,
      "outputs": [
        {
          "output_type": "execute_result",
          "data": {
            "text/plain": [
              "(1259,)"
            ]
          },
          "metadata": {
            "tags": []
          },
          "execution_count": 70
        }
      ]
    },
    {
      "cell_type": "code",
      "metadata": {
        "id": "nGb-kdZ3KbO3",
        "outputId": "32aa75a7-8b25-4ff5-8bef-c7875609e537",
        "colab": {
          "base_uri": "https://localhost:8080/",
          "height": 282
        }
      },
      "source": [
        "import matplotlib.pyplot as plt\n",
        "plt.plot(df1)"
      ],
      "execution_count": 71,
      "outputs": [
        {
          "output_type": "execute_result",
          "data": {
            "text/plain": [
              "[<matplotlib.lines.Line2D at 0x7f9249249da0>]"
            ]
          },
          "metadata": {
            "tags": []
          },
          "execution_count": 71
        },
        {
          "output_type": "display_data",
          "data": {
            "image/png": "[encoded data removed]",
            "text/plain": [
              "<Figure size 432x288 with 1 Axes>"
            ]
          },
          "metadata": {
            "tags": [],
            "needs_background": "light"
          }
        }
      ]
    },
    {
      "cell_type": "code",
      "metadata": {
        "id": "0ZoSr6ZWKbO3"
      },
      "source": [
        "### LSTM are sensitive to the scale of the data. so we apply MinMax scaler "
      ],
      "execution_count": 72,
      "outputs": []
    },
    {
      "cell_type": "code",
      "metadata": {
        "id": "_pOEQJhFKbO3"
      },
      "source": [
        "import numpy as np"
      ],
      "execution_count": 73,
      "outputs": []
    },
    {
      "cell_type": "code",
      "metadata": {
        "id": "34YGKZuCKbO4"
      },
      "source": [
        "from sklearn.preprocessing import MinMaxScaler\n",
        "scaler=MinMaxScaler(feature_range=(0,1))\n",
        "df1=scaler.fit_transform(np.array(df1).reshape(-1,1))"
      ],
      "execution_count": 74,
      "outputs": []
    },
    {
      "cell_type": "code",
      "metadata": {
        "id": "ptU1ffS-KbO4",
        "outputId": "81dd3bbc-cfa6-4cd2-cfd4-a3504964d4f0",
        "colab": {
          "base_uri": "https://localhost:8080/"
        }
      },
      "source": [
        "print(df1)"
      ],
      "execution_count": 75,
      "outputs": [
        {
          "output_type": "stream",
          "text": [
            "[[0.01573061]\n",
            " [0.01046302]\n",
            " [0.01385448]\n",
            " ...\n",
            " [0.09741431]\n",
            " [0.09469633]\n",
            " [0.09508118]]\n"
          ],
          "name": "stdout"
        }
      ]
    },
    {
      "cell_type": "code",
      "metadata": {
        "id": "zvniQq4GKbO4"
      },
      "source": [
        "##splitting dataset into train and test split\n",
        "training_size=int(len(df1)*0.65)\n",
        "test_size=len(df1)-training_size\n",
        "train_data,test_data=df1[0:training_size,:],df1[training_size:len(df1),:1]"
      ],
      "execution_count": 76,
      "outputs": []
    },
    {
      "cell_type": "code",
      "metadata": {
        "id": "Dbj__-ktKbO4",
        "outputId": "6ad15235-50be-4fb5-c39b-5eb716e20618",
        "colab": {
          "base_uri": "https://localhost:8080/"
        }
      },
      "source": [
        "training_size,test_size"
      ],
      "execution_count": 77,
      "outputs": [
        {
          "output_type": "execute_result",
          "data": {
            "text/plain": [
              "(818, 441)"
            ]
          },
          "metadata": {
            "tags": []
          },
          "execution_count": 77
        }
      ]
    },
    {
      "cell_type": "code",
      "metadata": {
        "id": "OrTih2TgKbO4"
      },
      "source": [
        "import numpy\n",
        "# convert an array of values into a dataset matrix\n",
        "def create_dataset(dataset, time_step=1):\n",
        "\tdataX, dataY = [], []\n",
        "\tfor i in range(len(dataset)-time_step-1):\n",
        "\t\ta = dataset[i:(i+time_step), 0]   ###i=0, 0,1,2,3-----99   100 \n",
        "\t\tdataX.append(a)\n",
        "\t\tdataY.append(dataset[i + time_step, 0])\n",
        "\treturn numpy.array(dataX), numpy.array(dataY)"
      ],
      "execution_count": 78,
      "outputs": []
    },
    {
      "cell_type": "code",
      "metadata": {
        "id": "tA-DIOn9KbO4"
      },
      "source": [
        "# reshape into X=t,t+1,t+2,t+3 and Y=t+4\n",
        "time_step = 100\n",
        "X_train, y_train = create_dataset(train_data, time_step)\n",
        "X_test, ytest = create_dataset(test_data, time_step)"
      ],
      "execution_count": 79,
      "outputs": []
    },
    {
      "cell_type": "code",
      "metadata": {
        "id": "fxSVBqzmKbO4",
        "outputId": "d704210a-bd28-4727-8549-aa3241ffaca0",
        "colab": {
          "base_uri": "https://localhost:8080/"
        }
      },
      "source": [
        "print(X_train.shape), print(y_train.shape)"
      ],
      "execution_count": 80,
      "outputs": [
        {
          "output_type": "stream",
          "text": [
            "(717, 100)\n",
            "(717,)\n"
          ],
          "name": "stdout"
        },
        {
          "output_type": "execute_result",
          "data": {
            "text/plain": [
              "(None, None)"
            ]
          },
          "metadata": {
            "tags": []
          },
          "execution_count": 80
        }
      ]
    },
    {
      "cell_type": "code",
      "metadata": {
        "id": "IcU9xj-DKbO5",
        "outputId": "5e5af257-cc7a-4738-f4b3-2907a27657e7",
        "colab": {
          "base_uri": "https://localhost:8080/"
        }
      },
      "source": [
        "print(X_test.shape), print(ytest.shape)"
      ],
      "execution_count": 81,
      "outputs": [
        {
          "output_type": "stream",
          "text": [
            "(340, 100)\n",
            "(340,)\n"
          ],
          "name": "stdout"
        },
        {
          "output_type": "execute_result",
          "data": {
            "text/plain": [
              "(None, None)"
            ]
          },
          "metadata": {
            "tags": []
          },
          "execution_count": 81
        }
      ]
    },
    {
      "cell_type": "code",
      "metadata": {
        "id": "qwA1e27gKbO5"
      },
      "source": [
        "# reshape input to be [samples, time steps, features] which is required for LSTM\n",
        "X_train =X_train.reshape(X_train.shape[0],X_train.shape[1] , 1)\n",
        "X_test = X_test.reshape(X_test.shape[0],X_test.shape[1] , 1)"
      ],
      "execution_count": 82,
      "outputs": []
    },
    {
      "cell_type": "code",
      "metadata": {
        "id": "3VeeaxdYKbO5"
      },
      "source": [
        "### Create the Stacked LSTM model\n",
        "from tensorflow.keras.models import Sequential\n",
        "from tensorflow.keras.layers import Dense\n",
        "from tensorflow.keras.layers import LSTM"
      ],
      "execution_count": 83,
      "outputs": []
    },
    {
      "cell_type": "code",
      "metadata": {
        "id": "6xGwrttcKbO5"
      },
      "source": [
        "model=Sequential()\n",
        "model.add(LSTM(50,return_sequences=True,input_shape=(100,1)))\n",
        "model.add(LSTM(50,return_sequences=True))\n",
        "model.add(LSTM(50))\n",
        "model.add(Dense(1))\n",
        "model.compile(loss='mean_squared_error',optimizer='adam')\n"
      ],
      "execution_count": 84,
      "outputs": []
    },
    {
      "cell_type": "code",
      "metadata": {
        "id": "COLV5T7CKbO5",
        "outputId": "8e853c1b-6845-49e3-f709-b9564a4af010",
        "colab": {
          "base_uri": "https://localhost:8080/"
        }
      },
      "source": [
        "model.summary()"
      ],
      "execution_count": 85,
      "outputs": [
        {
          "output_type": "stream",
          "text": [
            "Model: \"sequential_1\"\n",
            "_________________________________________________________________\n",
            "Layer (type)                 Output Shape              Param #   \n",
            "=================================================================\n",
            "lstm_3 (LSTM)                (None, 100, 50)           10400     \n",
            "_________________________________________________________________\n",
            "lstm_4 (LSTM)                (None, 100, 50)           20200     \n",
            "_________________________________________________________________\n",
            "lstm_5 (LSTM)                (None, 50)                20200     \n",
            "_________________________________________________________________\n",
            "dense_1 (Dense)              (None, 1)                 51        \n",
            "=================================================================\n",
            "Total params: 50,851\n",
            "Trainable params: 50,851\n",
            "Non-trainable params: 0\n",
            "_________________________________________________________________\n"
          ],
          "name": "stdout"
        }
      ]
    },
    {
      "cell_type": "code",
      "metadata": {
        "id": "fG4YVMlIKbO5"
      },
      "source": [
        ""
      ],
      "execution_count": 85,
      "outputs": []
    },
    {
      "cell_type": "code",
      "metadata": {
        "id": "XeauCtvFKbO5",
        "outputId": "2ab8c766-1a28-4696-821a-0db95dc38166",
        "colab": {
          "base_uri": "https://localhost:8080/"
        }
      },
      "source": [
        "model.fit(X_train,y_train,validation_data=(X_test,ytest),epochs=100,batch_size=64,verbose=1)"
      ],
      "execution_count": 86,
      "outputs": [
        {
          "output_type": "stream",
          "text": [
            "Epoch 1/100\n",
            "12/12 [==============================] - 7s 261ms/step - loss: 0.0137 - val_loss: 0.0570\n",
            "Epoch 2/100\n",
            "12/12 [==============================] - 2s 186ms/step - loss: 0.0027 - val_loss: 0.0239\n",
            "Epoch 3/100\n",
            "12/12 [==============================] - 2s 190ms/step - loss: 9.9006e-04 - val_loss: 0.0195\n",
            "Epoch 4/100\n",
            "12/12 [==============================] - 2s 189ms/step - loss: 5.6572e-04 - val_loss: 0.0194\n",
            "Epoch 5/100\n",
            "12/12 [==============================] - 2s 209ms/step - loss: 4.2967e-04 - val_loss: 0.0187\n",
            "Epoch 6/100\n",
            "12/12 [==============================] - 2s 190ms/step - loss: 3.4361e-04 - val_loss: 0.0182\n",
            "Epoch 7/100\n",
            "12/12 [==============================] - 2s 189ms/step - loss: 2.9920e-04 - val_loss: 0.0178\n",
            "Epoch 8/100\n",
            "12/12 [==============================] - 2s 190ms/step - loss: 3.4314e-04 - val_loss: 0.0173\n",
            "Epoch 9/100\n",
            "12/12 [==============================] - 2s 189ms/step - loss: 3.0507e-04 - val_loss: 0.0168\n",
            "Epoch 10/100\n",
            "12/12 [==============================] - 2s 188ms/step - loss: 2.8686e-04 - val_loss: 0.0163\n",
            "Epoch 11/100\n",
            "12/12 [==============================] - 2s 189ms/step - loss: 3.2934e-04 - val_loss: 0.0158\n",
            "Epoch 12/100\n",
            "12/12 [==============================] - 2s 189ms/step - loss: 2.6555e-04 - val_loss: 0.0154\n",
            "Epoch 13/100\n",
            "12/12 [==============================] - 2s 192ms/step - loss: 2.8091e-04 - val_loss: 0.0150\n",
            "Epoch 14/100\n",
            "12/12 [==============================] - 2s 190ms/step - loss: 2.4737e-04 - val_loss: 0.0147\n",
            "Epoch 15/100\n",
            "12/12 [==============================] - 2s 186ms/step - loss: 2.4660e-04 - val_loss: 0.0143\n",
            "Epoch 16/100\n",
            "12/12 [==============================] - 2s 200ms/step - loss: 2.2631e-04 - val_loss: 0.0144\n",
            "Epoch 17/100\n",
            "12/12 [==============================] - 2s 189ms/step - loss: 2.3612e-04 - val_loss: 0.0140\n",
            "Epoch 18/100\n",
            "12/12 [==============================] - 2s 193ms/step - loss: 1.9137e-04 - val_loss: 0.0138\n",
            "Epoch 19/100\n",
            "12/12 [==============================] - 2s 190ms/step - loss: 2.1920e-04 - val_loss: 0.0139\n",
            "Epoch 20/100\n",
            "12/12 [==============================] - 2s 188ms/step - loss: 2.0699e-04 - val_loss: 0.0147\n",
            "Epoch 21/100\n",
            "12/12 [==============================] - 2s 190ms/step - loss: 2.3401e-04 - val_loss: 0.0136\n",
            "Epoch 22/100\n",
            "12/12 [==============================] - 2s 188ms/step - loss: 2.0731e-04 - val_loss: 0.0131\n",
            "Epoch 23/100\n",
            "12/12 [==============================] - 2s 197ms/step - loss: 2.0352e-04 - val_loss: 0.0141\n",
            "Epoch 24/100\n",
            "12/12 [==============================] - 2s 194ms/step - loss: 2.1871e-04 - val_loss: 0.0133\n",
            "Epoch 25/100\n",
            "12/12 [==============================] - 2s 195ms/step - loss: 1.8800e-04 - val_loss: 0.0136\n",
            "Epoch 26/100\n",
            "12/12 [==============================] - 2s 194ms/step - loss: 1.9886e-04 - val_loss: 0.0126\n",
            "Epoch 27/100\n",
            "12/12 [==============================] - 2s 192ms/step - loss: 2.1169e-04 - val_loss: 0.0152\n",
            "Epoch 28/100\n",
            "12/12 [==============================] - 2s 188ms/step - loss: 2.3657e-04 - val_loss: 0.0127\n",
            "Epoch 29/100\n",
            "12/12 [==============================] - 2s 194ms/step - loss: 1.9649e-04 - val_loss: 0.0118\n",
            "Epoch 30/100\n",
            "12/12 [==============================] - 2s 190ms/step - loss: 1.9816e-04 - val_loss: 0.0134\n",
            "Epoch 31/100\n",
            "12/12 [==============================] - 2s 190ms/step - loss: 2.2086e-04 - val_loss: 0.0113\n",
            "Epoch 32/100\n",
            "12/12 [==============================] - 2s 195ms/step - loss: 2.7353e-04 - val_loss: 0.0128\n",
            "Epoch 33/100\n",
            "12/12 [==============================] - 2s 192ms/step - loss: 1.9071e-04 - val_loss: 0.0122\n",
            "Epoch 34/100\n",
            "12/12 [==============================] - 2s 194ms/step - loss: 1.7058e-04 - val_loss: 0.0119\n",
            "Epoch 35/100\n",
            "12/12 [==============================] - 2s 192ms/step - loss: 1.6858e-04 - val_loss: 0.0127\n",
            "Epoch 36/100\n",
            "12/12 [==============================] - 2s 194ms/step - loss: 1.7236e-04 - val_loss: 0.0128\n",
            "Epoch 37/100\n",
            "12/12 [==============================] - 2s 201ms/step - loss: 1.8741e-04 - val_loss: 0.0114\n",
            "Epoch 38/100\n",
            "12/12 [==============================] - 2s 207ms/step - loss: 1.9775e-04 - val_loss: 0.0136\n",
            "Epoch 39/100\n",
            "12/12 [==============================] - 2s 193ms/step - loss: 2.1695e-04 - val_loss: 0.0123\n",
            "Epoch 40/100\n",
            "12/12 [==============================] - 2s 196ms/step - loss: 1.5974e-04 - val_loss: 0.0124\n",
            "Epoch 41/100\n",
            "12/12 [==============================] - 2s 197ms/step - loss: 1.6891e-04 - val_loss: 0.0136\n",
            "Epoch 42/100\n",
            "12/12 [==============================] - 2s 194ms/step - loss: 1.7793e-04 - val_loss: 0.0119\n",
            "Epoch 43/100\n",
            "12/12 [==============================] - 2s 195ms/step - loss: 1.8462e-04 - val_loss: 0.0130\n",
            "Epoch 44/100\n",
            "12/12 [==============================] - 2s 199ms/step - loss: 1.6187e-04 - val_loss: 0.0117\n",
            "Epoch 45/100\n",
            "12/12 [==============================] - 2s 203ms/step - loss: 1.6507e-04 - val_loss: 0.0126\n",
            "Epoch 46/100\n",
            "12/12 [==============================] - 2s 193ms/step - loss: 1.4399e-04 - val_loss: 0.0133\n",
            "Epoch 47/100\n",
            "12/12 [==============================] - 2s 193ms/step - loss: 1.7148e-04 - val_loss: 0.0115\n",
            "Epoch 48/100\n",
            "12/12 [==============================] - 2s 193ms/step - loss: 2.1157e-04 - val_loss: 0.0127\n",
            "Epoch 49/100\n",
            "12/12 [==============================] - 2s 193ms/step - loss: 2.0164e-04 - val_loss: 0.0109\n",
            "Epoch 50/100\n",
            "12/12 [==============================] - 2s 197ms/step - loss: 1.5069e-04 - val_loss: 0.0125\n",
            "Epoch 51/100\n",
            "12/12 [==============================] - 2s 197ms/step - loss: 1.6294e-04 - val_loss: 0.0125\n",
            "Epoch 52/100\n",
            "12/12 [==============================] - 2s 195ms/step - loss: 1.4129e-04 - val_loss: 0.0126\n",
            "Epoch 53/100\n",
            "12/12 [==============================] - 2s 194ms/step - loss: 1.8240e-04 - val_loss: 0.0129\n",
            "Epoch 54/100\n",
            "12/12 [==============================] - 2s 197ms/step - loss: 1.6785e-04 - val_loss: 0.0132\n",
            "Epoch 55/100\n",
            "12/12 [==============================] - 2s 200ms/step - loss: 1.5739e-04 - val_loss: 0.0119\n",
            "Epoch 56/100\n",
            "12/12 [==============================] - 2s 198ms/step - loss: 1.4543e-04 - val_loss: 0.0131\n",
            "Epoch 57/100\n",
            "12/12 [==============================] - 2s 197ms/step - loss: 1.3846e-04 - val_loss: 0.0145\n",
            "Epoch 58/100\n",
            "12/12 [==============================] - 2s 195ms/step - loss: 1.4390e-04 - val_loss: 0.0129\n",
            "Epoch 59/100\n",
            "12/12 [==============================] - 2s 198ms/step - loss: 1.3070e-04 - val_loss: 0.0123\n",
            "Epoch 60/100\n",
            "12/12 [==============================] - 2s 198ms/step - loss: 1.5677e-04 - val_loss: 0.0125\n",
            "Epoch 61/100\n",
            "12/12 [==============================] - 2s 196ms/step - loss: 1.5854e-04 - val_loss: 0.0130\n",
            "Epoch 62/100\n",
            "12/12 [==============================] - 2s 198ms/step - loss: 1.5636e-04 - val_loss: 0.0118\n",
            "Epoch 63/100\n",
            "12/12 [==============================] - 2s 195ms/step - loss: 1.3996e-04 - val_loss: 0.0130\n",
            "Epoch 64/100\n",
            "12/12 [==============================] - 2s 195ms/step - loss: 1.5990e-04 - val_loss: 0.0123\n",
            "Epoch 65/100\n",
            "12/12 [==============================] - 2s 196ms/step - loss: 1.6639e-04 - val_loss: 0.0121\n",
            "Epoch 66/100\n",
            "12/12 [==============================] - 2s 198ms/step - loss: 1.3026e-04 - val_loss: 0.0122\n",
            "Epoch 67/100\n",
            "12/12 [==============================] - 2s 195ms/step - loss: 1.2288e-04 - val_loss: 0.0131\n",
            "Epoch 68/100\n",
            "12/12 [==============================] - 2s 196ms/step - loss: 1.3688e-04 - val_loss: 0.0114\n",
            "Epoch 69/100\n",
            "12/12 [==============================] - 2s 194ms/step - loss: 1.3481e-04 - val_loss: 0.0118\n",
            "Epoch 70/100\n",
            "12/12 [==============================] - 2s 198ms/step - loss: 1.3332e-04 - val_loss: 0.0108\n",
            "Epoch 71/100\n",
            "12/12 [==============================] - 2s 199ms/step - loss: 1.3383e-04 - val_loss: 0.0107\n",
            "Epoch 72/100\n",
            "12/12 [==============================] - 2s 194ms/step - loss: 1.2321e-04 - val_loss: 0.0105\n",
            "Epoch 73/100\n",
            "12/12 [==============================] - 2s 196ms/step - loss: 1.2096e-04 - val_loss: 0.0101\n",
            "Epoch 74/100\n",
            "12/12 [==============================] - 2s 200ms/step - loss: 1.3585e-04 - val_loss: 0.0104\n",
            "Epoch 75/100\n",
            "12/12 [==============================] - 2s 198ms/step - loss: 1.3117e-04 - val_loss: 0.0110\n",
            "Epoch 76/100\n",
            "12/12 [==============================] - 2s 194ms/step - loss: 1.3913e-04 - val_loss: 0.0101\n",
            "Epoch 77/100\n",
            "12/12 [==============================] - 2s 196ms/step - loss: 1.1973e-04 - val_loss: 0.0125\n",
            "Epoch 78/100\n",
            "12/12 [==============================] - 2s 199ms/step - loss: 1.4157e-04 - val_loss: 0.0107\n",
            "Epoch 79/100\n",
            "12/12 [==============================] - 2s 201ms/step - loss: 1.3129e-04 - val_loss: 0.0116\n",
            "Epoch 80/100\n",
            "12/12 [==============================] - 2s 201ms/step - loss: 1.0764e-04 - val_loss: 0.0104\n",
            "Epoch 81/100\n",
            "12/12 [==============================] - 2s 203ms/step - loss: 1.1131e-04 - val_loss: 0.0107\n",
            "Epoch 82/100\n",
            "12/12 [==============================] - 2s 198ms/step - loss: 1.1892e-04 - val_loss: 0.0090\n",
            "Epoch 83/100\n",
            "12/12 [==============================] - 2s 196ms/step - loss: 1.1134e-04 - val_loss: 0.0093\n",
            "Epoch 84/100\n",
            "12/12 [==============================] - 2s 201ms/step - loss: 1.2114e-04 - val_loss: 0.0106\n",
            "Epoch 85/100\n",
            "12/12 [==============================] - 2s 202ms/step - loss: 1.3919e-04 - val_loss: 0.0114\n",
            "Epoch 86/100\n",
            "12/12 [==============================] - 2s 195ms/step - loss: 1.1185e-04 - val_loss: 0.0097\n",
            "Epoch 87/100\n",
            "12/12 [==============================] - 2s 202ms/step - loss: 1.1512e-04 - val_loss: 0.0085\n",
            "Epoch 88/100\n",
            "12/12 [==============================] - 2s 200ms/step - loss: 1.0838e-04 - val_loss: 0.0084\n",
            "Epoch 89/100\n",
            "12/12 [==============================] - 2s 196ms/step - loss: 1.2148e-04 - val_loss: 0.0085\n",
            "Epoch 90/100\n",
            "12/12 [==============================] - 2s 199ms/step - loss: 1.0838e-04 - val_loss: 0.0081\n",
            "Epoch 91/100\n",
            "12/12 [==============================] - 3s 222ms/step - loss: 1.3772e-04 - val_loss: 0.0095\n",
            "Epoch 92/100\n",
            "12/12 [==============================] - 2s 200ms/step - loss: 1.2015e-04 - val_loss: 0.0094\n",
            "Epoch 93/100\n",
            "12/12 [==============================] - 2s 195ms/step - loss: 1.2147e-04 - val_loss: 0.0082\n",
            "Epoch 94/100\n",
            "12/12 [==============================] - 2s 194ms/step - loss: 1.1643e-04 - val_loss: 0.0084\n",
            "Epoch 95/100\n",
            "12/12 [==============================] - 2s 195ms/step - loss: 9.5833e-05 - val_loss: 0.0081\n",
            "Epoch 96/100\n",
            "12/12 [==============================] - 2s 200ms/step - loss: 1.0279e-04 - val_loss: 0.0080\n",
            "Epoch 97/100\n",
            "12/12 [==============================] - 2s 198ms/step - loss: 8.8731e-05 - val_loss: 0.0079\n",
            "Epoch 98/100\n",
            "12/12 [==============================] - 2s 198ms/step - loss: 1.0180e-04 - val_loss: 0.0077\n",
            "Epoch 99/100\n",
            "12/12 [==============================] - 2s 196ms/step - loss: 9.1382e-05 - val_loss: 0.0081\n",
            "Epoch 100/100\n",
            "12/12 [==============================] - 2s 197ms/step - loss: 1.0515e-04 - val_loss: 0.0075\n"
          ],
          "name": "stdout"
        },
        {
          "output_type": "execute_result",
          "data": {
            "text/plain": [
              "<tensorflow.python.keras.callbacks.History at 0x7f924908dcc0>"
            ]
          },
          "metadata": {
            "tags": []
          },
          "execution_count": 86
        }
      ]
    },
    {
      "cell_type": "code",
      "metadata": {
        "id": "F0Mt7ig-KbO6"
      },
      "source": [
        "### Lets Do the prediction and check performance metrics\n",
        "train_predict=model.predict(X_train)\n",
        "test_predict=model.predict(X_test)"
      ],
      "execution_count": 100,
      "outputs": []
    },
    {
      "cell_type": "code",
      "metadata": {
        "id": "1apTOy43KbO6"
      },
      "source": [
        "##Transformback to original form\n",
        "train_predict=scaler.inverse_transform(train_predict)\n",
        "test_predict=scaler.inverse_transform(test_predict)"
      ],
      "execution_count": 101,
      "outputs": []
    },
    {
      "cell_type": "code",
      "metadata": {
        "id": "pP5jsOhjKbO6",
        "outputId": "e3c8a8e1-58e1-43d9-d18d-7e73c38c0331",
        "colab": {
          "base_uri": "https://localhost:8080/"
        }
      },
      "source": [
        "### Calculate RMSE performance metrics\n",
        "import math\n",
        "from sklearn.metrics import mean_squared_error\n",
        "math.sqrt(mean_squared_error(y_train,train_predict))"
      ],
      "execution_count": 89,
      "outputs": [
        {
          "output_type": "execute_result",
          "data": {
            "text/plain": [
              "164.35046807115702"
            ]
          },
          "metadata": {
            "tags": []
          },
          "execution_count": 89
        }
      ]
    },
    {
      "cell_type": "code",
      "metadata": {
        "id": "lZ1fSgqWKbO6",
        "outputId": "bf10a712-96fc-4077-a951-06a828e21a68",
        "colab": {
          "base_uri": "https://localhost:8080/"
        }
      },
      "source": [
        "### Test Data RMSE\n",
        "math.sqrt(mean_squared_error(ytest,test_predict))"
      ],
      "execution_count": 90,
      "outputs": [
        {
          "output_type": "execute_result",
          "data": {
            "text/plain": [
              "263.42964282118186"
            ]
          },
          "metadata": {
            "tags": []
          },
          "execution_count": 90
        }
      ]
    },
    {
      "cell_type": "code",
      "metadata": {
        "id": "kQpGr1wyKbO6",
        "outputId": "0e8387dd-e232-4a8f-fec9-f9be73464881",
        "colab": {
          "base_uri": "https://localhost:8080/",
          "height": 483
        }
      },
      "source": [
        "### Plotting \n",
        "# shift train predictions for plotting\n",
        "plt.figure(figsize=(16, 8))\n",
        "look_back=100\n",
        "trainPredictPlot = numpy.empty_like(df1)\n",
        "trainPredictPlot[:, :] = np.nan\n",
        "trainPredictPlot[look_back:len(train_predict)+look_back, :] = train_predict\n",
        "# shift test predictions for plotting\n",
        "testPredictPlot = numpy.empty_like(df1)\n",
        "testPredictPlot[:, :] = numpy.nan\n",
        "testPredictPlot[len(train_predict)+(look_back*2)+1:len(df1)-1, :] = test_predict\n",
        "# plot baseline and predictions\n",
        "plt.plot(scaler.inverse_transform(df1))\n",
        "plt.plot(trainPredictPlot)\n",
        "plt.plot(testPredictPlot)\n",
        "plt.show()"
      ],
      "execution_count": 91,
      "outputs": [
        {
          "output_type": "display_data",
          "data": {
            "image/png": "[encoded data removed]",
            "text/plain": [
              "<Figure size 1152x576 with 1 Axes>"
            ]
          },
          "metadata": {
            "tags": [],
            "needs_background": "light"
          }
        }
      ]
    },
    {
      "cell_type": "code",
      "metadata": {
        "id": "H7sDKmJLKbO7",
        "outputId": "2c5012af-ba20-45c9-96f4-a5d57ee39be7",
        "colab": {
          "base_uri": "https://localhost:8080/"
        }
      },
      "source": [
        "len(test_data)"
      ],
      "execution_count": 92,
      "outputs": [
        {
          "output_type": "execute_result",
          "data": {
            "text/plain": [
              "441"
            ]
          },
          "metadata": {
            "tags": []
          },
          "execution_count": 92
        }
      ]
    },
    {
      "cell_type": "code",
      "metadata": {
        "id": "V6FkL2oYKbO7",
        "outputId": "92aa5a9e-c23d-46c3-9b8c-572d2a02542d",
        "colab": {
          "base_uri": "https://localhost:8080/"
        }
      },
      "source": [
        "x_input=test_data[341:].reshape(1,-1)\n",
        "x_input.shape\n"
      ],
      "execution_count": 93,
      "outputs": [
        {
          "output_type": "execute_result",
          "data": {
            "text/plain": [
              "(1, 100)"
            ]
          },
          "metadata": {
            "tags": []
          },
          "execution_count": 93
        }
      ]
    },
    {
      "cell_type": "code",
      "metadata": {
        "id": "-ARRcx5VKbO7"
      },
      "source": [
        "temp_input=list(x_input)\n",
        "temp_input=temp_input[0].tolist()"
      ],
      "execution_count": 94,
      "outputs": []
    },
    {
      "cell_type": "code",
      "metadata": {
        "id": "kVE2xm7wKbO7",
        "outputId": "4aa7f022-f782-4375-cd24-25416df1546c",
        "colab": {
          "base_uri": "https://localhost:8080/"
        }
      },
      "source": [
        "# demonstrate prediction for next 10 days\n",
        "from numpy import array\n",
        "\n",
        "lst_output=[]\n",
        "n_steps=100\n",
        "i=0\n",
        "while(i<30):\n",
        "    \n",
        "    if(len(temp_input)>100):\n",
        "        #print(temp_input)\n",
        "        x_input=np.array(temp_input[1:])\n",
        "        print(\"{} day input {}\".format(i,x_input))\n",
        "        x_input=x_input.reshape(1,-1)\n",
        "        x_input = x_input.reshape((1, n_steps, 1))\n",
        "        #print(x_input)\n",
        "        yhat = model.predict(x_input, verbose=0)\n",
        "        print(\"{} day output {}\".format(i,yhat))\n",
        "        temp_input.extend(yhat[0].tolist())\n",
        "        temp_input=temp_input[1:]\n",
        "        #print(temp_input)\n",
        "        lst_output.extend(yhat.tolist())\n",
        "        i=i+1\n",
        "    else:\n",
        "        x_input = x_input.reshape((1, n_steps,1))\n",
        "        yhat = model.predict(x_input, verbose=0)\n",
        "        print(yhat[0])\n",
        "        temp_input.extend(yhat[0].tolist())\n",
        "        print(len(temp_input))\n",
        "        lst_output.extend(yhat.tolist())\n",
        "        i=i+1\n",
        "    \n",
        "\n",
        "print(lst_output)"
      ],
      "execution_count": 95,
      "outputs": [
        {
          "output_type": "stream",
          "text": [
            "[0.10503604]\n",
            "101\n",
            "1 day input [0.05712568 0.06126278 0.06361996 0.05455201 0.06292243 0.05488876\n",
            " 0.05950692 0.05924233 0.06405292 0.08192423 0.07398677 0.07420325\n",
            " 0.07304871 0.06898376 0.06167168 0.06535177 0.06381239 0.06111846\n",
            " 0.0594107  0.05943476 0.06316296 0.05017438 0.06008419 0.044546\n",
            " 0.04432952 0.04834636 0.05919423 0.06900782 0.06819002 0.06248948\n",
            " 0.06164762 0.07011425 0.06944077 0.06956103 0.07206254 0.06987372\n",
            " 0.06660253 0.06806975 0.06494287 0.05654841 0.05972339 0.06179194\n",
            " 0.06313891 0.06905592 0.07788334 0.07874925 0.07841251 0.07675286\n",
            " 0.08036079 0.08187613 0.07562237 0.0791341  0.0771377  0.07562237\n",
            " 0.09029465 0.09012628 0.09226699 0.08734817 0.0911365  0.09991581\n",
            " 0.09770295 0.10013229 0.11148527 0.10710764 0.10434155 0.1018641\n",
            " 0.09397474 0.09782321 0.08721587 0.09760673 0.10032471 0.09294047\n",
            " 0.09250752 0.09753458 0.0927721  0.08851473 0.09017438 0.10027661\n",
            " 0.11191822 0.11720986 0.12647023 0.1270475  0.12440168 0.11244738\n",
            " 0.10010824 0.10535177 0.10739627 0.10487072 0.11316897 0.11165364\n",
            " 0.11201443 0.10984967 0.10835839 0.10773301 0.10831028 0.10306675\n",
            " 0.09741431 0.09469633 0.09508118 0.10503604]\n",
            "1 day output [[0.10359553]]\n",
            "2 day input [0.06126278 0.06361996 0.05455201 0.06292243 0.05488876 0.05950692\n",
            " 0.05924233 0.06405292 0.08192423 0.07398677 0.07420325 0.07304871\n",
            " 0.06898376 0.06167168 0.06535177 0.06381239 0.06111846 0.0594107\n",
            " 0.05943476 0.06316296 0.05017438 0.06008419 0.044546   0.04432952\n",
            " 0.04834636 0.05919423 0.06900782 0.06819002 0.06248948 0.06164762\n",
            " 0.07011425 0.06944077 0.06956103 0.07206254 0.06987372 0.06660253\n",
            " 0.06806975 0.06494287 0.05654841 0.05972339 0.06179194 0.06313891\n",
            " 0.06905592 0.07788334 0.07874925 0.07841251 0.07675286 0.08036079\n",
            " 0.08187613 0.07562237 0.0791341  0.0771377  0.07562237 0.09029465\n",
            " 0.09012628 0.09226699 0.08734817 0.0911365  0.09991581 0.09770295\n",
            " 0.10013229 0.11148527 0.10710764 0.10434155 0.1018641  0.09397474\n",
            " 0.09782321 0.08721587 0.09760673 0.10032471 0.09294047 0.09250752\n",
            " 0.09753458 0.0927721  0.08851473 0.09017438 0.10027661 0.11191822\n",
            " 0.11720986 0.12647023 0.1270475  0.12440168 0.11244738 0.10010824\n",
            " 0.10535177 0.10739627 0.10487072 0.11316897 0.11165364 0.11201443\n",
            " 0.10984967 0.10835839 0.10773301 0.10831028 0.10306675 0.09741431\n",
            " 0.09469633 0.09508118 0.10503604 0.10359553]\n",
            "2 day output [[0.10320187]]\n",
            "3 day input [0.06361996 0.05455201 0.06292243 0.05488876 0.05950692 0.05924233\n",
            " 0.06405292 0.08192423 0.07398677 0.07420325 0.07304871 0.06898376\n",
            " 0.06167168 0.06535177 0.06381239 0.06111846 0.0594107  0.05943476\n",
            " 0.06316296 0.05017438 0.06008419 0.044546   0.04432952 0.04834636\n",
            " 0.05919423 0.06900782 0.06819002 0.06248948 0.06164762 0.07011425\n",
            " 0.06944077 0.06956103 0.07206254 0.06987372 0.06660253 0.06806975\n",
            " 0.06494287 0.05654841 0.05972339 0.06179194 0.06313891 0.06905592\n",
            " 0.07788334 0.07874925 0.07841251 0.07675286 0.08036079 0.08187613\n",
            " 0.07562237 0.0791341  0.0771377  0.07562237 0.09029465 0.09012628\n",
            " 0.09226699 0.08734817 0.0911365  0.09991581 0.09770295 0.10013229\n",
            " 0.11148527 0.10710764 0.10434155 0.1018641  0.09397474 0.09782321\n",
            " 0.08721587 0.09760673 0.10032471 0.09294047 0.09250752 0.09753458\n",
            " 0.0927721  0.08851473 0.09017438 0.10027661 0.11191822 0.11720986\n",
            " 0.12647023 0.1270475  0.12440168 0.11244738 0.10010824 0.10535177\n",
            " 0.10739627 0.10487072 0.11316897 0.11165364 0.11201443 0.10984967\n",
            " 0.10835839 0.10773301 0.10831028 0.10306675 0.09741431 0.09469633\n",
            " 0.09508118 0.10503604 0.10359553 0.10320187]\n",
            "3 day output [[0.10358322]]\n",
            "4 day input [0.05455201 0.06292243 0.05488876 0.05950692 0.05924233 0.06405292\n",
            " 0.08192423 0.07398677 0.07420325 0.07304871 0.06898376 0.06167168\n",
            " 0.06535177 0.06381239 0.06111846 0.0594107  0.05943476 0.06316296\n",
            " 0.05017438 0.06008419 0.044546   0.04432952 0.04834636 0.05919423\n",
            " 0.06900782 0.06819002 0.06248948 0.06164762 0.07011425 0.06944077\n",
            " 0.06956103 0.07206254 0.06987372 0.06660253 0.06806975 0.06494287\n",
            " 0.05654841 0.05972339 0.06179194 0.06313891 0.06905592 0.07788334\n",
            " 0.07874925 0.07841251 0.07675286 0.08036079 0.08187613 0.07562237\n",
            " 0.0791341  0.0771377  0.07562237 0.09029465 0.09012628 0.09226699\n",
            " 0.08734817 0.0911365  0.09991581 0.09770295 0.10013229 0.11148527\n",
            " 0.10710764 0.10434155 0.1018641  0.09397474 0.09782321 0.08721587\n",
            " 0.09760673 0.10032471 0.09294047 0.09250752 0.09753458 0.0927721\n",
            " 0.08851473 0.09017438 0.10027661 0.11191822 0.11720986 0.12647023\n",
            " 0.1270475  0.12440168 0.11244738 0.10010824 0.10535177 0.10739627\n",
            " 0.10487072 0.11316897 0.11165364 0.11201443 0.10984967 0.10835839\n",
            " 0.10773301 0.10831028 0.10306675 0.09741431 0.09469633 0.09508118\n",
            " 0.10503604 0.10359553 0.10320187 0.10358322]\n",
            "4 day output [[0.10441938]]\n",
            "5 day input [0.06292243 0.05488876 0.05950692 0.05924233 0.06405292 0.08192423\n",
            " 0.07398677 0.07420325 0.07304871 0.06898376 0.06167168 0.06535177\n",
            " 0.06381239 0.06111846 0.0594107  0.05943476 0.06316296 0.05017438\n",
            " 0.06008419 0.044546   0.04432952 0.04834636 0.05919423 0.06900782\n",
            " 0.06819002 0.06248948 0.06164762 0.07011425 0.06944077 0.06956103\n",
            " 0.07206254 0.06987372 0.06660253 0.06806975 0.06494287 0.05654841\n",
            " 0.05972339 0.06179194 0.06313891 0.06905592 0.07788334 0.07874925\n",
            " 0.07841251 0.07675286 0.08036079 0.08187613 0.07562237 0.0791341\n",
            " 0.0771377  0.07562237 0.09029465 0.09012628 0.09226699 0.08734817\n",
            " 0.0911365  0.09991581 0.09770295 0.10013229 0.11148527 0.10710764\n",
            " 0.10434155 0.1018641  0.09397474 0.09782321 0.08721587 0.09760673\n",
            " 0.10032471 0.09294047 0.09250752 0.09753458 0.0927721  0.08851473\n",
            " 0.09017438 0.10027661 0.11191822 0.11720986 0.12647023 0.1270475\n",
            " 0.12440168 0.11244738 0.10010824 0.10535177 0.10739627 0.10487072\n",
            " 0.11316897 0.11165364 0.11201443 0.10984967 0.10835839 0.10773301\n",
            " 0.10831028 0.10306675 0.09741431 0.09469633 0.09508118 0.10503604\n",
            " 0.10359553 0.10320187 0.10358322 0.10441938]\n",
            "5 day output [[0.10546591]]\n",
            "6 day input [0.05488876 0.05950692 0.05924233 0.06405292 0.08192423 0.07398677\n",
            " 0.07420325 0.07304871 0.06898376 0.06167168 0.06535177 0.06381239\n",
            " 0.06111846 0.0594107  0.05943476 0.06316296 0.05017438 0.06008419\n",
            " 0.044546   0.04432952 0.04834636 0.05919423 0.06900782 0.06819002\n",
            " 0.06248948 0.06164762 0.07011425 0.06944077 0.06956103 0.07206254\n",
            " 0.06987372 0.06660253 0.06806975 0.06494287 0.05654841 0.05972339\n",
            " 0.06179194 0.06313891 0.06905592 0.07788334 0.07874925 0.07841251\n",
            " 0.07675286 0.08036079 0.08187613 0.07562237 0.0791341  0.0771377\n",
            " 0.07562237 0.09029465 0.09012628 0.09226699 0.08734817 0.0911365\n",
            " 0.09991581 0.09770295 0.10013229 0.11148527 0.10710764 0.10434155\n",
            " 0.1018641  0.09397474 0.09782321 0.08721587 0.09760673 0.10032471\n",
            " 0.09294047 0.09250752 0.09753458 0.0927721  0.08851473 0.09017438\n",
            " 0.10027661 0.11191822 0.11720986 0.12647023 0.1270475  0.12440168\n",
            " 0.11244738 0.10010824 0.10535177 0.10739627 0.10487072 0.11316897\n",
            " 0.11165364 0.11201443 0.10984967 0.10835839 0.10773301 0.10831028\n",
            " 0.10306675 0.09741431 0.09469633 0.09508118 0.10503604 0.10359553\n",
            " 0.10320187 0.10358322 0.10441938 0.10546591]\n",
            "6 day output [[0.10657067]]\n",
            "7 day input [0.05950692 0.05924233 0.06405292 0.08192423 0.07398677 0.07420325\n",
            " 0.07304871 0.06898376 0.06167168 0.06535177 0.06381239 0.06111846\n",
            " 0.0594107  0.05943476 0.06316296 0.05017438 0.06008419 0.044546\n",
            " 0.04432952 0.04834636 0.05919423 0.06900782 0.06819002 0.06248948\n",
            " 0.06164762 0.07011425 0.06944077 0.06956103 0.07206254 0.06987372\n",
            " 0.06660253 0.06806975 0.06494287 0.05654841 0.05972339 0.06179194\n",
            " 0.06313891 0.06905592 0.07788334 0.07874925 0.07841251 0.07675286\n",
            " 0.08036079 0.08187613 0.07562237 0.0791341  0.0771377  0.07562237\n",
            " 0.09029465 0.09012628 0.09226699 0.08734817 0.0911365  0.09991581\n",
            " 0.09770295 0.10013229 0.11148527 0.10710764 0.10434155 0.1018641\n",
            " 0.09397474 0.09782321 0.08721587 0.09760673 0.10032471 0.09294047\n",
            " 0.09250752 0.09753458 0.0927721  0.08851473 0.09017438 0.10027661\n",
            " 0.11191822 0.11720986 0.12647023 0.1270475  0.12440168 0.11244738\n",
            " 0.10010824 0.10535177 0.10739627 0.10487072 0.11316897 0.11165364\n",
            " 0.11201443 0.10984967 0.10835839 0.10773301 0.10831028 0.10306675\n",
            " 0.09741431 0.09469633 0.09508118 0.10503604 0.10359553 0.10320187\n",
            " 0.10358322 0.10441938 0.10546591 0.10657067]\n",
            "7 day output [[0.10765194]]\n",
            "8 day input [0.05924233 0.06405292 0.08192423 0.07398677 0.07420325 0.07304871\n",
            " 0.06898376 0.06167168 0.06535177 0.06381239 0.06111846 0.0594107\n",
            " 0.05943476 0.06316296 0.05017438 0.06008419 0.044546   0.04432952\n",
            " 0.04834636 0.05919423 0.06900782 0.06819002 0.06248948 0.06164762\n",
            " 0.07011425 0.06944077 0.06956103 0.07206254 0.06987372 0.06660253\n",
            " 0.06806975 0.06494287 0.05654841 0.05972339 0.06179194 0.06313891\n",
            " 0.06905592 0.07788334 0.07874925 0.07841251 0.07675286 0.08036079\n",
            " 0.08187613 0.07562237 0.0791341  0.0771377  0.07562237 0.09029465\n",
            " 0.09012628 0.09226699 0.08734817 0.0911365  0.09991581 0.09770295\n",
            " 0.10013229 0.11148527 0.10710764 0.10434155 0.1018641  0.09397474\n",
            " 0.09782321 0.08721587 0.09760673 0.10032471 0.09294047 0.09250752\n",
            " 0.09753458 0.0927721  0.08851473 0.09017438 0.10027661 0.11191822\n",
            " 0.11720986 0.12647023 0.1270475  0.12440168 0.11244738 0.10010824\n",
            " 0.10535177 0.10739627 0.10487072 0.11316897 0.11165364 0.11201443\n",
            " 0.10984967 0.10835839 0.10773301 0.10831028 0.10306675 0.09741431\n",
            " 0.09469633 0.09508118 0.10503604 0.10359553 0.10320187 0.10358322\n",
            " 0.10441938 0.10546591 0.10657067 0.10765194]\n",
            "8 day output [[0.10867132]]\n",
            "9 day input [0.06405292 0.08192423 0.07398677 0.07420325 0.07304871 0.06898376\n",
            " 0.06167168 0.06535177 0.06381239 0.06111846 0.0594107  0.05943476\n",
            " 0.06316296 0.05017438 0.06008419 0.044546   0.04432952 0.04834636\n",
            " 0.05919423 0.06900782 0.06819002 0.06248948 0.06164762 0.07011425\n",
            " 0.06944077 0.06956103 0.07206254 0.06987372 0.06660253 0.06806975\n",
            " 0.06494287 0.05654841 0.05972339 0.06179194 0.06313891 0.06905592\n",
            " 0.07788334 0.07874925 0.07841251 0.07675286 0.08036079 0.08187613\n",
            " 0.07562237 0.0791341  0.0771377  0.07562237 0.09029465 0.09012628\n",
            " 0.09226699 0.08734817 0.0911365  0.09991581 0.09770295 0.10013229\n",
            " 0.11148527 0.10710764 0.10434155 0.1018641  0.09397474 0.09782321\n",
            " 0.08721587 0.09760673 0.10032471 0.09294047 0.09250752 0.09753458\n",
            " 0.0927721  0.08851473 0.09017438 0.10027661 0.11191822 0.11720986\n",
            " 0.12647023 0.1270475  0.12440168 0.11244738 0.10010824 0.10535177\n",
            " 0.10739627 0.10487072 0.11316897 0.11165364 0.11201443 0.10984967\n",
            " 0.10835839 0.10773301 0.10831028 0.10306675 0.09741431 0.09469633\n",
            " 0.09508118 0.10503604 0.10359553 0.10320187 0.10358322 0.10441938\n",
            " 0.10546591 0.10657067 0.10765194 0.10867132]\n",
            "9 day output [[0.10961351]]\n",
            "10 day input [0.08192423 0.07398677 0.07420325 0.07304871 0.06898376 0.06167168\n",
            " 0.06535177 0.06381239 0.06111846 0.0594107  0.05943476 0.06316296\n",
            " 0.05017438 0.06008419 0.044546   0.04432952 0.04834636 0.05919423\n",
            " 0.06900782 0.06819002 0.06248948 0.06164762 0.07011425 0.06944077\n",
            " 0.06956103 0.07206254 0.06987372 0.06660253 0.06806975 0.06494287\n",
            " 0.05654841 0.05972339 0.06179194 0.06313891 0.06905592 0.07788334\n",
            " 0.07874925 0.07841251 0.07675286 0.08036079 0.08187613 0.07562237\n",
            " 0.0791341  0.0771377  0.07562237 0.09029465 0.09012628 0.09226699\n",
            " 0.08734817 0.0911365  0.09991581 0.09770295 0.10013229 0.11148527\n",
            " 0.10710764 0.10434155 0.1018641  0.09397474 0.09782321 0.08721587\n",
            " 0.09760673 0.10032471 0.09294047 0.09250752 0.09753458 0.0927721\n",
            " 0.08851473 0.09017438 0.10027661 0.11191822 0.11720986 0.12647023\n",
            " 0.1270475  0.12440168 0.11244738 0.10010824 0.10535177 0.10739627\n",
            " 0.10487072 0.11316897 0.11165364 0.11201443 0.10984967 0.10835839\n",
            " 0.10773301 0.10831028 0.10306675 0.09741431 0.09469633 0.09508118\n",
            " 0.10503604 0.10359553 0.10320187 0.10358322 0.10441938 0.10546591\n",
            " 0.10657067 0.10765194 0.10867132 0.10961351]\n",
            "10 day output [[0.11047427]]\n",
            "11 day input [0.07398677 0.07420325 0.07304871 0.06898376 0.06167168 0.06535177\n",
            " 0.06381239 0.06111846 0.0594107  0.05943476 0.06316296 0.05017438\n",
            " 0.06008419 0.044546   0.04432952 0.04834636 0.05919423 0.06900782\n",
            " 0.06819002 0.06248948 0.06164762 0.07011425 0.06944077 0.06956103\n",
            " 0.07206254 0.06987372 0.06660253 0.06806975 0.06494287 0.05654841\n",
            " 0.05972339 0.06179194 0.06313891 0.06905592 0.07788334 0.07874925\n",
            " 0.07841251 0.07675286 0.08036079 0.08187613 0.07562237 0.0791341\n",
            " 0.0771377  0.07562237 0.09029465 0.09012628 0.09226699 0.08734817\n",
            " 0.0911365  0.09991581 0.09770295 0.10013229 0.11148527 0.10710764\n",
            " 0.10434155 0.1018641  0.09397474 0.09782321 0.08721587 0.09760673\n",
            " 0.10032471 0.09294047 0.09250752 0.09753458 0.0927721  0.08851473\n",
            " 0.09017438 0.10027661 0.11191822 0.11720986 0.12647023 0.1270475\n",
            " 0.12440168 0.11244738 0.10010824 0.10535177 0.10739627 0.10487072\n",
            " 0.11316897 0.11165364 0.11201443 0.10984967 0.10835839 0.10773301\n",
            " 0.10831028 0.10306675 0.09741431 0.09469633 0.09508118 0.10503604\n",
            " 0.10359553 0.10320187 0.10358322 0.10441938 0.10546591 0.10657067\n",
            " 0.10765194 0.10867132 0.10961351 0.11047427]\n",
            "11 day output [[0.11125461]]\n",
            "12 day input [0.07420325 0.07304871 0.06898376 0.06167168 0.06535177 0.06381239\n",
            " 0.06111846 0.0594107  0.05943476 0.06316296 0.05017438 0.06008419\n",
            " 0.044546   0.04432952 0.04834636 0.05919423 0.06900782 0.06819002\n",
            " 0.06248948 0.06164762 0.07011425 0.06944077 0.06956103 0.07206254\n",
            " 0.06987372 0.06660253 0.06806975 0.06494287 0.05654841 0.05972339\n",
            " 0.06179194 0.06313891 0.06905592 0.07788334 0.07874925 0.07841251\n",
            " 0.07675286 0.08036079 0.08187613 0.07562237 0.0791341  0.0771377\n",
            " 0.07562237 0.09029465 0.09012628 0.09226699 0.08734817 0.0911365\n",
            " 0.09991581 0.09770295 0.10013229 0.11148527 0.10710764 0.10434155\n",
            " 0.1018641  0.09397474 0.09782321 0.08721587 0.09760673 0.10032471\n",
            " 0.09294047 0.09250752 0.09753458 0.0927721  0.08851473 0.09017438\n",
            " 0.10027661 0.11191822 0.11720986 0.12647023 0.1270475  0.12440168\n",
            " 0.11244738 0.10010824 0.10535177 0.10739627 0.10487072 0.11316897\n",
            " 0.11165364 0.11201443 0.10984967 0.10835839 0.10773301 0.10831028\n",
            " 0.10306675 0.09741431 0.09469633 0.09508118 0.10503604 0.10359553\n",
            " 0.10320187 0.10358322 0.10441938 0.10546591 0.10657067 0.10765194\n",
            " 0.10867132 0.10961351 0.11047427 0.11125461]\n",
            "12 day output [[0.11195853]]\n",
            "13 day input [0.07304871 0.06898376 0.06167168 0.06535177 0.06381239 0.06111846\n",
            " 0.0594107  0.05943476 0.06316296 0.05017438 0.06008419 0.044546\n",
            " 0.04432952 0.04834636 0.05919423 0.06900782 0.06819002 0.06248948\n",
            " 0.06164762 0.07011425 0.06944077 0.06956103 0.07206254 0.06987372\n",
            " 0.06660253 0.06806975 0.06494287 0.05654841 0.05972339 0.06179194\n",
            " 0.06313891 0.06905592 0.07788334 0.07874925 0.07841251 0.07675286\n",
            " 0.08036079 0.08187613 0.07562237 0.0791341  0.0771377  0.07562237\n",
            " 0.09029465 0.09012628 0.09226699 0.08734817 0.0911365  0.09991581\n",
            " 0.09770295 0.10013229 0.11148527 0.10710764 0.10434155 0.1018641\n",
            " 0.09397474 0.09782321 0.08721587 0.09760673 0.10032471 0.09294047\n",
            " 0.09250752 0.09753458 0.0927721  0.08851473 0.09017438 0.10027661\n",
            " 0.11191822 0.11720986 0.12647023 0.1270475  0.12440168 0.11244738\n",
            " 0.10010824 0.10535177 0.10739627 0.10487072 0.11316897 0.11165364\n",
            " 0.11201443 0.10984967 0.10835839 0.10773301 0.10831028 0.10306675\n",
            " 0.09741431 0.09469633 0.09508118 0.10503604 0.10359553 0.10320187\n",
            " 0.10358322 0.10441938 0.10546591 0.10657067 0.10765194 0.10867132\n",
            " 0.10961351 0.11047427 0.11125461 0.11195853]\n",
            "13 day output [[0.11259211]]\n",
            "14 day input [0.06898376 0.06167168 0.06535177 0.06381239 0.06111846 0.0594107\n",
            " 0.05943476 0.06316296 0.05017438 0.06008419 0.044546   0.04432952\n",
            " 0.04834636 0.05919423 0.06900782 0.06819002 0.06248948 0.06164762\n",
            " 0.07011425 0.06944077 0.06956103 0.07206254 0.06987372 0.06660253\n",
            " 0.06806975 0.06494287 0.05654841 0.05972339 0.06179194 0.06313891\n",
            " 0.06905592 0.07788334 0.07874925 0.07841251 0.07675286 0.08036079\n",
            " 0.08187613 0.07562237 0.0791341  0.0771377  0.07562237 0.09029465\n",
            " 0.09012628 0.09226699 0.08734817 0.0911365  0.09991581 0.09770295\n",
            " 0.10013229 0.11148527 0.10710764 0.10434155 0.1018641  0.09397474\n",
            " 0.09782321 0.08721587 0.09760673 0.10032471 0.09294047 0.09250752\n",
            " 0.09753458 0.0927721  0.08851473 0.09017438 0.10027661 0.11191822\n",
            " 0.11720986 0.12647023 0.1270475  0.12440168 0.11244738 0.10010824\n",
            " 0.10535177 0.10739627 0.10487072 0.11316897 0.11165364 0.11201443\n",
            " 0.10984967 0.10835839 0.10773301 0.10831028 0.10306675 0.09741431\n",
            " 0.09469633 0.09508118 0.10503604 0.10359553 0.10320187 0.10358322\n",
            " 0.10441938 0.10546591 0.10657067 0.10765194 0.10867132 0.10961351\n",
            " 0.11047427 0.11125461 0.11195853 0.11259211]\n",
            "14 day output [[0.11316305]]\n",
            "15 day input [0.06167168 0.06535177 0.06381239 0.06111846 0.0594107  0.05943476\n",
            " 0.06316296 0.05017438 0.06008419 0.044546   0.04432952 0.04834636\n",
            " 0.05919423 0.06900782 0.06819002 0.06248948 0.06164762 0.07011425\n",
            " 0.06944077 0.06956103 0.07206254 0.06987372 0.06660253 0.06806975\n",
            " 0.06494287 0.05654841 0.05972339 0.06179194 0.06313891 0.06905592\n",
            " 0.07788334 0.07874925 0.07841251 0.07675286 0.08036079 0.08187613\n",
            " 0.07562237 0.0791341  0.0771377  0.07562237 0.09029465 0.09012628\n",
            " 0.09226699 0.08734817 0.0911365  0.09991581 0.09770295 0.10013229\n",
            " 0.11148527 0.10710764 0.10434155 0.1018641  0.09397474 0.09782321\n",
            " 0.08721587 0.09760673 0.10032471 0.09294047 0.09250752 0.09753458\n",
            " 0.0927721  0.08851473 0.09017438 0.10027661 0.11191822 0.11720986\n",
            " 0.12647023 0.1270475  0.12440168 0.11244738 0.10010824 0.10535177\n",
            " 0.10739627 0.10487072 0.11316897 0.11165364 0.11201443 0.10984967\n",
            " 0.10835839 0.10773301 0.10831028 0.10306675 0.09741431 0.09469633\n",
            " 0.09508118 0.10503604 0.10359553 0.10320187 0.10358322 0.10441938\n",
            " 0.10546591 0.10657067 0.10765194 0.10867132 0.10961351 0.11047427\n",
            " 0.11125461 0.11195853 0.11259211 0.11316305]\n",
            "15 day output [[0.11368047]]\n",
            "16 day input [0.06535177 0.06381239 0.06111846 0.0594107  0.05943476 0.06316296\n",
            " 0.05017438 0.06008419 0.044546   0.04432952 0.04834636 0.05919423\n",
            " 0.06900782 0.06819002 0.06248948 0.06164762 0.07011425 0.06944077\n",
            " 0.06956103 0.07206254 0.06987372 0.06660253 0.06806975 0.06494287\n",
            " 0.05654841 0.05972339 0.06179194 0.06313891 0.06905592 0.07788334\n",
            " 0.07874925 0.07841251 0.07675286 0.08036079 0.08187613 0.07562237\n",
            " 0.0791341  0.0771377  0.07562237 0.09029465 0.09012628 0.09226699\n",
            " 0.08734817 0.0911365  0.09991581 0.09770295 0.10013229 0.11148527\n",
            " 0.10710764 0.10434155 0.1018641  0.09397474 0.09782321 0.08721587\n",
            " 0.09760673 0.10032471 0.09294047 0.09250752 0.09753458 0.0927721\n",
            " 0.08851473 0.09017438 0.10027661 0.11191822 0.11720986 0.12647023\n",
            " 0.1270475  0.12440168 0.11244738 0.10010824 0.10535177 0.10739627\n",
            " 0.10487072 0.11316897 0.11165364 0.11201443 0.10984967 0.10835839\n",
            " 0.10773301 0.10831028 0.10306675 0.09741431 0.09469633 0.09508118\n",
            " 0.10503604 0.10359553 0.10320187 0.10358322 0.10441938 0.10546591\n",
            " 0.10657067 0.10765194 0.10867132 0.10961351 0.11047427 0.11125461\n",
            " 0.11195853 0.11259211 0.11316305 0.11368047]\n",
            "16 day output [[0.1141542]]\n",
            "17 day input [0.06381239 0.06111846 0.0594107  0.05943476 0.06316296 0.05017438\n",
            " 0.06008419 0.044546   0.04432952 0.04834636 0.05919423 0.06900782\n",
            " 0.06819002 0.06248948 0.06164762 0.07011425 0.06944077 0.06956103\n",
            " 0.07206254 0.06987372 0.06660253 0.06806975 0.06494287 0.05654841\n",
            " 0.05972339 0.06179194 0.06313891 0.06905592 0.07788334 0.07874925\n",
            " 0.07841251 0.07675286 0.08036079 0.08187613 0.07562237 0.0791341\n",
            " 0.0771377  0.07562237 0.09029465 0.09012628 0.09226699 0.08734817\n",
            " 0.0911365  0.09991581 0.09770295 0.10013229 0.11148527 0.10710764\n",
            " 0.10434155 0.1018641  0.09397474 0.09782321 0.08721587 0.09760673\n",
            " 0.10032471 0.09294047 0.09250752 0.09753458 0.0927721  0.08851473\n",
            " 0.09017438 0.10027661 0.11191822 0.11720986 0.12647023 0.1270475\n",
            " 0.12440168 0.11244738 0.10010824 0.10535177 0.10739627 0.10487072\n",
            " 0.11316897 0.11165364 0.11201443 0.10984967 0.10835839 0.10773301\n",
            " 0.10831028 0.10306675 0.09741431 0.09469633 0.09508118 0.10503604\n",
            " 0.10359553 0.10320187 0.10358322 0.10441938 0.10546591 0.10657067\n",
            " 0.10765194 0.10867132 0.10961351 0.11047427 0.11125461 0.11195853\n",
            " 0.11259211 0.11316305 0.11368047 0.1141542 ]\n",
            "17 day output [[0.11459449]]\n",
            "18 day input [0.06111846 0.0594107  0.05943476 0.06316296 0.05017438 0.06008419\n",
            " 0.044546   0.04432952 0.04834636 0.05919423 0.06900782 0.06819002\n",
            " 0.06248948 0.06164762 0.07011425 0.06944077 0.06956103 0.07206254\n",
            " 0.06987372 0.06660253 0.06806975 0.06494287 0.05654841 0.05972339\n",
            " 0.06179194 0.06313891 0.06905592 0.07788334 0.07874925 0.07841251\n",
            " 0.07675286 0.08036079 0.08187613 0.07562237 0.0791341  0.0771377\n",
            " 0.07562237 0.09029465 0.09012628 0.09226699 0.08734817 0.0911365\n",
            " 0.09991581 0.09770295 0.10013229 0.11148527 0.10710764 0.10434155\n",
            " 0.1018641  0.09397474 0.09782321 0.08721587 0.09760673 0.10032471\n",
            " 0.09294047 0.09250752 0.09753458 0.0927721  0.08851473 0.09017438\n",
            " 0.10027661 0.11191822 0.11720986 0.12647023 0.1270475  0.12440168\n",
            " 0.11244738 0.10010824 0.10535177 0.10739627 0.10487072 0.11316897\n",
            " 0.11165364 0.11201443 0.10984967 0.10835839 0.10773301 0.10831028\n",
            " 0.10306675 0.09741431 0.09469633 0.09508118 0.10503604 0.10359553\n",
            " 0.10320187 0.10358322 0.10441938 0.10546591 0.10657067 0.10765194\n",
            " 0.10867132 0.10961351 0.11047427 0.11125461 0.11195853 0.11259211\n",
            " 0.11316305 0.11368047 0.1141542  0.11459449]\n",
            "18 day output [[0.11501127]]\n",
            "19 day input [0.0594107  0.05943476 0.06316296 0.05017438 0.06008419 0.044546\n",
            " 0.04432952 0.04834636 0.05919423 0.06900782 0.06819002 0.06248948\n",
            " 0.06164762 0.07011425 0.06944077 0.06956103 0.07206254 0.06987372\n",
            " 0.06660253 0.06806975 0.06494287 0.05654841 0.05972339 0.06179194\n",
            " 0.06313891 0.06905592 0.07788334 0.07874925 0.07841251 0.07675286\n",
            " 0.08036079 0.08187613 0.07562237 0.0791341  0.0771377  0.07562237\n",
            " 0.09029465 0.09012628 0.09226699 0.08734817 0.0911365  0.09991581\n",
            " 0.09770295 0.10013229 0.11148527 0.10710764 0.10434155 0.1018641\n",
            " 0.09397474 0.09782321 0.08721587 0.09760673 0.10032471 0.09294047\n",
            " 0.09250752 0.09753458 0.0927721  0.08851473 0.09017438 0.10027661\n",
            " 0.11191822 0.11720986 0.12647023 0.1270475  0.12440168 0.11244738\n",
            " 0.10010824 0.10535177 0.10739627 0.10487072 0.11316897 0.11165364\n",
            " 0.11201443 0.10984967 0.10835839 0.10773301 0.10831028 0.10306675\n",
            " 0.09741431 0.09469633 0.09508118 0.10503604 0.10359553 0.10320187\n",
            " 0.10358322 0.10441938 0.10546591 0.10657067 0.10765194 0.10867132\n",
            " 0.10961351 0.11047427 0.11125461 0.11195853 0.11259211 0.11316305\n",
            " 0.11368047 0.1141542  0.11459449 0.11501127]\n",
            "19 day output [[0.11541379]]\n",
            "20 day input [0.05943476 0.06316296 0.05017438 0.06008419 0.044546   0.04432952\n",
            " 0.04834636 0.05919423 0.06900782 0.06819002 0.06248948 0.06164762\n",
            " 0.07011425 0.06944077 0.06956103 0.07206254 0.06987372 0.06660253\n",
            " 0.06806975 0.06494287 0.05654841 0.05972339 0.06179194 0.06313891\n",
            " 0.06905592 0.07788334 0.07874925 0.07841251 0.07675286 0.08036079\n",
            " 0.08187613 0.07562237 0.0791341  0.0771377  0.07562237 0.09029465\n",
            " 0.09012628 0.09226699 0.08734817 0.0911365  0.09991581 0.09770295\n",
            " 0.10013229 0.11148527 0.10710764 0.10434155 0.1018641  0.09397474\n",
            " 0.09782321 0.08721587 0.09760673 0.10032471 0.09294047 0.09250752\n",
            " 0.09753458 0.0927721  0.08851473 0.09017438 0.10027661 0.11191822\n",
            " 0.11720986 0.12647023 0.1270475  0.12440168 0.11244738 0.10010824\n",
            " 0.10535177 0.10739627 0.10487072 0.11316897 0.11165364 0.11201443\n",
            " 0.10984967 0.10835839 0.10773301 0.10831028 0.10306675 0.09741431\n",
            " 0.09469633 0.09508118 0.10503604 0.10359553 0.10320187 0.10358322\n",
            " 0.10441938 0.10546591 0.10657067 0.10765194 0.10867132 0.10961351\n",
            " 0.11047427 0.11125461 0.11195853 0.11259211 0.11316305 0.11368047\n",
            " 0.1141542  0.11459449 0.11501127 0.11541379]\n",
            "20 day output [[0.11581029]]\n",
            "21 day input [0.06316296 0.05017438 0.06008419 0.044546   0.04432952 0.04834636\n",
            " 0.05919423 0.06900782 0.06819002 0.06248948 0.06164762 0.07011425\n",
            " 0.06944077 0.06956103 0.07206254 0.06987372 0.06660253 0.06806975\n",
            " 0.06494287 0.05654841 0.05972339 0.06179194 0.06313891 0.06905592\n",
            " 0.07788334 0.07874925 0.07841251 0.07675286 0.08036079 0.08187613\n",
            " 0.07562237 0.0791341  0.0771377  0.07562237 0.09029465 0.09012628\n",
            " 0.09226699 0.08734817 0.0911365  0.09991581 0.09770295 0.10013229\n",
            " 0.11148527 0.10710764 0.10434155 0.1018641  0.09397474 0.09782321\n",
            " 0.08721587 0.09760673 0.10032471 0.09294047 0.09250752 0.09753458\n",
            " 0.0927721  0.08851473 0.09017438 0.10027661 0.11191822 0.11720986\n",
            " 0.12647023 0.1270475  0.12440168 0.11244738 0.10010824 0.10535177\n",
            " 0.10739627 0.10487072 0.11316897 0.11165364 0.11201443 0.10984967\n",
            " 0.10835839 0.10773301 0.10831028 0.10306675 0.09741431 0.09469633\n",
            " 0.09508118 0.10503604 0.10359553 0.10320187 0.10358322 0.10441938\n",
            " 0.10546591 0.10657067 0.10765194 0.10867132 0.10961351 0.11047427\n",
            " 0.11125461 0.11195853 0.11259211 0.11316305 0.11368047 0.1141542\n",
            " 0.11459449 0.11501127 0.11541379 0.11581029]\n",
            "21 day output [[0.11620782]]\n",
            "22 day input [0.05017438 0.06008419 0.044546   0.04432952 0.04834636 0.05919423\n",
            " 0.06900782 0.06819002 0.06248948 0.06164762 0.07011425 0.06944077\n",
            " 0.06956103 0.07206254 0.06987372 0.06660253 0.06806975 0.06494287\n",
            " 0.05654841 0.05972339 0.06179194 0.06313891 0.06905592 0.07788334\n",
            " 0.07874925 0.07841251 0.07675286 0.08036079 0.08187613 0.07562237\n",
            " 0.0791341  0.0771377  0.07562237 0.09029465 0.09012628 0.09226699\n",
            " 0.08734817 0.0911365  0.09991581 0.09770295 0.10013229 0.11148527\n",
            " 0.10710764 0.10434155 0.1018641  0.09397474 0.09782321 0.08721587\n",
            " 0.09760673 0.10032471 0.09294047 0.09250752 0.09753458 0.0927721\n",
            " 0.08851473 0.09017438 0.10027661 0.11191822 0.11720986 0.12647023\n",
            " 0.1270475  0.12440168 0.11244738 0.10010824 0.10535177 0.10739627\n",
            " 0.10487072 0.11316897 0.11165364 0.11201443 0.10984967 0.10835839\n",
            " 0.10773301 0.10831028 0.10306675 0.09741431 0.09469633 0.09508118\n",
            " 0.10503604 0.10359553 0.10320187 0.10358322 0.10441938 0.10546591\n",
            " 0.10657067 0.10765194 0.10867132 0.10961351 0.11047427 0.11125461\n",
            " 0.11195853 0.11259211 0.11316305 0.11368047 0.1141542  0.11459449\n",
            " 0.11501127 0.11541379 0.11581029 0.11620782]\n",
            "22 day output [[0.11661189]]\n",
            "23 day input [0.06008419 0.044546   0.04432952 0.04834636 0.05919423 0.06900782\n",
            " 0.06819002 0.06248948 0.06164762 0.07011425 0.06944077 0.06956103\n",
            " 0.07206254 0.06987372 0.06660253 0.06806975 0.06494287 0.05654841\n",
            " 0.05972339 0.06179194 0.06313891 0.06905592 0.07788334 0.07874925\n",
            " 0.07841251 0.07675286 0.08036079 0.08187613 0.07562237 0.0791341\n",
            " 0.0771377  0.07562237 0.09029465 0.09012628 0.09226699 0.08734817\n",
            " 0.0911365  0.09991581 0.09770295 0.10013229 0.11148527 0.10710764\n",
            " 0.10434155 0.1018641  0.09397474 0.09782321 0.08721587 0.09760673\n",
            " 0.10032471 0.09294047 0.09250752 0.09753458 0.0927721  0.08851473\n",
            " 0.09017438 0.10027661 0.11191822 0.11720986 0.12647023 0.1270475\n",
            " 0.12440168 0.11244738 0.10010824 0.10535177 0.10739627 0.10487072\n",
            " 0.11316897 0.11165364 0.11201443 0.10984967 0.10835839 0.10773301\n",
            " 0.10831028 0.10306675 0.09741431 0.09469633 0.09508118 0.10503604\n",
            " 0.10359553 0.10320187 0.10358322 0.10441938 0.10546591 0.10657067\n",
            " 0.10765194 0.10867132 0.10961351 0.11047427 0.11125461 0.11195853\n",
            " 0.11259211 0.11316305 0.11368047 0.1141542  0.11459449 0.11501127\n",
            " 0.11541379 0.11581029 0.11620782 0.11661189]\n",
            "23 day output [[0.11702674]]\n",
            "24 day input [0.044546   0.04432952 0.04834636 0.05919423 0.06900782 0.06819002\n",
            " 0.06248948 0.06164762 0.07011425 0.06944077 0.06956103 0.07206254\n",
            " 0.06987372 0.06660253 0.06806975 0.06494287 0.05654841 0.05972339\n",
            " 0.06179194 0.06313891 0.06905592 0.07788334 0.07874925 0.07841251\n",
            " 0.07675286 0.08036079 0.08187613 0.07562237 0.0791341  0.0771377\n",
            " 0.07562237 0.09029465 0.09012628 0.09226699 0.08734817 0.0911365\n",
            " 0.09991581 0.09770295 0.10013229 0.11148527 0.10710764 0.10434155\n",
            " 0.1018641  0.09397474 0.09782321 0.08721587 0.09760673 0.10032471\n",
            " 0.09294047 0.09250752 0.09753458 0.0927721  0.08851473 0.09017438\n",
            " 0.10027661 0.11191822 0.11720986 0.12647023 0.1270475  0.12440168\n",
            " 0.11244738 0.10010824 0.10535177 0.10739627 0.10487072 0.11316897\n",
            " 0.11165364 0.11201443 0.10984967 0.10835839 0.10773301 0.10831028\n",
            " 0.10306675 0.09741431 0.09469633 0.09508118 0.10503604 0.10359553\n",
            " 0.10320187 0.10358322 0.10441938 0.10546591 0.10657067 0.10765194\n",
            " 0.10867132 0.10961351 0.11047427 0.11125461 0.11195853 0.11259211\n",
            " 0.11316305 0.11368047 0.1141542  0.11459449 0.11501127 0.11541379\n",
            " 0.11581029 0.11620782 0.11661189 0.11702674]\n",
            "24 day output [[0.1174552]]\n",
            "25 day input [0.04432952 0.04834636 0.05919423 0.06900782 0.06819002 0.06248948\n",
            " 0.06164762 0.07011425 0.06944077 0.06956103 0.07206254 0.06987372\n",
            " 0.06660253 0.06806975 0.06494287 0.05654841 0.05972339 0.06179194\n",
            " 0.06313891 0.06905592 0.07788334 0.07874925 0.07841251 0.07675286\n",
            " 0.08036079 0.08187613 0.07562237 0.0791341  0.0771377  0.07562237\n",
            " 0.09029465 0.09012628 0.09226699 0.08734817 0.0911365  0.09991581\n",
            " 0.09770295 0.10013229 0.11148527 0.10710764 0.10434155 0.1018641\n",
            " 0.09397474 0.09782321 0.08721587 0.09760673 0.10032471 0.09294047\n",
            " 0.09250752 0.09753458 0.0927721  0.08851473 0.09017438 0.10027661\n",
            " 0.11191822 0.11720986 0.12647023 0.1270475  0.12440168 0.11244738\n",
            " 0.10010824 0.10535177 0.10739627 0.10487072 0.11316897 0.11165364\n",
            " 0.11201443 0.10984967 0.10835839 0.10773301 0.10831028 0.10306675\n",
            " 0.09741431 0.09469633 0.09508118 0.10503604 0.10359553 0.10320187\n",
            " 0.10358322 0.10441938 0.10546591 0.10657067 0.10765194 0.10867132\n",
            " 0.10961351 0.11047427 0.11125461 0.11195853 0.11259211 0.11316305\n",
            " 0.11368047 0.1141542  0.11459449 0.11501127 0.11541379 0.11581029\n",
            " 0.11620782 0.11661189 0.11702674 0.1174552 ]\n",
            "25 day output [[0.11789898]]\n",
            "26 day input [0.04834636 0.05919423 0.06900782 0.06819002 0.06248948 0.06164762\n",
            " 0.07011425 0.06944077 0.06956103 0.07206254 0.06987372 0.06660253\n",
            " 0.06806975 0.06494287 0.05654841 0.05972339 0.06179194 0.06313891\n",
            " 0.06905592 0.07788334 0.07874925 0.07841251 0.07675286 0.08036079\n",
            " 0.08187613 0.07562237 0.0791341  0.0771377  0.07562237 0.09029465\n",
            " 0.09012628 0.09226699 0.08734817 0.0911365  0.09991581 0.09770295\n",
            " 0.10013229 0.11148527 0.10710764 0.10434155 0.1018641  0.09397474\n",
            " 0.09782321 0.08721587 0.09760673 0.10032471 0.09294047 0.09250752\n",
            " 0.09753458 0.0927721  0.08851473 0.09017438 0.10027661 0.11191822\n",
            " 0.11720986 0.12647023 0.1270475  0.12440168 0.11244738 0.10010824\n",
            " 0.10535177 0.10739627 0.10487072 0.11316897 0.11165364 0.11201443\n",
            " 0.10984967 0.10835839 0.10773301 0.10831028 0.10306675 0.09741431\n",
            " 0.09469633 0.09508118 0.10503604 0.10359553 0.10320187 0.10358322\n",
            " 0.10441938 0.10546591 0.10657067 0.10765194 0.10867132 0.10961351\n",
            " 0.11047427 0.11125461 0.11195853 0.11259211 0.11316305 0.11368047\n",
            " 0.1141542  0.11459449 0.11501127 0.11541379 0.11581029 0.11620782\n",
            " 0.11661189 0.11702674 0.1174552  0.11789898]\n",
            "26 day output [[0.1183585]]\n",
            "27 day input [0.05919423 0.06900782 0.06819002 0.06248948 0.06164762 0.07011425\n",
            " 0.06944077 0.06956103 0.07206254 0.06987372 0.06660253 0.06806975\n",
            " 0.06494287 0.05654841 0.05972339 0.06179194 0.06313891 0.06905592\n",
            " 0.07788334 0.07874925 0.07841251 0.07675286 0.08036079 0.08187613\n",
            " 0.07562237 0.0791341  0.0771377  0.07562237 0.09029465 0.09012628\n",
            " 0.09226699 0.08734817 0.0911365  0.09991581 0.09770295 0.10013229\n",
            " 0.11148527 0.10710764 0.10434155 0.1018641  0.09397474 0.09782321\n",
            " 0.08721587 0.09760673 0.10032471 0.09294047 0.09250752 0.09753458\n",
            " 0.0927721  0.08851473 0.09017438 0.10027661 0.11191822 0.11720986\n",
            " 0.12647023 0.1270475  0.12440168 0.11244738 0.10010824 0.10535177\n",
            " 0.10739627 0.10487072 0.11316897 0.11165364 0.11201443 0.10984967\n",
            " 0.10835839 0.10773301 0.10831028 0.10306675 0.09741431 0.09469633\n",
            " 0.09508118 0.10503604 0.10359553 0.10320187 0.10358322 0.10441938\n",
            " 0.10546591 0.10657067 0.10765194 0.10867132 0.10961351 0.11047427\n",
            " 0.11125461 0.11195853 0.11259211 0.11316305 0.11368047 0.1141542\n",
            " 0.11459449 0.11501127 0.11541379 0.11581029 0.11620782 0.11661189\n",
            " 0.11702674 0.1174552  0.11789898 0.1183585 ]\n",
            "27 day output [[0.11883355]]\n",
            "28 day input [0.06900782 0.06819002 0.06248948 0.06164762 0.07011425 0.06944077\n",
            " 0.06956103 0.07206254 0.06987372 0.06660253 0.06806975 0.06494287\n",
            " 0.05654841 0.05972339 0.06179194 0.06313891 0.06905592 0.07788334\n",
            " 0.07874925 0.07841251 0.07675286 0.08036079 0.08187613 0.07562237\n",
            " 0.0791341  0.0771377  0.07562237 0.09029465 0.09012628 0.09226699\n",
            " 0.08734817 0.0911365  0.09991581 0.09770295 0.10013229 0.11148527\n",
            " 0.10710764 0.10434155 0.1018641  0.09397474 0.09782321 0.08721587\n",
            " 0.09760673 0.10032471 0.09294047 0.09250752 0.09753458 0.0927721\n",
            " 0.08851473 0.09017438 0.10027661 0.11191822 0.11720986 0.12647023\n",
            " 0.1270475  0.12440168 0.11244738 0.10010824 0.10535177 0.10739627\n",
            " 0.10487072 0.11316897 0.11165364 0.11201443 0.10984967 0.10835839\n",
            " 0.10773301 0.10831028 0.10306675 0.09741431 0.09469633 0.09508118\n",
            " 0.10503604 0.10359553 0.10320187 0.10358322 0.10441938 0.10546591\n",
            " 0.10657067 0.10765194 0.10867132 0.10961351 0.11047427 0.11125461\n",
            " 0.11195853 0.11259211 0.11316305 0.11368047 0.1141542  0.11459449\n",
            " 0.11501127 0.11541379 0.11581029 0.11620782 0.11661189 0.11702674\n",
            " 0.1174552  0.11789898 0.1183585  0.11883355]\n",
            "28 day output [[0.119323]]\n",
            "29 day input [0.06819002 0.06248948 0.06164762 0.07011425 0.06944077 0.06956103\n",
            " 0.07206254 0.06987372 0.06660253 0.06806975 0.06494287 0.05654841\n",
            " 0.05972339 0.06179194 0.06313891 0.06905592 0.07788334 0.07874925\n",
            " 0.07841251 0.07675286 0.08036079 0.08187613 0.07562237 0.0791341\n",
            " 0.0771377  0.07562237 0.09029465 0.09012628 0.09226699 0.08734817\n",
            " 0.0911365  0.09991581 0.09770295 0.10013229 0.11148527 0.10710764\n",
            " 0.10434155 0.1018641  0.09397474 0.09782321 0.08721587 0.09760673\n",
            " 0.10032471 0.09294047 0.09250752 0.09753458 0.0927721  0.08851473\n",
            " 0.09017438 0.10027661 0.11191822 0.11720986 0.12647023 0.1270475\n",
            " 0.12440168 0.11244738 0.10010824 0.10535177 0.10739627 0.10487072\n",
            " 0.11316897 0.11165364 0.11201443 0.10984967 0.10835839 0.10773301\n",
            " 0.10831028 0.10306675 0.09741431 0.09469633 0.09508118 0.10503604\n",
            " 0.10359553 0.10320187 0.10358322 0.10441938 0.10546591 0.10657067\n",
            " 0.10765194 0.10867132 0.10961351 0.11047427 0.11125461 0.11195853\n",
            " 0.11259211 0.11316305 0.11368047 0.1141542  0.11459449 0.11501127\n",
            " 0.11541379 0.11581029 0.11620782 0.11661189 0.11702674 0.1174552\n",
            " 0.11789898 0.1183585  0.11883355 0.119323  ]\n",
            "29 day output [[0.11982531]]\n",
            "[[0.10503603518009186], [0.10359552502632141], [0.10320187360048294], [0.10358321666717529], [0.10441938042640686], [0.10546591132879257], [0.10657066851854324], [0.10765194147825241], [0.10867131501436234], [0.10961350798606873], [0.11047427356243134], [0.11125461012125015], [0.11195853352546692], [0.11259210854768753], [0.1131630539894104], [0.11368046700954437], [0.11415420472621918], [0.1145944893360138], [0.11501126736402512], [0.11541379243135452], [0.11581028997898102], [0.11620781570672989], [0.11661189049482346], [0.11702673882246017], [0.11745519936084747], [0.11789897829294205], [0.11835850030183792], [0.11883354932069778], [0.1193230003118515], [0.11982531100511551]]\n"
          ],
          "name": "stdout"
        }
      ]
    },
    {
      "cell_type": "code",
      "metadata": {
        "id": "GenU38cZKbO7"
      },
      "source": [
        "day_new=np.arange(1,101)\n",
        "day_pred=np.arange(101,131)"
      ],
      "execution_count": 96,
      "outputs": []
    },
    {
      "cell_type": "code",
      "metadata": {
        "id": "8kIIZQDTKbO7"
      },
      "source": [
        "import matplotlib.pyplot as plt"
      ],
      "execution_count": 97,
      "outputs": []
    },
    {
      "cell_type": "code",
      "metadata": {
        "id": "XOn_yUaEKbO8",
        "outputId": "2456b1be-fcb3-46f9-e30c-0da22111eff3",
        "colab": {
          "base_uri": "https://localhost:8080/"
        }
      },
      "source": [
        "len(df1)"
      ],
      "execution_count": 98,
      "outputs": [
        {
          "output_type": "execute_result",
          "data": {
            "text/plain": [
              "1259"
            ]
          },
          "metadata": {
            "tags": []
          },
          "execution_count": 98
        }
      ]
    },
    {
      "cell_type": "code",
      "metadata": {
        "id": "Xa3sZaP9b9Ci",
        "outputId": "097002dc-cc2a-4e8b-9615-c758d9aecaaa",
        "colab": {
          "base_uri": "https://localhost:8080/"
        }
      },
      "source": [
        "day_new"
      ],
      "execution_count": 119,
      "outputs": [
        {
          "output_type": "execute_result",
          "data": {
            "text/plain": [
              "array([  1,   2,   3,   4,   5,   6,   7,   8,   9,  10,  11,  12,  13,\n",
              "        14,  15,  16,  17,  18,  19,  20,  21,  22,  23,  24,  25,  26,\n",
              "        27,  28,  29,  30,  31,  32,  33,  34,  35,  36,  37,  38,  39,\n",
              "        40,  41,  42,  43,  44,  45,  46,  47,  48,  49,  50,  51,  52,\n",
              "        53,  54,  55,  56,  57,  58,  59,  60,  61,  62,  63,  64,  65,\n",
              "        66,  67,  68,  69,  70,  71,  72,  73,  74,  75,  76,  77,  78,\n",
              "        79,  80,  81,  82,  83,  84,  85,  86,  87,  88,  89,  90,  91,\n",
              "        92,  93,  94,  95,  96,  97,  98,  99, 100])"
            ]
          },
          "metadata": {
            "tags": []
          },
          "execution_count": 119
        }
      ]
    },
    {
      "cell_type": "code",
      "metadata": {
        "id": "Nqr-uKTJbfyL",
        "outputId": "afdd7a4b-1c24-42ac-ee49-9bca98094868",
        "colab": {
          "base_uri": "https://localhost:8080/"
        }
      },
      "source": [
        "df1[1159:].shape"
      ],
      "execution_count": 115,
      "outputs": [
        {
          "output_type": "execute_result",
          "data": {
            "text/plain": [
              "(100, 1)"
            ]
          },
          "metadata": {
            "tags": []
          },
          "execution_count": 115
        }
      ]
    },
    {
      "cell_type": "code",
      "metadata": {
        "id": "c0C_nLBoKbO8",
        "outputId": "54dfec60-0571-47a4-f4eb-82ed11f30277",
        "colab": {
          "base_uri": "https://localhost:8080/",
          "height": 282
        }
      },
      "source": [
        "plt.plot(day_new,scaler.inverse_transform(df1[1159:]))\n",
        "plt.plot(day_pred,scaler.inverse_transform(lst_output))"
      ],
      "execution_count": 116,
      "outputs": [
        {
          "output_type": "execute_result",
          "data": {
            "text/plain": [
              "[<matplotlib.lines.Line2D at 0x7f92469b2a58>]"
            ]
          },
          "metadata": {
            "tags": []
          },
          "execution_count": 116
        },
        {
          "output_type": "display_data",
          "data": {
            "image/png": "[encoded data removed]",
            "text/plain": [
              "<Figure size 432x288 with 1 Axes>"
            ]
          },
          "metadata": {
            "tags": [],
            "needs_background": "light"
          }
        }
      ]
    },
    {
      "cell_type": "code",
      "metadata": {
        "id": "W-GfpeyEKbO8",
        "outputId": "59a7949d-125f-44a3-dc89-22e07c3393d9",
        "colab": {
          "base_uri": "https://localhost:8080/",
          "height": 285
        }
      },
      "source": [
        "df3=df1.tolist()\n",
        "df3.extend(lst_output)\n",
        "plt.plot(df3[1200:])"
      ],
      "execution_count": 120,
      "outputs": [
        {
          "output_type": "execute_result",
          "data": {
            "text/plain": [
              "[<matplotlib.lines.Line2D at 0x7f92466e3be0>]"
            ]
          },
          "metadata": {
            "tags": []
          },
          "execution_count": 120
        },
        {
          "output_type": "display_data",
          "data": {
            "image/png": "[encoded data removed]",
            "text/plain": [
              "<Figure size 432x288 with 1 Axes>"
            ]
          },
          "metadata": {
            "tags": [],
            "needs_background": "light"
          }
        }
      ]
    },
    {
      "cell_type": "code",
      "metadata": {
        "id": "DLKY12pPKbO8"
      },
      "source": [
        "df3=scaler.inverse_transform(df3).tolist()"
      ],
      "execution_count": 104,
      "outputs": []
    },
    {
      "cell_type": "code",
      "metadata": {
        "id": "exnlXqoPKbO8",
        "outputId": "84f41a6a-908e-45bb-a426-c5f5d3b4bfb5",
        "colab": {
          "base_uri": "https://localhost:8080/",
          "height": 282
        }
      },
      "source": [
        "plt.plot(df3)"
      ],
      "execution_count": 121,
      "outputs": [
        {
          "output_type": "execute_result",
          "data": {
            "text/plain": [
              "[<matplotlib.lines.Line2D at 0x7f92466b9c18>]"
            ]
          },
          "metadata": {
            "tags": []
          },
          "execution_count": 121
        },
        {
          "output_type": "display_data",
          "data": {
            "image/png": "[encoded data removed]",
            "text/plain": [
              "<Figure size 432x288 with 1 Axes>"
            ]
          },
          "metadata": {
            "tags": [],
            "needs_background": "light"
          }
        }
      ]
    },
    {
      "cell_type": "code",
      "metadata": {
        "id": "TUjONEOcKbO8"
      },
      "source": [
        ""
      ],
      "execution_count": null,
      "outputs": []
    }
  ]
}